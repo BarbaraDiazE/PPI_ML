{
 "cells": [
  {
   "cell_type": "code",
   "execution_count": 1,
   "id": "933a08e6",
   "metadata": {},
   "outputs": [],
   "source": [
    "import os\n",
    "import sys\n",
    "sys.path.insert(0, os.path.abspath('/home/babs/Documents/DIFACQUIM/PPI_ML'))"
   ]
  },
  {
   "cell_type": "code",
   "execution_count": 2,
   "id": "63264f9f",
   "metadata": {},
   "outputs": [],
   "source": [
    "import phase1\n"
   ]
  },
  {
   "cell_type": "code",
   "execution_count": 3,
   "id": "515ec2c9",
   "metadata": {},
   "outputs": [],
   "source": [
    "from phase1.support_functions.df_management import get_data, get_random_smiles, get_positive_records, filter_positive_bits, filter_negative_bits\n",
    "from phase1.support_functions.draw_molecules import get_ECFP4_bits, get_ECFP6_bits, draw_one_fragment"
   ]
  },
  {
   "cell_type": "code",
   "execution_count": 4,
   "id": "45bf59bf",
   "metadata": {},
   "outputs": [],
   "source": [
    "from phase1.support_functions.df_management import *"
   ]
  },
  {
   "cell_type": "code",
   "execution_count": 5,
   "id": "d6e7d860",
   "metadata": {},
   "outputs": [
    {
     "data": {
      "text/plain": [
       "[1390, 935, 1160, 202, 160]"
      ]
     },
     "execution_count": 5,
     "metadata": {},
     "output_type": "execute_result"
    }
   ],
   "source": [
    "coeff = get_coefficients(\"SVM17_+_-std.csv\")\n",
    "coeff = coeff.Descriptors.to_list()\n",
    "coeff[:5]"
   ]
  },
  {
   "cell_type": "code",
   "execution_count": 6,
   "id": "f42c12ea",
   "metadata": {},
   "outputs": [
    {
     "name": "stdout",
     "output_type": "stream",
     "text": [
      "   ipp_id chembl_id                                             SMILES  \\\n",
      "0     4.0       NaN     OC(=O)[C@H](Cc1c[nH]c2ccccc12)NC(=O)c1ccccc1Br   \n",
      "1     7.0       NaN  Cc1cc2CN(CCc2c(C)c1C(=O)N[C@@H](CNC(=O)c1cccs1...   \n",
      "\n",
      "  library  PPI family  PPI    0    1    2    3  ...  2038  2039  2040  2041  \\\n",
      "0     PPI  LFA / ICAM  Yes  0.0  1.0  0.0  0.0  ...   0.0   0.0   0.0   0.0   \n",
      "1     PPI  LFA / ICAM  Yes  0.0  1.0  0.0  0.0  ...   0.0   0.0   0.0   0.0   \n",
      "\n",
      "   2042  2043  2044  2045  2046  2047  \n",
      "0   0.0   0.0   0.0   0.0   0.0   0.0  \n",
      "1   0.0   0.0   0.0   0.0   0.0   0.0  \n",
      "\n",
      "[2 rows x 2054 columns]\n"
     ]
    },
    {
     "name": "stderr",
     "output_type": "stream",
     "text": [
      "/home/babs/.pyenv/versions/miniconda3-3.8-4.9.2/lib/python3.8/site-packages/IPython/core/interactiveshell.py:3357: DtypeWarning: Columns (2,5) have mixed types.Specify dtype option on import or set low_memory=False.\n",
      "  if (await self.run_code(code, result,  async_=asy)):\n"
     ]
    }
   ],
   "source": [
    "data = get_data(\"dataset_ecfp6.csv\")\n",
    "print(data.head(2))"
   ]
  },
  {
   "cell_type": "code",
   "execution_count": null,
   "id": "f912e02b",
   "metadata": {},
   "outputs": [],
   "source": []
  },
  {
   "cell_type": "code",
   "execution_count": null,
   "id": "26f86247",
   "metadata": {},
   "outputs": [],
   "source": []
  },
  {
   "cell_type": "code",
   "execution_count": null,
   "id": "bbdf56a6",
   "metadata": {},
   "outputs": [],
   "source": []
  },
  {
   "cell_type": "code",
   "execution_count": 7,
   "id": "d02dc78f",
   "metadata": {},
   "outputs": [],
   "source": [
    "import rdkit\n",
    "from rdkit import Chem\n",
    "from rdkit.Chem import rdMolDescriptors\n",
    "from rdkit.Chem.Draw import IPythonConsole"
   ]
  },
  {
   "cell_type": "code",
   "execution_count": 19,
   "id": "70abb9a6",
   "metadata": {},
   "outputs": [],
   "source": [
    "#encontrar moleculas que estan en coeff y en fragments\n"
   ]
  },
  {
   "cell_type": "markdown",
   "id": "00be36e4",
   "metadata": {},
   "source": [
    "# filter positives"
   ]
  },
  {
   "cell_type": "code",
   "execution_count": 12,
   "id": "1148af93",
   "metadata": {},
   "outputs": [
    {
     "data": {
      "text/html": [
       "<div>\n",
       "<style scoped>\n",
       "    .dataframe tbody tr th:only-of-type {\n",
       "        vertical-align: middle;\n",
       "    }\n",
       "\n",
       "    .dataframe tbody tr th {\n",
       "        vertical-align: top;\n",
       "    }\n",
       "\n",
       "    .dataframe thead th {\n",
       "        text-align: right;\n",
       "    }\n",
       "</style>\n",
       "<table border=\"1\" class=\"dataframe\">\n",
       "  <thead>\n",
       "    <tr style=\"text-align: right;\">\n",
       "      <th></th>\n",
       "      <th>ipp_id</th>\n",
       "      <th>chembl_id</th>\n",
       "      <th>SMILES</th>\n",
       "      <th>library</th>\n",
       "      <th>PPI family</th>\n",
       "      <th>PPI</th>\n",
       "      <th>0</th>\n",
       "      <th>1</th>\n",
       "      <th>2</th>\n",
       "      <th>3</th>\n",
       "      <th>...</th>\n",
       "      <th>2038</th>\n",
       "      <th>2039</th>\n",
       "      <th>2040</th>\n",
       "      <th>2041</th>\n",
       "      <th>2042</th>\n",
       "      <th>2043</th>\n",
       "      <th>2044</th>\n",
       "      <th>2045</th>\n",
       "      <th>2046</th>\n",
       "      <th>2047</th>\n",
       "    </tr>\n",
       "  </thead>\n",
       "  <tbody>\n",
       "    <tr>\n",
       "      <th>5</th>\n",
       "      <td>26.0</td>\n",
       "      <td>NaN</td>\n",
       "      <td>CC(C)c1ccccc1Sc1ccc(cc1C(F)(F)F)-c1ccnc(c1)N1C...</td>\n",
       "      <td>PPI</td>\n",
       "      <td>LFA / ICAM</td>\n",
       "      <td>Yes</td>\n",
       "      <td>0.0</td>\n",
       "      <td>1.0</td>\n",
       "      <td>1.0</td>\n",
       "      <td>0.0</td>\n",
       "      <td>...</td>\n",
       "      <td>0.0</td>\n",
       "      <td>0.0</td>\n",
       "      <td>0.0</td>\n",
       "      <td>0.0</td>\n",
       "      <td>0.0</td>\n",
       "      <td>0.0</td>\n",
       "      <td>0.0</td>\n",
       "      <td>0.0</td>\n",
       "      <td>0.0</td>\n",
       "      <td>0.0</td>\n",
       "    </tr>\n",
       "    <tr>\n",
       "      <th>7</th>\n",
       "      <td>31.0</td>\n",
       "      <td>NaN</td>\n",
       "      <td>CC(=O)N1CCN(CC1)c1cc(ccn1)-c1ccc(Sc2ccc3OCCOc3...</td>\n",
       "      <td>PPI</td>\n",
       "      <td>LFA / ICAM</td>\n",
       "      <td>Yes</td>\n",
       "      <td>0.0</td>\n",
       "      <td>0.0</td>\n",
       "      <td>0.0</td>\n",
       "      <td>0.0</td>\n",
       "      <td>...</td>\n",
       "      <td>0.0</td>\n",
       "      <td>0.0</td>\n",
       "      <td>0.0</td>\n",
       "      <td>0.0</td>\n",
       "      <td>0.0</td>\n",
       "      <td>0.0</td>\n",
       "      <td>0.0</td>\n",
       "      <td>0.0</td>\n",
       "      <td>0.0</td>\n",
       "      <td>0.0</td>\n",
       "    </tr>\n",
       "    <tr>\n",
       "      <th>8</th>\n",
       "      <td>37.0</td>\n",
       "      <td>NaN</td>\n",
       "      <td>CC(C)c1ccccc1Sc1ccc(cc1C(F)(F)F)-c1cc(ncn1)N1C...</td>\n",
       "      <td>PPI</td>\n",
       "      <td>LFA / ICAM</td>\n",
       "      <td>Yes</td>\n",
       "      <td>0.0</td>\n",
       "      <td>1.0</td>\n",
       "      <td>0.0</td>\n",
       "      <td>0.0</td>\n",
       "      <td>...</td>\n",
       "      <td>0.0</td>\n",
       "      <td>0.0</td>\n",
       "      <td>0.0</td>\n",
       "      <td>0.0</td>\n",
       "      <td>0.0</td>\n",
       "      <td>0.0</td>\n",
       "      <td>0.0</td>\n",
       "      <td>0.0</td>\n",
       "      <td>0.0</td>\n",
       "      <td>0.0</td>\n",
       "    </tr>\n",
       "    <tr>\n",
       "      <th>11</th>\n",
       "      <td>45.0</td>\n",
       "      <td>NaN</td>\n",
       "      <td>CC(C)c1ccccc1Sc1ccc(cc1C(F)(F)F)-c1cc(ncn1)N1C...</td>\n",
       "      <td>PPI</td>\n",
       "      <td>LFA / ICAM</td>\n",
       "      <td>Yes</td>\n",
       "      <td>0.0</td>\n",
       "      <td>1.0</td>\n",
       "      <td>0.0</td>\n",
       "      <td>0.0</td>\n",
       "      <td>...</td>\n",
       "      <td>0.0</td>\n",
       "      <td>0.0</td>\n",
       "      <td>0.0</td>\n",
       "      <td>0.0</td>\n",
       "      <td>0.0</td>\n",
       "      <td>0.0</td>\n",
       "      <td>0.0</td>\n",
       "      <td>0.0</td>\n",
       "      <td>0.0</td>\n",
       "      <td>0.0</td>\n",
       "    </tr>\n",
       "    <tr>\n",
       "      <th>15</th>\n",
       "      <td>75.0</td>\n",
       "      <td>NaN</td>\n",
       "      <td>COCCCNc1nc(cs1)-c1ccc(Sc2ccccc2C(C)C)c(c1)C(F)...</td>\n",
       "      <td>PPI</td>\n",
       "      <td>LFA / ICAM</td>\n",
       "      <td>Yes</td>\n",
       "      <td>0.0</td>\n",
       "      <td>1.0</td>\n",
       "      <td>0.0</td>\n",
       "      <td>0.0</td>\n",
       "      <td>...</td>\n",
       "      <td>0.0</td>\n",
       "      <td>0.0</td>\n",
       "      <td>0.0</td>\n",
       "      <td>0.0</td>\n",
       "      <td>0.0</td>\n",
       "      <td>0.0</td>\n",
       "      <td>0.0</td>\n",
       "      <td>0.0</td>\n",
       "      <td>0.0</td>\n",
       "      <td>0.0</td>\n",
       "    </tr>\n",
       "    <tr>\n",
       "      <th>...</th>\n",
       "      <td>...</td>\n",
       "      <td>...</td>\n",
       "      <td>...</td>\n",
       "      <td>...</td>\n",
       "      <td>...</td>\n",
       "      <td>...</td>\n",
       "      <td>...</td>\n",
       "      <td>...</td>\n",
       "      <td>...</td>\n",
       "      <td>...</td>\n",
       "      <td>...</td>\n",
       "      <td>...</td>\n",
       "      <td>...</td>\n",
       "      <td>...</td>\n",
       "      <td>...</td>\n",
       "      <td>...</td>\n",
       "      <td>...</td>\n",
       "      <td>...</td>\n",
       "      <td>...</td>\n",
       "      <td>...</td>\n",
       "      <td>...</td>\n",
       "    </tr>\n",
       "    <tr>\n",
       "      <th>4351</th>\n",
       "      <td>NaN</td>\n",
       "      <td>Ozenoxacin</td>\n",
       "      <td>CNC1=NC=C(C=C1C)C1=CC=C2C(=O)C(=CN(C3CC3)C2=C1...</td>\n",
       "      <td>FDA</td>\n",
       "      <td>NaN</td>\n",
       "      <td>No</td>\n",
       "      <td>0.0</td>\n",
       "      <td>0.0</td>\n",
       "      <td>0.0</td>\n",
       "      <td>0.0</td>\n",
       "      <td>...</td>\n",
       "      <td>0.0</td>\n",
       "      <td>0.0</td>\n",
       "      <td>0.0</td>\n",
       "      <td>0.0</td>\n",
       "      <td>0.0</td>\n",
       "      <td>0.0</td>\n",
       "      <td>0.0</td>\n",
       "      <td>0.0</td>\n",
       "      <td>0.0</td>\n",
       "      <td>0.0</td>\n",
       "    </tr>\n",
       "    <tr>\n",
       "      <th>4386</th>\n",
       "      <td>NaN</td>\n",
       "      <td>Oxolamine</td>\n",
       "      <td>CCN(CC)CCC1=NC(=NO1)C1=CC=CC=C1</td>\n",
       "      <td>FDA</td>\n",
       "      <td>NaN</td>\n",
       "      <td>No</td>\n",
       "      <td>0.0</td>\n",
       "      <td>0.0</td>\n",
       "      <td>0.0</td>\n",
       "      <td>0.0</td>\n",
       "      <td>...</td>\n",
       "      <td>0.0</td>\n",
       "      <td>0.0</td>\n",
       "      <td>0.0</td>\n",
       "      <td>0.0</td>\n",
       "      <td>0.0</td>\n",
       "      <td>0.0</td>\n",
       "      <td>0.0</td>\n",
       "      <td>0.0</td>\n",
       "      <td>0.0</td>\n",
       "      <td>0.0</td>\n",
       "    </tr>\n",
       "    <tr>\n",
       "      <th>4454</th>\n",
       "      <td>NaN</td>\n",
       "      <td>Anethole trithione</td>\n",
       "      <td>COC1=CC=C(C=C1)C1=CC(=S)SS1</td>\n",
       "      <td>FDA</td>\n",
       "      <td>NaN</td>\n",
       "      <td>No</td>\n",
       "      <td>0.0</td>\n",
       "      <td>0.0</td>\n",
       "      <td>0.0</td>\n",
       "      <td>0.0</td>\n",
       "      <td>...</td>\n",
       "      <td>0.0</td>\n",
       "      <td>0.0</td>\n",
       "      <td>0.0</td>\n",
       "      <td>0.0</td>\n",
       "      <td>0.0</td>\n",
       "      <td>0.0</td>\n",
       "      <td>0.0</td>\n",
       "      <td>0.0</td>\n",
       "      <td>0.0</td>\n",
       "      <td>0.0</td>\n",
       "    </tr>\n",
       "    <tr>\n",
       "      <th>4503</th>\n",
       "      <td>NaN</td>\n",
       "      <td>Acetyl sulfisoxazole</td>\n",
       "      <td>CC(=O)N(C1=C(C)C(C)=NO1)S(=O)(=O)C1=CC=C(N)C=C1</td>\n",
       "      <td>FDA</td>\n",
       "      <td>NaN</td>\n",
       "      <td>No</td>\n",
       "      <td>0.0</td>\n",
       "      <td>0.0</td>\n",
       "      <td>0.0</td>\n",
       "      <td>0.0</td>\n",
       "      <td>...</td>\n",
       "      <td>0.0</td>\n",
       "      <td>0.0</td>\n",
       "      <td>0.0</td>\n",
       "      <td>0.0</td>\n",
       "      <td>0.0</td>\n",
       "      <td>0.0</td>\n",
       "      <td>0.0</td>\n",
       "      <td>0.0</td>\n",
       "      <td>0.0</td>\n",
       "      <td>0.0</td>\n",
       "    </tr>\n",
       "    <tr>\n",
       "      <th>4598</th>\n",
       "      <td>NaN</td>\n",
       "      <td>Tedizolid</td>\n",
       "      <td>CN1N=NC(=N1)C1=NC=C(C=C1)C1=C(F)C=C(C=C1)N1C[C...</td>\n",
       "      <td>FDA</td>\n",
       "      <td>NaN</td>\n",
       "      <td>No</td>\n",
       "      <td>0.0</td>\n",
       "      <td>0.0</td>\n",
       "      <td>0.0</td>\n",
       "      <td>0.0</td>\n",
       "      <td>...</td>\n",
       "      <td>0.0</td>\n",
       "      <td>0.0</td>\n",
       "      <td>0.0</td>\n",
       "      <td>0.0</td>\n",
       "      <td>0.0</td>\n",
       "      <td>0.0</td>\n",
       "      <td>0.0</td>\n",
       "      <td>0.0</td>\n",
       "      <td>0.0</td>\n",
       "      <td>0.0</td>\n",
       "    </tr>\n",
       "  </tbody>\n",
       "</table>\n",
       "<p>756 rows × 2054 columns</p>\n",
       "</div>"
      ],
      "text/plain": [
       "      ipp_id             chembl_id  \\\n",
       "5       26.0                   NaN   \n",
       "7       31.0                   NaN   \n",
       "8       37.0                   NaN   \n",
       "11      45.0                   NaN   \n",
       "15      75.0                   NaN   \n",
       "...      ...                   ...   \n",
       "4351     NaN            Ozenoxacin   \n",
       "4386     NaN             Oxolamine   \n",
       "4454     NaN    Anethole trithione   \n",
       "4503     NaN  Acetyl sulfisoxazole   \n",
       "4598     NaN             Tedizolid   \n",
       "\n",
       "                                                 SMILES library  PPI family  \\\n",
       "5     CC(C)c1ccccc1Sc1ccc(cc1C(F)(F)F)-c1ccnc(c1)N1C...     PPI  LFA / ICAM   \n",
       "7     CC(=O)N1CCN(CC1)c1cc(ccn1)-c1ccc(Sc2ccc3OCCOc3...     PPI  LFA / ICAM   \n",
       "8     CC(C)c1ccccc1Sc1ccc(cc1C(F)(F)F)-c1cc(ncn1)N1C...     PPI  LFA / ICAM   \n",
       "11    CC(C)c1ccccc1Sc1ccc(cc1C(F)(F)F)-c1cc(ncn1)N1C...     PPI  LFA / ICAM   \n",
       "15    COCCCNc1nc(cs1)-c1ccc(Sc2ccccc2C(C)C)c(c1)C(F)...     PPI  LFA / ICAM   \n",
       "...                                                 ...     ...         ...   \n",
       "4351  CNC1=NC=C(C=C1C)C1=CC=C2C(=O)C(=CN(C3CC3)C2=C1...     FDA         NaN   \n",
       "4386                    CCN(CC)CCC1=NC(=NO1)C1=CC=CC=C1     FDA         NaN   \n",
       "4454                        COC1=CC=C(C=C1)C1=CC(=S)SS1     FDA         NaN   \n",
       "4503    CC(=O)N(C1=C(C)C(C)=NO1)S(=O)(=O)C1=CC=C(N)C=C1     FDA         NaN   \n",
       "4598  CN1N=NC(=N1)C1=NC=C(C=C1)C1=C(F)C=C(C=C1)N1C[C...     FDA         NaN   \n",
       "\n",
       "      PPI    0    1    2    3  ...  2038  2039  2040  2041  2042  2043  2044  \\\n",
       "5     Yes  0.0  1.0  1.0  0.0  ...   0.0   0.0   0.0   0.0   0.0   0.0   0.0   \n",
       "7     Yes  0.0  0.0  0.0  0.0  ...   0.0   0.0   0.0   0.0   0.0   0.0   0.0   \n",
       "8     Yes  0.0  1.0  0.0  0.0  ...   0.0   0.0   0.0   0.0   0.0   0.0   0.0   \n",
       "11    Yes  0.0  1.0  0.0  0.0  ...   0.0   0.0   0.0   0.0   0.0   0.0   0.0   \n",
       "15    Yes  0.0  1.0  0.0  0.0  ...   0.0   0.0   0.0   0.0   0.0   0.0   0.0   \n",
       "...   ...  ...  ...  ...  ...  ...   ...   ...   ...   ...   ...   ...   ...   \n",
       "4351   No  0.0  0.0  0.0  0.0  ...   0.0   0.0   0.0   0.0   0.0   0.0   0.0   \n",
       "4386   No  0.0  0.0  0.0  0.0  ...   0.0   0.0   0.0   0.0   0.0   0.0   0.0   \n",
       "4454   No  0.0  0.0  0.0  0.0  ...   0.0   0.0   0.0   0.0   0.0   0.0   0.0   \n",
       "4503   No  0.0  0.0  0.0  0.0  ...   0.0   0.0   0.0   0.0   0.0   0.0   0.0   \n",
       "4598   No  0.0  0.0  0.0  0.0  ...   0.0   0.0   0.0   0.0   0.0   0.0   0.0   \n",
       "\n",
       "      2045  2046  2047  \n",
       "5      0.0   0.0   0.0  \n",
       "7      0.0   0.0   0.0  \n",
       "8      0.0   0.0   0.0  \n",
       "11     0.0   0.0   0.0  \n",
       "15     0.0   0.0   0.0  \n",
       "...    ...   ...   ...  \n",
       "4351   0.0   0.0   0.0  \n",
       "4386   0.0   0.0   0.0  \n",
       "4454   0.0   0.0   0.0  \n",
       "4503   0.0   0.0   0.0  \n",
       "4598   0.0   0.0   0.0  \n",
       "\n",
       "[756 rows x 2054 columns]"
      ]
     },
     "execution_count": 12,
     "metadata": {},
     "output_type": "execute_result"
    }
   ],
   "source": [
    "bits_ = [1160]\n",
    "positives_0 = filter_positive_bits(bits_, data)\n",
    "positives_0"
   ]
  },
  {
   "cell_type": "code",
   "execution_count": 13,
   "id": "0c6bf540",
   "metadata": {},
   "outputs": [
    {
     "data": {
      "text/html": [
       "<div>\n",
       "<style scoped>\n",
       "    .dataframe tbody tr th:only-of-type {\n",
       "        vertical-align: middle;\n",
       "    }\n",
       "\n",
       "    .dataframe tbody tr th {\n",
       "        vertical-align: top;\n",
       "    }\n",
       "\n",
       "    .dataframe thead th {\n",
       "        text-align: right;\n",
       "    }\n",
       "</style>\n",
       "<table border=\"1\" class=\"dataframe\">\n",
       "  <thead>\n",
       "    <tr style=\"text-align: right;\">\n",
       "      <th></th>\n",
       "      <th>ipp_id</th>\n",
       "      <th>chembl_id</th>\n",
       "      <th>SMILES</th>\n",
       "      <th>library</th>\n",
       "      <th>PPI family</th>\n",
       "      <th>PPI</th>\n",
       "      <th>0</th>\n",
       "      <th>1</th>\n",
       "      <th>2</th>\n",
       "      <th>3</th>\n",
       "      <th>...</th>\n",
       "      <th>2038</th>\n",
       "      <th>2039</th>\n",
       "      <th>2040</th>\n",
       "      <th>2041</th>\n",
       "      <th>2042</th>\n",
       "      <th>2043</th>\n",
       "      <th>2044</th>\n",
       "      <th>2045</th>\n",
       "      <th>2046</th>\n",
       "      <th>2047</th>\n",
       "    </tr>\n",
       "  </thead>\n",
       "  <tbody>\n",
       "    <tr>\n",
       "      <th>356</th>\n",
       "      <td>1602.0</td>\n",
       "      <td>NaN</td>\n",
       "      <td>Cc1nnc2[C@H](CC(=O)OC(C)(C)C)N=C(c3c(C)c(C)sc3...</td>\n",
       "      <td>PPI</td>\n",
       "      <td>Bromodomain / Histone</td>\n",
       "      <td>Yes</td>\n",
       "      <td>0.0</td>\n",
       "      <td>0.0</td>\n",
       "      <td>0.0</td>\n",
       "      <td>0.0</td>\n",
       "      <td>...</td>\n",
       "      <td>0.0</td>\n",
       "      <td>0.0</td>\n",
       "      <td>0.0</td>\n",
       "      <td>1.0</td>\n",
       "      <td>0.0</td>\n",
       "      <td>0.0</td>\n",
       "      <td>0.0</td>\n",
       "      <td>0.0</td>\n",
       "      <td>0.0</td>\n",
       "      <td>0.0</td>\n",
       "    </tr>\n",
       "  </tbody>\n",
       "</table>\n",
       "<p>1 rows × 2054 columns</p>\n",
       "</div>"
      ],
      "text/plain": [
       "     ipp_id chembl_id                                             SMILES  \\\n",
       "356  1602.0       NaN  Cc1nnc2[C@H](CC(=O)OC(C)(C)C)N=C(c3c(C)c(C)sc3...   \n",
       "\n",
       "    library             PPI family  PPI    0    1    2    3  ...  2038  2039  \\\n",
       "356     PPI  Bromodomain / Histone  Yes  0.0  0.0  0.0  0.0  ...   0.0   0.0   \n",
       "\n",
       "     2040  2041  2042  2043  2044  2045  2046  2047  \n",
       "356   0.0   1.0   0.0   0.0   0.0   0.0   0.0   0.0  \n",
       "\n",
       "[1 rows x 2054 columns]"
      ]
     },
     "execution_count": 13,
     "metadata": {},
     "output_type": "execute_result"
    }
   ],
   "source": [
    "positives_0[positives_0[\"ipp_id\"]==1602.0]"
   ]
  },
  {
   "cell_type": "code",
   "execution_count": 22,
   "id": "c1e3a212",
   "metadata": {},
   "outputs": [
    {
     "data": {
      "text/plain": [
       "'Cc1nnc2[C@H](CC(=O)OC(C)(C)C)N=C(c3c(C)c(C)sc3-n12)c1ccc(Cl)cc1'"
      ]
     },
     "execution_count": 22,
     "metadata": {},
     "output_type": "execute_result"
    }
   ],
   "source": [
    "positive_molecule = positives_0[positives_0[\"ipp_id\"]==1602.0].SMILES\n",
    "positive_molecule = positive_molecule.iloc[0]\n",
    "positive_molecule"
   ]
  },
  {
   "cell_type": "code",
   "execution_count": 19,
   "id": "d5506841",
   "metadata": {},
   "outputs": [],
   "source": [
    "# bits_ = [1390, 935]\n",
    "# positives_1 = filter_positive_bits(bits_, data)\n",
    "# print(f\"molecules : {positives_1.shape}\")\n",
    "# print(positives_1.iloc[2][[\"ipp_id\", \"SMILES\"]])"
   ]
  },
  {
   "cell_type": "code",
   "execution_count": null,
   "id": "a073b866",
   "metadata": {},
   "outputs": [],
   "source": []
  },
  {
   "cell_type": "code",
   "execution_count": null,
   "id": "d316551a",
   "metadata": {},
   "outputs": [],
   "source": []
  },
  {
   "cell_type": "code",
   "execution_count": 23,
   "id": "d7774bc3",
   "metadata": {},
   "outputs": [
    {
     "data": {
      "image/png": "[encoded data removed]",
      "text/plain": [
       "<PIL.PngImagePlugin.PngImageFile image mode=RGB size=150x150 at 0x7FE0F173E880>"
      ]
     },
     "execution_count": 23,
     "metadata": {},
     "output_type": "execute_result"
    }
   ],
   "source": [
    "draw_one_fragment(positive_molecule, 935, 3)"
   ]
  },
  {
   "cell_type": "code",
   "execution_count": 24,
   "id": "427ddf06",
   "metadata": {},
   "outputs": [
    {
     "data": {
      "image/png": "[encoded data removed]",
      "text/plain": [
       "<rdkit.Chem.rdchem.Mol at 0x7fe0f020e440>"
      ]
     },
     "execution_count": 24,
     "metadata": {},
     "output_type": "execute_result"
    }
   ],
   "source": [
    "mol_ = Chem.MolFromSmiles(positive_molecule)\n",
    "mol_"
   ]
  },
  {
   "cell_type": "code",
   "execution_count": 30,
   "id": "ace0a65e",
   "metadata": {},
   "outputs": [
    {
     "data": {
      "image/svg+xml": [
       "<svg xmlns=\"http://www.w3.org/2000/svg\" xmlns:rdkit=\"http://www.rdkit.org/xml\" xmlns:xlink=\"http://www.w3.org/1999/xlink\" version=\"1.1\" baseProfile=\"full\" xml:space=\"preserve\" width=\"450px\" height=\"450px\" viewBox=\"0 0 450 450\">\n",
       "<!-- END OF HEADER -->\n",
       "<rect style=\"opacity:1.0;fill:#FFFFFF;stroke:none\" width=\"450.0\" height=\"450.0\" x=\"0.0\" y=\"0.0\"> </rect>\n",
       "<path class=\"bond-0 atom-0 atom-1\" d=\"M 98.1,392.7 L 143.5,379.4\" style=\"fill:none;fill-rule:evenodd;stroke:#000000;stroke-width:2.0px;stroke-linecap:butt;stroke-linejoin:miter;stroke-opacity:1\"/>\n",
       "<path class=\"bond-1 atom-1 atom-2\" d=\"M 143.5,379.4 L 159.0,391.3\" style=\"fill:none;fill-rule:evenodd;stroke:#000000;stroke-width:2.0px;stroke-linecap:butt;stroke-linejoin:miter;stroke-opacity:1\"/>\n",
       "<path class=\"bond-1 atom-1 atom-2\" d=\"M 159.0,391.3 L 174.4,403.2\" style=\"fill:none;fill-rule:evenodd;stroke:#0000FF;stroke-width:2.0px;stroke-linecap:butt;stroke-linejoin:miter;stroke-opacity:1\"/>\n",
       "<path class=\"bond-1 atom-1 atom-2\" d=\"M 154.0,375.5 L 164.8,383.8\" style=\"fill:none;fill-rule:evenodd;stroke:#000000;stroke-width:2.0px;stroke-linecap:butt;stroke-linejoin:miter;stroke-opacity:1\"/>\n",
       "<path class=\"bond-1 atom-1 atom-2\" d=\"M 164.8,383.8 L 175.6,392.2\" style=\"fill:none;fill-rule:evenodd;stroke:#0000FF;stroke-width:2.0px;stroke-linecap:butt;stroke-linejoin:miter;stroke-opacity:1\"/>\n",
       "<path class=\"bond-2 atom-2 atom-3\" d=\"M 187.7,403.8 L 213.6,386.2\" style=\"fill:none;fill-rule:evenodd;stroke:#0000FF;stroke-width:2.0px;stroke-linecap:butt;stroke-linejoin:miter;stroke-opacity:1\"/>\n",
       "<path class=\"bond-3 atom-3 atom-4\" d=\"M 217.8,373.3 L 212.3,354.7\" style=\"fill:none;fill-rule:evenodd;stroke:#0000FF;stroke-width:2.0px;stroke-linecap:butt;stroke-linejoin:miter;stroke-opacity:1\"/>\n",
       "<path class=\"bond-3 atom-3 atom-4\" d=\"M 212.3,354.7 L 206.9,336.1\" style=\"fill:none;fill-rule:evenodd;stroke:#000000;stroke-width:2.0px;stroke-linecap:butt;stroke-linejoin:miter;stroke-opacity:1\"/>\n",
       "<path class=\"bond-3 atom-3 atom-4\" d=\"M 207.1,370.4 L 203.2,357.4\" style=\"fill:none;fill-rule:evenodd;stroke:#0000FF;stroke-width:2.0px;stroke-linecap:butt;stroke-linejoin:miter;stroke-opacity:1\"/>\n",
       "<path class=\"bond-3 atom-3 atom-4\" d=\"M 203.2,357.4 L 199.4,344.4\" style=\"fill:none;fill-rule:evenodd;stroke:#000000;stroke-width:2.0px;stroke-linecap:butt;stroke-linejoin:miter;stroke-opacity:1\"/>\n",
       "<path class=\"bond-4 atom-4 atom-5\" d=\"M 206.9,336.1 L 237.5,299.9\" style=\"fill:none;fill-rule:evenodd;stroke:#000000;stroke-width:2.0px;stroke-linecap:butt;stroke-linejoin:miter;stroke-opacity:1\"/>\n",
       "<path class=\"bond-5 atom-5 atom-6\" d=\"M 237.5,299.9 L 284.6,307.2 L 282.2,316.4 Z\" style=\"fill:#000000;fill-rule:evenodd;fill-opacity:1;stroke:#000000;stroke-width:1.0px;stroke-linecap:butt;stroke-linejoin:miter;stroke-opacity:1;\"/>\n",
       "<path class=\"bond-6 atom-6 atom-7\" d=\"M 283.4,311.8 L 316.6,278.0\" style=\"fill:none;fill-rule:evenodd;stroke:#000000;stroke-width:2.0px;stroke-linecap:butt;stroke-linejoin:miter;stroke-opacity:1\"/>\n",
       "<path class=\"bond-7 atom-7 atom-8\" d=\"M 312.1,279.3 L 306.9,260.7\" style=\"fill:none;fill-rule:evenodd;stroke:#000000;stroke-width:2.0px;stroke-linecap:butt;stroke-linejoin:miter;stroke-opacity:1\"/>\n",
       "<path class=\"bond-7 atom-7 atom-8\" d=\"M 306.9,260.7 L 301.8,242.2\" style=\"fill:none;fill-rule:evenodd;stroke:#FF0000;stroke-width:2.0px;stroke-linecap:butt;stroke-linejoin:miter;stroke-opacity:1\"/>\n",
       "<path class=\"bond-7 atom-7 atom-8\" d=\"M 321.2,276.8 L 316.0,258.2\" style=\"fill:none;fill-rule:evenodd;stroke:#000000;stroke-width:2.0px;stroke-linecap:butt;stroke-linejoin:miter;stroke-opacity:1\"/>\n",
       "<path class=\"bond-7 atom-7 atom-8\" d=\"M 316.0,258.2 L 310.9,239.6\" style=\"fill:none;fill-rule:evenodd;stroke:#FF0000;stroke-width:2.0px;stroke-linecap:butt;stroke-linejoin:miter;stroke-opacity:1\"/>\n",
       "<path class=\"bond-8 atom-7 atom-9\" d=\"M 316.6,278.0 L 335.7,283.0\" style=\"fill:none;fill-rule:evenodd;stroke:#000000;stroke-width:2.0px;stroke-linecap:butt;stroke-linejoin:miter;stroke-opacity:1\"/>\n",
       "<path class=\"bond-8 atom-7 atom-9\" d=\"M 335.7,283.0 L 354.8,287.9\" style=\"fill:none;fill-rule:evenodd;stroke:#FF0000;stroke-width:2.0px;stroke-linecap:butt;stroke-linejoin:miter;stroke-opacity:1\"/>\n",
       "<path class=\"bond-9 atom-9 atom-10\" d=\"M 370.2,282.0 L 383.0,269.1\" style=\"fill:none;fill-rule:evenodd;stroke:#FF0000;stroke-width:2.0px;stroke-linecap:butt;stroke-linejoin:miter;stroke-opacity:1\"/>\n",
       "<path class=\"bond-9 atom-9 atom-10\" d=\"M 383.0,269.1 L 395.7,256.1\" style=\"fill:none;fill-rule:evenodd;stroke:#000000;stroke-width:2.0px;stroke-linecap:butt;stroke-linejoin:miter;stroke-opacity:1\"/>\n",
       "<path class=\"bond-10 atom-10 atom-11\" d=\"M 395.7,256.1 L 429.5,289.3\" style=\"fill:none;fill-rule:evenodd;stroke:#000000;stroke-width:2.0px;stroke-linecap:butt;stroke-linejoin:miter;stroke-opacity:1\"/>\n",
       "<path class=\"bond-11 atom-10 atom-12\" d=\"M 395.7,256.1 L 361.9,222.9\" style=\"fill:none;fill-rule:evenodd;stroke:#000000;stroke-width:2.0px;stroke-linecap:butt;stroke-linejoin:miter;stroke-opacity:1\"/>\n",
       "<path class=\"bond-12 atom-10 atom-13\" d=\"M 395.7,256.1 L 429.0,222.3\" style=\"fill:none;fill-rule:evenodd;stroke:#000000;stroke-width:2.0px;stroke-linecap:butt;stroke-linejoin:miter;stroke-opacity:1\"/>\n",
       "<path class=\"bond-13 atom-5 atom-14\" d=\"M 237.5,299.9 L 233.7,280.8\" style=\"fill:none;fill-rule:evenodd;stroke:#000000;stroke-width:2.0px;stroke-linecap:butt;stroke-linejoin:miter;stroke-opacity:1\"/>\n",
       "<path class=\"bond-13 atom-5 atom-14\" d=\"M 233.7,280.8 L 229.9,261.7\" style=\"fill:none;fill-rule:evenodd;stroke:#0000FF;stroke-width:2.0px;stroke-linecap:butt;stroke-linejoin:miter;stroke-opacity:1\"/>\n",
       "<path class=\"bond-14 atom-14 atom-15\" d=\"M 221.6,250.0 L 203.9,240.8\" style=\"fill:none;fill-rule:evenodd;stroke:#0000FF;stroke-width:2.0px;stroke-linecap:butt;stroke-linejoin:miter;stroke-opacity:1\"/>\n",
       "<path class=\"bond-14 atom-14 atom-15\" d=\"M 203.9,240.8 L 186.2,231.7\" style=\"fill:none;fill-rule:evenodd;stroke:#000000;stroke-width:2.0px;stroke-linecap:butt;stroke-linejoin:miter;stroke-opacity:1\"/>\n",
       "<path class=\"bond-14 atom-14 atom-15\" d=\"M 212.0,255.7 L 199.6,249.2\" style=\"fill:none;fill-rule:evenodd;stroke:#0000FF;stroke-width:2.0px;stroke-linecap:butt;stroke-linejoin:miter;stroke-opacity:1\"/>\n",
       "<path class=\"bond-14 atom-14 atom-15\" d=\"M 199.6,249.2 L 187.1,242.8\" style=\"fill:none;fill-rule:evenodd;stroke:#000000;stroke-width:2.0px;stroke-linecap:butt;stroke-linejoin:miter;stroke-opacity:1\"/>\n",
       "<path class=\"bond-15 atom-15 atom-16\" d=\"M 186.2,231.7 L 142.9,251.0\" style=\"fill:none;fill-rule:evenodd;stroke:#000000;stroke-width:2.0px;stroke-linecap:butt;stroke-linejoin:miter;stroke-opacity:1\"/>\n",
       "<path class=\"bond-16 atom-16 atom-17\" d=\"M 142.9,251.0 L 102.9,225.5\" style=\"fill:none;fill-rule:evenodd;stroke:#000000;stroke-width:2.0px;stroke-linecap:butt;stroke-linejoin:miter;stroke-opacity:1\"/>\n",
       "<path class=\"bond-17 atom-17 atom-18\" d=\"M 102.9,225.5 L 100.0,178.2\" style=\"fill:none;fill-rule:evenodd;stroke:#000000;stroke-width:2.0px;stroke-linecap:butt;stroke-linejoin:miter;stroke-opacity:1\"/>\n",
       "<path class=\"bond-18 atom-17 atom-19\" d=\"M 102.9,225.5 L 66.3,255.6\" style=\"fill:none;fill-rule:evenodd;stroke:#000000;stroke-width:2.0px;stroke-linecap:butt;stroke-linejoin:miter;stroke-opacity:1\"/>\n",
       "<path class=\"bond-18 atom-17 atom-19\" d=\"M 103.5,237.3 L 77.9,258.4\" style=\"fill:none;fill-rule:evenodd;stroke:#000000;stroke-width:2.0px;stroke-linecap:butt;stroke-linejoin:miter;stroke-opacity:1\"/>\n",
       "<path class=\"bond-19 atom-19 atom-20\" d=\"M 66.3,255.6 L 20.5,243.8\" style=\"fill:none;fill-rule:evenodd;stroke:#000000;stroke-width:2.0px;stroke-linecap:butt;stroke-linejoin:miter;stroke-opacity:1\"/>\n",
       "<path class=\"bond-20 atom-19 atom-21\" d=\"M 66.3,255.6 L 73.4,273.6\" style=\"fill:none;fill-rule:evenodd;stroke:#000000;stroke-width:2.0px;stroke-linecap:butt;stroke-linejoin:miter;stroke-opacity:1\"/>\n",
       "<path class=\"bond-20 atom-19 atom-21\" d=\"M 73.4,273.6 L 80.5,291.5\" style=\"fill:none;fill-rule:evenodd;stroke:#CCCC00;stroke-width:2.0px;stroke-linecap:butt;stroke-linejoin:miter;stroke-opacity:1\"/>\n",
       "<path class=\"bond-21 atom-21 atom-22\" d=\"M 89.6,299.4 L 110.3,298.1\" style=\"fill:none;fill-rule:evenodd;stroke:#CCCC00;stroke-width:2.0px;stroke-linecap:butt;stroke-linejoin:miter;stroke-opacity:1\"/>\n",
       "<path class=\"bond-21 atom-21 atom-22\" d=\"M 110.3,298.1 L 131.0,296.9\" style=\"fill:none;fill-rule:evenodd;stroke:#000000;stroke-width:2.0px;stroke-linecap:butt;stroke-linejoin:miter;stroke-opacity:1\"/>\n",
       "<path class=\"bond-22 atom-22 atom-23\" d=\"M 131.0,296.9 L 142.1,311.7\" style=\"fill:none;fill-rule:evenodd;stroke:#000000;stroke-width:2.0px;stroke-linecap:butt;stroke-linejoin:miter;stroke-opacity:1\"/>\n",
       "<path class=\"bond-22 atom-22 atom-23\" d=\"M 142.1,311.7 L 153.3,326.5\" style=\"fill:none;fill-rule:evenodd;stroke:#0000FF;stroke-width:2.0px;stroke-linecap:butt;stroke-linejoin:miter;stroke-opacity:1\"/>\n",
       "<path class=\"bond-23 atom-15 atom-24\" d=\"M 186.2,231.7 L 187.6,184.3\" style=\"fill:none;fill-rule:evenodd;stroke:#000000;stroke-width:2.0px;stroke-linecap:butt;stroke-linejoin:miter;stroke-opacity:1\"/>\n",
       "<path class=\"bond-24 atom-24 atom-25\" d=\"M 187.6,184.3 L 229.3,161.8\" style=\"fill:none;fill-rule:evenodd;stroke:#000000;stroke-width:2.0px;stroke-linecap:butt;stroke-linejoin:miter;stroke-opacity:1\"/>\n",
       "<path class=\"bond-24 atom-24 atom-25\" d=\"M 189.3,172.5 L 218.5,156.8\" style=\"fill:none;fill-rule:evenodd;stroke:#000000;stroke-width:2.0px;stroke-linecap:butt;stroke-linejoin:miter;stroke-opacity:1\"/>\n",
       "<path class=\"bond-25 atom-25 atom-26\" d=\"M 229.3,161.8 L 230.7,114.4\" style=\"fill:none;fill-rule:evenodd;stroke:#000000;stroke-width:2.0px;stroke-linecap:butt;stroke-linejoin:miter;stroke-opacity:1\"/>\n",
       "<path class=\"bond-26 atom-26 atom-27\" d=\"M 230.7,114.4 L 190.3,89.5\" style=\"fill:none;fill-rule:evenodd;stroke:#000000;stroke-width:2.0px;stroke-linecap:butt;stroke-linejoin:miter;stroke-opacity:1\"/>\n",
       "<path class=\"bond-26 atom-26 atom-27\" d=\"M 219.6,118.7 L 191.4,101.3\" style=\"fill:none;fill-rule:evenodd;stroke:#000000;stroke-width:2.0px;stroke-linecap:butt;stroke-linejoin:miter;stroke-opacity:1\"/>\n",
       "<path class=\"bond-27 atom-27 atom-28\" d=\"M 190.3,89.5 L 190.9,70.3\" style=\"fill:none;fill-rule:evenodd;stroke:#000000;stroke-width:2.0px;stroke-linecap:butt;stroke-linejoin:miter;stroke-opacity:1\"/>\n",
       "<path class=\"bond-27 atom-27 atom-28\" d=\"M 190.9,70.3 L 191.4,51.0\" style=\"fill:none;fill-rule:evenodd;stroke:#00CC00;stroke-width:2.0px;stroke-linecap:butt;stroke-linejoin:miter;stroke-opacity:1\"/>\n",
       "<path class=\"bond-28 atom-27 atom-29\" d=\"M 190.3,89.5 L 148.6,112.0\" style=\"fill:none;fill-rule:evenodd;stroke:#000000;stroke-width:2.0px;stroke-linecap:butt;stroke-linejoin:miter;stroke-opacity:1\"/>\n",
       "<path class=\"bond-29 atom-29 atom-30\" d=\"M 148.6,112.0 L 147.2,159.4\" style=\"fill:none;fill-rule:evenodd;stroke:#000000;stroke-width:2.0px;stroke-linecap:butt;stroke-linejoin:miter;stroke-opacity:1\"/>\n",
       "<path class=\"bond-29 atom-29 atom-30\" d=\"M 157.9,119.4 L 156.9,152.6\" style=\"fill:none;fill-rule:evenodd;stroke:#000000;stroke-width:2.0px;stroke-linecap:butt;stroke-linejoin:miter;stroke-opacity:1\"/>\n",
       "<path class=\"bond-30 atom-23 atom-1\" d=\"M 156.5,343.0 L 150.0,361.2\" style=\"fill:none;fill-rule:evenodd;stroke:#0000FF;stroke-width:2.0px;stroke-linecap:butt;stroke-linejoin:miter;stroke-opacity:1\"/>\n",
       "<path class=\"bond-30 atom-23 atom-1\" d=\"M 150.0,361.2 L 143.5,379.4\" style=\"fill:none;fill-rule:evenodd;stroke:#000000;stroke-width:2.0px;stroke-linecap:butt;stroke-linejoin:miter;stroke-opacity:1\"/>\n",
       "<path class=\"bond-31 atom-30 atom-24\" d=\"M 147.2,159.4 L 187.6,184.3\" style=\"fill:none;fill-rule:evenodd;stroke:#000000;stroke-width:2.0px;stroke-linecap:butt;stroke-linejoin:miter;stroke-opacity:1\"/>\n",
       "<path class=\"bond-32 atom-23 atom-4\" d=\"M 166.1,335.0 L 186.5,335.5\" style=\"fill:none;fill-rule:evenodd;stroke:#0000FF;stroke-width:2.0px;stroke-linecap:butt;stroke-linejoin:miter;stroke-opacity:1\"/>\n",
       "<path class=\"bond-32 atom-23 atom-4\" d=\"M 186.5,335.5 L 206.9,336.1\" style=\"fill:none;fill-rule:evenodd;stroke:#000000;stroke-width:2.0px;stroke-linecap:butt;stroke-linejoin:miter;stroke-opacity:1\"/>\n",
       "<path class=\"bond-33 atom-22 atom-16\" d=\"M 131.0,296.9 L 142.9,251.0\" style=\"fill:none;fill-rule:evenodd;stroke:#000000;stroke-width:2.0px;stroke-linecap:butt;stroke-linejoin:miter;stroke-opacity:1\"/>\n",
       "<path class=\"bond-33 atom-22 atom-16\" d=\"M 123.6,287.6 L 131.9,255.5\" style=\"fill:none;fill-rule:evenodd;stroke:#000000;stroke-width:2.0px;stroke-linecap:butt;stroke-linejoin:miter;stroke-opacity:1\"/>\n",
       "<path class=\"atom-2\" d=\"M 178.1 401.7 L 182.5 408.8 Q 182.9 409.5, 183.6 410.7 Q 184.3 412.0, 184.4 412.1 L 184.4 401.7 L 186.2 401.7 L 186.2 415.1 L 184.3 415.1 L 179.6 407.3 Q 179.1 406.4, 178.5 405.4 Q 177.9 404.3, 177.7 404.0 L 177.7 415.1 L 176.0 415.1 L 176.0 401.7 L 178.1 401.7 \" fill=\"#0000FF\"/>\n",
       "<path class=\"atom-3\" d=\"M 217.2 374.9 L 221.6 382.0 Q 222.1 382.7, 222.8 384.0 Q 223.5 385.3, 223.5 385.3 L 223.5 374.9 L 225.3 374.9 L 225.3 388.3 L 223.5 388.3 L 218.7 380.6 Q 218.2 379.7, 217.6 378.6 Q 217.0 377.6, 216.9 377.2 L 216.9 388.3 L 215.1 388.3 L 215.1 374.9 L 217.2 374.9 \" fill=\"#0000FF\"/>\n",
       "<path class=\"atom-8\" d=\"M 297.8 232.4 Q 297.8 229.2, 299.4 227.4 Q 301.0 225.6, 304.0 225.6 Q 306.9 225.6, 308.5 227.4 Q 310.1 229.2, 310.1 232.4 Q 310.1 235.6, 308.5 237.5 Q 306.9 239.3, 304.0 239.3 Q 301.0 239.3, 299.4 237.5 Q 297.8 235.7, 297.8 232.4 M 304.0 237.8 Q 306.0 237.8, 307.1 236.5 Q 308.2 235.1, 308.2 232.4 Q 308.2 229.7, 307.1 228.4 Q 306.0 227.1, 304.0 227.1 Q 301.9 227.1, 300.8 228.4 Q 299.7 229.7, 299.7 232.4 Q 299.7 235.1, 300.8 236.5 Q 301.9 237.8, 304.0 237.8 \" fill=\"#FF0000\"/>\n",
       "<path class=\"atom-9\" d=\"M 356.3 289.9 Q 356.3 286.7, 357.9 284.9 Q 359.5 283.1, 362.5 283.1 Q 365.5 283.1, 367.1 284.9 Q 368.7 286.7, 368.7 289.9 Q 368.7 293.2, 367.1 295.1 Q 365.4 296.9, 362.5 296.9 Q 359.6 296.9, 357.9 295.1 Q 356.3 293.2, 356.3 289.9 M 362.5 295.4 Q 364.6 295.4, 365.7 294.0 Q 366.8 292.6, 366.8 289.9 Q 366.8 287.3, 365.7 286.0 Q 364.6 284.6, 362.5 284.6 Q 360.5 284.6, 359.3 286.0 Q 358.2 287.3, 358.2 289.9 Q 358.2 292.7, 359.3 294.0 Q 360.5 295.4, 362.5 295.4 \" fill=\"#FF0000\"/>\n",
       "<path class=\"atom-14\" d=\"M 225.3 246.7 L 229.7 253.8 Q 230.2 254.5, 230.9 255.8 Q 231.6 257.1, 231.6 257.2 L 231.6 246.7 L 233.4 246.7 L 233.4 260.2 L 231.5 260.2 L 226.8 252.4 Q 226.3 251.5, 225.7 250.4 Q 225.1 249.4, 224.9 249.1 L 224.9 260.2 L 223.2 260.2 L 223.2 246.7 L 225.3 246.7 \" fill=\"#0000FF\"/>\n",
       "<path class=\"atom-21\" d=\"M 79.9 304.4 Q 80.1 304.4, 80.7 304.7 Q 81.3 304.9, 82.0 305.1 Q 82.7 305.3, 83.4 305.3 Q 84.7 305.3, 85.4 304.7 Q 86.1 304.0, 86.1 303.0 Q 86.1 302.2, 85.8 301.8 Q 85.4 301.3, 84.8 301.1 Q 84.3 300.8, 83.3 300.5 Q 82.1 300.2, 81.4 299.8 Q 80.7 299.5, 80.2 298.8 Q 79.7 298.0, 79.7 296.8 Q 79.7 295.1, 80.8 294.1 Q 82.0 293.1, 84.3 293.1 Q 85.8 293.1, 87.6 293.8 L 87.1 295.3 Q 85.5 294.6, 84.3 294.6 Q 83.0 294.6, 82.3 295.1 Q 81.6 295.7, 81.6 296.6 Q 81.6 297.3, 81.9 297.8 Q 82.3 298.2, 82.9 298.4 Q 83.4 298.7, 84.3 299.0 Q 85.5 299.3, 86.2 299.7 Q 87.0 300.1, 87.5 300.9 Q 88.0 301.6, 88.0 303.0 Q 88.0 304.8, 86.8 305.8 Q 85.5 306.8, 83.5 306.8 Q 82.3 306.8, 81.4 306.5 Q 80.5 306.3, 79.4 305.9 L 79.9 304.4 \" fill=\"#CCCC00\"/>\n",
       "<path class=\"atom-23\" d=\"M 156.5 328.1 L 160.9 335.2 Q 161.4 335.9, 162.1 337.1 Q 162.8 338.4, 162.8 338.5 L 162.8 328.1 L 164.6 328.1 L 164.6 341.5 L 162.7 341.5 L 158.0 333.7 Q 157.5 332.8, 156.9 331.8 Q 156.3 330.7, 156.1 330.4 L 156.1 341.5 L 154.4 341.5 L 154.4 328.1 L 156.5 328.1 \" fill=\"#0000FF\"/>\n",
       "<path class=\"atom-28\" d=\"M 186.5 42.6 Q 186.5 39.2, 188.1 37.5 Q 189.6 35.7, 192.6 35.7 Q 195.4 35.7, 196.9 37.7 L 195.6 38.7 Q 194.5 37.3, 192.6 37.3 Q 190.6 37.3, 189.5 38.7 Q 188.4 40.0, 188.4 42.6 Q 188.4 45.2, 189.5 46.6 Q 190.7 48.0, 192.8 48.0 Q 194.3 48.0, 196.0 47.1 L 196.5 48.5 Q 195.8 49.0, 194.8 49.2 Q 193.7 49.5, 192.5 49.5 Q 189.6 49.5, 188.1 47.7 Q 186.5 45.9, 186.5 42.6 \" fill=\"#00CC00\"/>\n",
       "<path class=\"atom-28\" d=\"M 197.6 34.9 L 199.4 34.9 L 199.4 49.3 L 197.6 49.3 L 197.6 34.9 \" fill=\"#00CC00\"/>\n",
       "<text x=\"110\" y=\"440\" font-size=\"16\" font-family=\"Verdana\" font-weight=\"normal\" letter-spacing=\"0\" text-anchor=\"start\" fill=\"black\">46907787 PubChem ID</text></svg>"
      ],
      "text/plain": [
       "<IPython.core.display.SVG object>"
      ]
     },
     "execution_count": 30,
     "metadata": {},
     "output_type": "execute_result"
    }
   ],
   "source": [
    "from rdkit import Chem\n",
    "from IPython.display import SVG\n",
    "from rdkit.Chem import rdDepictor\n",
    "from rdkit.Chem.Draw import rdMolDraw2D\n",
    "\n",
    "mol = Chem.MolFromSmiles('Cc1nnc2[C@H](CC(=O)OC(C)(C)C)N=C(c3c(C)c(C)sc3-n12)c1ccc(Cl)cc1')\n",
    "rdDepictor.Compute2DCoords(mol)\n",
    "drawer = rdMolDraw2D.MolDraw2DSVG(450, 450)\n",
    "drawer.DrawMolecule(mol)\n",
    "drawer.FinishDrawing()\n",
    "\n",
    "# svg to text\n",
    "s = drawer.GetDrawingText()\n",
    "s = s.replace('svg:','')\n",
    "\n",
    "# use svgutils to add text to svg\n",
    "import svgutils.transform as sg\n",
    "fig = sg.fromstring(s)\n",
    "label = sg.TextElement(110, 440, \n",
    "                       \"46907787 PubChem ID\", size=16, \n",
    "                      )\n",
    "fig.append(label)\n",
    "root = \"/home/babs/Documents/DIFACQUIM/PPI_ML/phase1/driver_code/chemical_structures/\"\n",
    "fig.save(f\"{root}1602.svg\")\n",
    "SVG(fig.to_str())"
   ]
  },
  {
   "cell_type": "code",
   "execution_count": 25,
   "id": "e15a7fe4",
   "metadata": {},
   "outputs": [
    {
     "data": {
      "text/plain": [
       "PIL.PngImagePlugin.PngImageFile"
      ]
     },
     "execution_count": 25,
     "metadata": {},
     "output_type": "execute_result"
    }
   ],
   "source": [
    "mol_ = Chem.Draw.MolToImage(mol_)\n",
    "type(mol_)"
   ]
  },
  {
   "cell_type": "code",
   "execution_count": 34,
   "id": "cd59b1de",
   "metadata": {},
   "outputs": [],
   "source": [
    "from rdkit.Chem import rdMolDescriptors\n",
    "from rdkit.Chem import Draw\n",
    "positive_mol = Chem.MolFromSmiles(positive_molecule)\n",
    "bi = {}\n",
    "fp = rdMolDescriptors.GetMorganFingerprintAsBitVect(\n",
    "        positive_mol, radius=3, bitInfo=bi)"
   ]
  },
  {
   "cell_type": "code",
   "execution_count": 41,
   "id": "b464bef2",
   "metadata": {},
   "outputs": [
    {
     "data": {
      "text/plain": [
       "[935, 1160, 1747]"
      ]
     },
     "execution_count": 41,
     "metadata": {},
     "output_type": "execute_result"
    }
   ],
   "source": [
    "desired_bits = common_bits(coeff, get_ECFP6_bits(positive_molecule))\n",
    "desired_bits"
   ]
  },
  {
   "cell_type": "code",
   "execution_count": 42,
   "id": "e8b1cb45",
   "metadata": {},
   "outputs": [],
   "source": [
    "desired_bits = (935, 1160, 1747)"
   ]
  },
  {
   "cell_type": "code",
   "execution_count": 47,
   "id": "d14ae320",
   "metadata": {},
   "outputs": [],
   "source": [
    "#Visualizacion con filtro\n",
    "tpls =[(positive_mol,x,bi) for x in fp.GetOnBits() if x in desired_bits]\n",
    "# print(tpls)\n",
    "\n",
    "\n",
    "drawOptions = Draw.rdMolDraw2D.MolDrawOptions()\n",
    "drawer = Draw.DrawMorganBits(tpls,molsPerRow=4,legends=[str(x) for x in fp.GetOnBits() if x in desired_bits ], \n",
    "                             #useSVG=True,\n",
    "                             subImgSize=(450, 450),\n",
    "                             drawOptions = drawOptions,\n",
    "                            )\n"
   ]
  },
  {
   "cell_type": "code",
   "execution_count": 51,
   "id": "9313189a",
   "metadata": {},
   "outputs": [],
   "source": [
    "drawer.save(f\"{root}1602_fragments.jpg\")"
   ]
  },
  {
   "cell_type": "code",
   "execution_count": 52,
   "id": "cf36adba",
   "metadata": {},
   "outputs": [
    {
     "data": {
      "image/png": "[encoded data removed]",
      "text/plain": [
       "<PIL.PngImagePlugin.PngImageFile image mode=RGB size=1800x450 at 0x7FE0F0250670>"
      ]
     },
     "execution_count": 52,
     "metadata": {},
     "output_type": "execute_result"
    }
   ],
   "source": [
    "drawer"
   ]
  },
  {
   "cell_type": "code",
   "execution_count": 53,
   "id": "533e413e",
   "metadata": {},
   "outputs": [],
   "source": [
    "from PIL import Image\n",
    "#Read the two images\n",
    "#image1 = mol_\n",
    "image1 = Image.open(f'{root}1602.jpg')\n",
    "image1.show()\n",
    "image2 = Image.open(f'{root}1602_fragments.jpg')\n",
    "#image2.show()\n",
    "#resize, first image\n",
    "image1 = image1.resize((450, 450))\n",
    "#image2 = image2.resize((450, 450))\n",
    "image1_size = image1.size\n",
    "image2_size = image2.size\n",
    "new_image = Image.new('RGB',(5*image1_size[0], image1_size[1]), (450, 450, 450))\n",
    "new_image.paste(image1,(0,0))\n",
    "new_image.paste(image2,(image1_size[0],0))\n",
    "new_image.save(f\"{root}id1602_merged.jpg\",\"JPEG\")\n",
    "new_image.show()"
   ]
  },
  {
   "cell_type": "markdown",
   "id": "731c724c",
   "metadata": {},
   "source": [
    "# filter negatives"
   ]
  },
  {
   "cell_type": "code",
   "execution_count": 32,
   "id": "0bf5b87c",
   "metadata": {},
   "outputs": [
    {
     "data": {
      "text/html": [
       "<div>\n",
       "<style scoped>\n",
       "    .dataframe tbody tr th:only-of-type {\n",
       "        vertical-align: middle;\n",
       "    }\n",
       "\n",
       "    .dataframe tbody tr th {\n",
       "        vertical-align: top;\n",
       "    }\n",
       "\n",
       "    .dataframe thead th {\n",
       "        text-align: right;\n",
       "    }\n",
       "</style>\n",
       "<table border=\"1\" class=\"dataframe\">\n",
       "  <thead>\n",
       "    <tr style=\"text-align: right;\">\n",
       "      <th></th>\n",
       "      <th>ipp_id</th>\n",
       "      <th>chembl_id</th>\n",
       "      <th>SMILES</th>\n",
       "      <th>library</th>\n",
       "      <th>PPI family</th>\n",
       "      <th>PPI</th>\n",
       "      <th>0</th>\n",
       "      <th>1</th>\n",
       "      <th>2</th>\n",
       "      <th>3</th>\n",
       "      <th>...</th>\n",
       "      <th>2038</th>\n",
       "      <th>2039</th>\n",
       "      <th>2040</th>\n",
       "      <th>2041</th>\n",
       "      <th>2042</th>\n",
       "      <th>2043</th>\n",
       "      <th>2044</th>\n",
       "      <th>2045</th>\n",
       "      <th>2046</th>\n",
       "      <th>2047</th>\n",
       "    </tr>\n",
       "  </thead>\n",
       "  <tbody>\n",
       "    <tr>\n",
       "      <th>0</th>\n",
       "      <td>4.0</td>\n",
       "      <td>NaN</td>\n",
       "      <td>OC(=O)[C@H](Cc1c[nH]c2ccccc12)NC(=O)c1ccccc1Br</td>\n",
       "      <td>PPI</td>\n",
       "      <td>LFA / ICAM</td>\n",
       "      <td>Yes</td>\n",
       "      <td>0.0</td>\n",
       "      <td>1.0</td>\n",
       "      <td>0.0</td>\n",
       "      <td>0.0</td>\n",
       "      <td>...</td>\n",
       "      <td>0.0</td>\n",
       "      <td>0.0</td>\n",
       "      <td>0.0</td>\n",
       "      <td>0.0</td>\n",
       "      <td>0.0</td>\n",
       "      <td>0.0</td>\n",
       "      <td>0.0</td>\n",
       "      <td>0.0</td>\n",
       "      <td>0.0</td>\n",
       "      <td>0.0</td>\n",
       "    </tr>\n",
       "    <tr>\n",
       "      <th>1</th>\n",
       "      <td>7.0</td>\n",
       "      <td>NaN</td>\n",
       "      <td>Cc1cc2CN(CCc2c(C)c1C(=O)N[C@@H](CNC(=O)c1cccs1...</td>\n",
       "      <td>PPI</td>\n",
       "      <td>LFA / ICAM</td>\n",
       "      <td>Yes</td>\n",
       "      <td>0.0</td>\n",
       "      <td>1.0</td>\n",
       "      <td>0.0</td>\n",
       "      <td>0.0</td>\n",
       "      <td>...</td>\n",
       "      <td>0.0</td>\n",
       "      <td>0.0</td>\n",
       "      <td>0.0</td>\n",
       "      <td>0.0</td>\n",
       "      <td>0.0</td>\n",
       "      <td>0.0</td>\n",
       "      <td>0.0</td>\n",
       "      <td>0.0</td>\n",
       "      <td>0.0</td>\n",
       "      <td>0.0</td>\n",
       "    </tr>\n",
       "  </tbody>\n",
       "</table>\n",
       "<p>2 rows × 2054 columns</p>\n",
       "</div>"
      ],
      "text/plain": [
       "   ipp_id chembl_id                                             SMILES  \\\n",
       "0     4.0       NaN     OC(=O)[C@H](Cc1c[nH]c2ccccc12)NC(=O)c1ccccc1Br   \n",
       "1     7.0       NaN  Cc1cc2CN(CCc2c(C)c1C(=O)N[C@@H](CNC(=O)c1cccs1...   \n",
       "\n",
       "  library  PPI family  PPI    0    1    2    3  ...  2038  2039  2040  2041  \\\n",
       "0     PPI  LFA / ICAM  Yes  0.0  1.0  0.0  0.0  ...   0.0   0.0   0.0   0.0   \n",
       "1     PPI  LFA / ICAM  Yes  0.0  1.0  0.0  0.0  ...   0.0   0.0   0.0   0.0   \n",
       "\n",
       "   2042  2043  2044  2045  2046  2047  \n",
       "0   0.0   0.0   0.0   0.0   0.0   0.0  \n",
       "1   0.0   0.0   0.0   0.0   0.0   0.0  \n",
       "\n",
       "[2 rows x 2054 columns]"
      ]
     },
     "execution_count": 32,
     "metadata": {},
     "output_type": "execute_result"
    }
   ],
   "source": [
    "negative_0 = filter_negative_bits([\"558\"], data)\n",
    "negative_0.head(2)"
   ]
  },
  {
   "cell_type": "code",
   "execution_count": 33,
   "id": "72d90033",
   "metadata": {},
   "outputs": [
    {
     "data": {
      "text/plain": [
       "'OC(=O)[C@H](Cc1c[nH]c2ccccc12)NC(=O)c1ccccc1Br'"
      ]
     },
     "execution_count": 33,
     "metadata": {},
     "output_type": "execute_result"
    }
   ],
   "source": [
    "negative_molecule_0 = negative_0.iloc[0]\n",
    "negative_molecule_0.SMILES\n",
    "# draw_one_fragment(positive_molecule, 57)"
   ]
  },
  {
   "cell_type": "code",
   "execution_count": 30,
   "id": "3913b2c2",
   "metadata": {},
   "outputs": [
    {
     "ename": "TypeError",
     "evalue": "draw_one_fragment() missing 1 required positional argument: 'r'",
     "output_type": "error",
     "traceback": [
      "\u001b[0;31m---------------------------------------------------------------------------\u001b[0m",
      "\u001b[0;31mTypeError\u001b[0m                                 Traceback (most recent call last)",
      "\u001b[0;32m<ipython-input-30-d28a3cf5351f>\u001b[0m in \u001b[0;36m<module>\u001b[0;34m\u001b[0m\n\u001b[0;32m----> 1\u001b[0;31m \u001b[0mdraw_one_fragment\u001b[0m\u001b[0;34m(\u001b[0m\u001b[0mpositive_molecule\u001b[0m\u001b[0;34m,\u001b[0m \u001b[0;36m57\u001b[0m\u001b[0;34m)\u001b[0m\u001b[0;34m\u001b[0m\u001b[0;34m\u001b[0m\u001b[0m\n\u001b[0m",
      "\u001b[0;31mTypeError\u001b[0m: draw_one_fragment() missing 1 required positional argument: 'r'"
     ]
    }
   ],
   "source": [
    "draw_one_fragment(positive_molecule, 57)"
   ]
  },
  {
   "cell_type": "code",
   "execution_count": null,
   "id": "5646d3aa",
   "metadata": {},
   "outputs": [],
   "source": [
    "draw_one_fragment(positive_molecule, 57)"
   ]
  },
  {
   "cell_type": "code",
   "execution_count": null,
   "id": "5915e073",
   "metadata": {},
   "outputs": [],
   "source": [
    "negative_1 = filter_negative_bits([\"558\", \"1\"], data)\n",
    "negative_1.head()"
   ]
  },
  {
   "cell_type": "code",
   "execution_count": null,
   "id": "c26dbe76",
   "metadata": {},
   "outputs": [],
   "source": [
    "# calculo de porcentajes 548\n",
    "negatives = negative_0[negative_0[\"library\"]==\"PPI\"].shape[0]"
   ]
  },
  {
   "cell_type": "code",
   "execution_count": null,
   "id": "153363e6",
   "metadata": {},
   "outputs": [],
   "source": [
    "total = data[data[\"library\"]==\"PPI\"].shape[0]"
   ]
  },
  {
   "cell_type": "code",
   "execution_count": null,
   "id": "ad828666",
   "metadata": {},
   "outputs": [],
   "source": [
    "percentage = (negatives/total)\n",
    "percentage"
   ]
  },
  {
   "cell_type": "code",
   "execution_count": null,
   "id": "ab55d2f0",
   "metadata": {},
   "outputs": [],
   "source": []
  }
 ],
 "metadata": {
  "kernelspec": {
   "display_name": "Python 3",
   "language": "python",
   "name": "python3"
  },
  "language_info": {
   "codemirror_mode": {
    "name": "ipython",
    "version": 3
   },
   "file_extension": ".py",
   "mimetype": "text/x-python",
   "name": "python",
   "nbconvert_exporter": "python",
   "pygments_lexer": "ipython3",
   "version": "3.8.5"
  }
 },
 "nbformat": 4,
 "nbformat_minor": 5
}
