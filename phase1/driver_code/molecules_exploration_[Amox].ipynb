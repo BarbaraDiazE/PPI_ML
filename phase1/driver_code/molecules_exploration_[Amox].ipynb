{
 "cells": [
  {
   "cell_type": "code",
   "execution_count": 1,
   "id": "933a08e6",
   "metadata": {},
   "outputs": [],
   "source": [
    "import os\n",
    "import sys\n",
    "sys.path.insert(0, os.path.abspath('/home/babs/Documents/DIFACQUIM/PPI_ML'))"
   ]
  },
  {
   "cell_type": "code",
   "execution_count": 2,
   "id": "63264f9f",
   "metadata": {},
   "outputs": [],
   "source": [
    "import phase1\n"
   ]
  },
  {
   "cell_type": "code",
   "execution_count": 3,
   "id": "515ec2c9",
   "metadata": {},
   "outputs": [],
   "source": [
    "from phase1.support_functions.df_management import get_data, get_random_smiles, get_positive_records, filter_positive_bits, filter_negative_bits\n",
    "from phase1.support_functions.draw_molecules import get_ECFP4_bits, get_ECFP6_bits, draw_one_fragment"
   ]
  },
  {
   "cell_type": "code",
   "execution_count": 4,
   "id": "45bf59bf",
   "metadata": {},
   "outputs": [],
   "source": [
    "from phase1.support_functions.df_management import *"
   ]
  },
  {
   "cell_type": "code",
   "execution_count": 7,
   "id": "d6e7d860",
   "metadata": {},
   "outputs": [
    {
     "data": {
      "text/plain": [
       "[1390, 935, 1160, 202, 160]"
      ]
     },
     "execution_count": 7,
     "metadata": {},
     "output_type": "execute_result"
    }
   ],
   "source": [
    "coeff = get_coefficients(\"SVM17_+_-std.csv\")\n",
    "coeff = coeff.Descriptors.to_list()\n",
    "coeff[:5]"
   ]
  },
  {
   "cell_type": "code",
   "execution_count": 8,
   "id": "f42c12ea",
   "metadata": {},
   "outputs": [
    {
     "name": "stdout",
     "output_type": "stream",
     "text": [
      "   ipp_id chembl_id                                             SMILES  \\\n",
      "0     4.0       NaN     OC(=O)[C@H](Cc1c[nH]c2ccccc12)NC(=O)c1ccccc1Br   \n",
      "1     7.0       NaN  Cc1cc2CN(CCc2c(C)c1C(=O)N[C@@H](CNC(=O)c1cccs1...   \n",
      "\n",
      "  library  PPI family  PPI    0    1    2    3  ...  2038  2039  2040  2041  \\\n",
      "0     PPI  LFA / ICAM  Yes  0.0  1.0  0.0  0.0  ...   0.0   0.0   0.0   0.0   \n",
      "1     PPI  LFA / ICAM  Yes  0.0  1.0  0.0  0.0  ...   0.0   0.0   0.0   0.0   \n",
      "\n",
      "   2042  2043  2044  2045  2046  2047  \n",
      "0   0.0   0.0   0.0   0.0   0.0   0.0  \n",
      "1   0.0   0.0   0.0   0.0   0.0   0.0  \n",
      "\n",
      "[2 rows x 2054 columns]\n"
     ]
    },
    {
     "name": "stderr",
     "output_type": "stream",
     "text": [
      "/home/babs/.pyenv/versions/miniconda3-3.8-4.9.2/lib/python3.8/site-packages/IPython/core/interactiveshell.py:3357: DtypeWarning: Columns (2,5) have mixed types.Specify dtype option on import or set low_memory=False.\n",
      "  if (await self.run_code(code, result,  async_=asy)):\n"
     ]
    }
   ],
   "source": [
    "data = get_data(\"dataset_ecfp6.csv\")\n",
    "print(data.head(2))"
   ]
  },
  {
   "cell_type": "code",
   "execution_count": 9,
   "id": "f912e02b",
   "metadata": {},
   "outputs": [],
   "source": [
    "Amox = data[data[\"chembl_id\"]==\"Amoxicillin\"].SMILES.iloc[0]"
   ]
  },
  {
   "cell_type": "code",
   "execution_count": 10,
   "id": "56efcb1d",
   "metadata": {},
   "outputs": [
    {
     "name": "stdout",
     "output_type": "stream",
     "text": [
      "molecules : (1, 2054)\n",
      "ipp_id                                                  NaN\n",
      "SMILES    CCN(CC)CCN1C2=C(C=C(Cl)C=C2)C(=NCC1=O)C1=CC=CC...\n",
      "Name: 2779, dtype: object\n"
     ]
    }
   ],
   "source": [
    "bits_ = [207, 1223, 451]\n",
    "positives_1 = filter_positive_bits(bits_, data)\n",
    "print(f\"molecules : {positives_1.shape}\")\n",
    "print(positives_1.iloc[0][[\"ipp_id\", \"SMILES\"]])"
   ]
  },
  {
   "cell_type": "code",
   "execution_count": 11,
   "id": "7135d45c",
   "metadata": {},
   "outputs": [
    {
     "data": {
      "text/plain": [
       "'CCN(CC)CCN1C2=C(C=C(Cl)C=C2)C(=NCC1=O)C1=CC=CC=C1F'"
      ]
     },
     "execution_count": 11,
     "metadata": {},
     "output_type": "execute_result"
    }
   ],
   "source": [
    "positive_molecule = positives_1.SMILES.iloc[0] \n",
    "positive_molecule"
   ]
  },
  {
   "cell_type": "code",
   "execution_count": null,
   "id": "6ab635af",
   "metadata": {},
   "outputs": [],
   "source": []
  },
  {
   "cell_type": "code",
   "execution_count": 12,
   "id": "d02dc78f",
   "metadata": {},
   "outputs": [],
   "source": [
    "import rdkit\n",
    "from rdkit import Chem\n",
    "from rdkit.Chem import rdMolDescriptors\n",
    "from rdkit.Chem.Draw import IPythonConsole"
   ]
  },
  {
   "cell_type": "markdown",
   "id": "731c724c",
   "metadata": {},
   "source": [
    "# filter negatives\n",
    "### asegurar que si son negativos en la molecula ejemplo\n"
   ]
  },
  {
   "cell_type": "code",
   "execution_count": 14,
   "id": "0bf5b87c",
   "metadata": {},
   "outputs": [
    {
     "data": {
      "text/plain": [
       "[207, 1223, 451]"
      ]
     },
     "execution_count": 14,
     "metadata": {},
     "output_type": "execute_result"
    }
   ],
   "source": [
    "# print bits negativos\n",
    "bits_"
   ]
  },
  {
   "cell_type": "code",
   "execution_count": 17,
   "id": "539cb715",
   "metadata": {},
   "outputs": [
    {
     "data": {
      "text/html": [
       "<div>\n",
       "<style scoped>\n",
       "    .dataframe tbody tr th:only-of-type {\n",
       "        vertical-align: middle;\n",
       "    }\n",
       "\n",
       "    .dataframe tbody tr th {\n",
       "        vertical-align: top;\n",
       "    }\n",
       "\n",
       "    .dataframe thead th {\n",
       "        text-align: right;\n",
       "    }\n",
       "</style>\n",
       "<table border=\"1\" class=\"dataframe\">\n",
       "  <thead>\n",
       "    <tr style=\"text-align: right;\">\n",
       "      <th></th>\n",
       "      <th>ipp_id</th>\n",
       "      <th>chembl_id</th>\n",
       "      <th>SMILES</th>\n",
       "      <th>library</th>\n",
       "      <th>PPI family</th>\n",
       "      <th>PPI</th>\n",
       "      <th>0</th>\n",
       "      <th>1</th>\n",
       "      <th>2</th>\n",
       "      <th>3</th>\n",
       "      <th>...</th>\n",
       "      <th>2038</th>\n",
       "      <th>2039</th>\n",
       "      <th>2040</th>\n",
       "      <th>2041</th>\n",
       "      <th>2042</th>\n",
       "      <th>2043</th>\n",
       "      <th>2044</th>\n",
       "      <th>2045</th>\n",
       "      <th>2046</th>\n",
       "      <th>2047</th>\n",
       "    </tr>\n",
       "  </thead>\n",
       "  <tbody>\n",
       "    <tr>\n",
       "      <th>3121</th>\n",
       "      <td>NaN</td>\n",
       "      <td>Amoxicillin</td>\n",
       "      <td>[H][C@]12SC(C)(C)[C@@H](N1C(=O)[C@H]2NC(=O)[C@...</td>\n",
       "      <td>FDA</td>\n",
       "      <td>NaN</td>\n",
       "      <td>No</td>\n",
       "      <td>0.0</td>\n",
       "      <td>1.0</td>\n",
       "      <td>0.0</td>\n",
       "      <td>0.0</td>\n",
       "      <td>...</td>\n",
       "      <td>0.0</td>\n",
       "      <td>0.0</td>\n",
       "      <td>0.0</td>\n",
       "      <td>0.0</td>\n",
       "      <td>0.0</td>\n",
       "      <td>0.0</td>\n",
       "      <td>0.0</td>\n",
       "      <td>0.0</td>\n",
       "      <td>0.0</td>\n",
       "      <td>0.0</td>\n",
       "    </tr>\n",
       "  </tbody>\n",
       "</table>\n",
       "<p>1 rows × 2054 columns</p>\n",
       "</div>"
      ],
      "text/plain": [
       "      ipp_id    chembl_id                                             SMILES  \\\n",
       "3121     NaN  Amoxicillin  [H][C@]12SC(C)(C)[C@@H](N1C(=O)[C@H]2NC(=O)[C@...   \n",
       "\n",
       "     library PPI family PPI    0    1    2    3  ...  2038  2039  2040  2041  \\\n",
       "3121     FDA        NaN  No  0.0  1.0  0.0  0.0  ...   0.0   0.0   0.0   0.0   \n",
       "\n",
       "      2042  2043  2044  2045  2046  2047  \n",
       "3121   0.0   0.0   0.0   0.0   0.0   0.0  \n",
       "\n",
       "[1 rows x 2054 columns]"
      ]
     },
     "execution_count": 17,
     "metadata": {},
     "output_type": "execute_result"
    }
   ],
   "source": [
    "data[\n",
    "    (data[\"chembl_id\"] == \"Amoxicillin\") &\n",
    "    (data[\"207\"] == 0.0) &\n",
    "    (data[\"1223\"] == 0.0) &\n",
    "    (data[\"451\"] == 0.0)\n",
    "]"
   ]
  },
  {
   "cell_type": "code",
   "execution_count": 20,
   "id": "16591ae5",
   "metadata": {},
   "outputs": [
    {
     "data": {
      "text/html": [
       "<div>\n",
       "<style scoped>\n",
       "    .dataframe tbody tr th:only-of-type {\n",
       "        vertical-align: middle;\n",
       "    }\n",
       "\n",
       "    .dataframe tbody tr th {\n",
       "        vertical-align: top;\n",
       "    }\n",
       "\n",
       "    .dataframe thead th {\n",
       "        text-align: right;\n",
       "    }\n",
       "</style>\n",
       "<table border=\"1\" class=\"dataframe\">\n",
       "  <thead>\n",
       "    <tr style=\"text-align: right;\">\n",
       "      <th></th>\n",
       "      <th>207</th>\n",
       "      <th>1223</th>\n",
       "      <th>451</th>\n",
       "    </tr>\n",
       "  </thead>\n",
       "  <tbody>\n",
       "    <tr>\n",
       "      <th>3121</th>\n",
       "      <td>0.0</td>\n",
       "      <td>0.0</td>\n",
       "      <td>0.0</td>\n",
       "    </tr>\n",
       "  </tbody>\n",
       "</table>\n",
       "</div>"
      ],
      "text/plain": [
       "      207  1223  451\n",
       "3121  0.0   0.0  0.0"
      ]
     },
     "execution_count": 20,
     "metadata": {},
     "output_type": "execute_result"
    }
   ],
   "source": [
    "data[data[\"chembl_id\"]==\"Amoxicillin\"][[str(i) for i in bits_]]"
   ]
  },
  {
   "cell_type": "code",
   "execution_count": 22,
   "id": "72d90033",
   "metadata": {},
   "outputs": [
    {
     "data": {
      "text/html": [
       "<div>\n",
       "<style scoped>\n",
       "    .dataframe tbody tr th:only-of-type {\n",
       "        vertical-align: middle;\n",
       "    }\n",
       "\n",
       "    .dataframe tbody tr th {\n",
       "        vertical-align: top;\n",
       "    }\n",
       "\n",
       "    .dataframe thead th {\n",
       "        text-align: right;\n",
       "    }\n",
       "</style>\n",
       "<table border=\"1\" class=\"dataframe\">\n",
       "  <thead>\n",
       "    <tr style=\"text-align: right;\">\n",
       "      <th></th>\n",
       "      <th>ipp_id</th>\n",
       "      <th>chembl_id</th>\n",
       "      <th>SMILES</th>\n",
       "      <th>library</th>\n",
       "      <th>PPI family</th>\n",
       "      <th>PPI</th>\n",
       "      <th>0</th>\n",
       "      <th>1</th>\n",
       "      <th>2</th>\n",
       "      <th>3</th>\n",
       "      <th>...</th>\n",
       "      <th>2038</th>\n",
       "      <th>2039</th>\n",
       "      <th>2040</th>\n",
       "      <th>2041</th>\n",
       "      <th>2042</th>\n",
       "      <th>2043</th>\n",
       "      <th>2044</th>\n",
       "      <th>2045</th>\n",
       "      <th>2046</th>\n",
       "      <th>2047</th>\n",
       "    </tr>\n",
       "  </thead>\n",
       "  <tbody>\n",
       "    <tr>\n",
       "      <th>0</th>\n",
       "      <td>4.0</td>\n",
       "      <td>NaN</td>\n",
       "      <td>OC(=O)[C@H](Cc1c[nH]c2ccccc12)NC(=O)c1ccccc1Br</td>\n",
       "      <td>PPI</td>\n",
       "      <td>LFA / ICAM</td>\n",
       "      <td>Yes</td>\n",
       "      <td>0.0</td>\n",
       "      <td>1.0</td>\n",
       "      <td>0.0</td>\n",
       "      <td>0.0</td>\n",
       "      <td>...</td>\n",
       "      <td>0.0</td>\n",
       "      <td>0.0</td>\n",
       "      <td>0.0</td>\n",
       "      <td>0.0</td>\n",
       "      <td>0.0</td>\n",
       "      <td>0.0</td>\n",
       "      <td>0.0</td>\n",
       "      <td>0.0</td>\n",
       "      <td>0.0</td>\n",
       "      <td>0.0</td>\n",
       "    </tr>\n",
       "    <tr>\n",
       "      <th>1</th>\n",
       "      <td>7.0</td>\n",
       "      <td>NaN</td>\n",
       "      <td>Cc1cc2CN(CCc2c(C)c1C(=O)N[C@@H](CNC(=O)c1cccs1...</td>\n",
       "      <td>PPI</td>\n",
       "      <td>LFA / ICAM</td>\n",
       "      <td>Yes</td>\n",
       "      <td>0.0</td>\n",
       "      <td>1.0</td>\n",
       "      <td>0.0</td>\n",
       "      <td>0.0</td>\n",
       "      <td>...</td>\n",
       "      <td>0.0</td>\n",
       "      <td>0.0</td>\n",
       "      <td>0.0</td>\n",
       "      <td>0.0</td>\n",
       "      <td>0.0</td>\n",
       "      <td>0.0</td>\n",
       "      <td>0.0</td>\n",
       "      <td>0.0</td>\n",
       "      <td>0.0</td>\n",
       "      <td>0.0</td>\n",
       "    </tr>\n",
       "  </tbody>\n",
       "</table>\n",
       "<p>2 rows × 2054 columns</p>\n",
       "</div>"
      ],
      "text/plain": [
       "   ipp_id chembl_id                                             SMILES  \\\n",
       "0     4.0       NaN     OC(=O)[C@H](Cc1c[nH]c2ccccc12)NC(=O)c1ccccc1Br   \n",
       "1     7.0       NaN  Cc1cc2CN(CCc2c(C)c1C(=O)N[C@@H](CNC(=O)c1cccs1...   \n",
       "\n",
       "  library  PPI family  PPI    0    1    2    3  ...  2038  2039  2040  2041  \\\n",
       "0     PPI  LFA / ICAM  Yes  0.0  1.0  0.0  0.0  ...   0.0   0.0   0.0   0.0   \n",
       "1     PPI  LFA / ICAM  Yes  0.0  1.0  0.0  0.0  ...   0.0   0.0   0.0   0.0   \n",
       "\n",
       "   2042  2043  2044  2045  2046  2047  \n",
       "0   0.0   0.0   0.0   0.0   0.0   0.0  \n",
       "1   0.0   0.0   0.0   0.0   0.0   0.0  \n",
       "\n",
       "[2 rows x 2054 columns]"
      ]
     },
     "execution_count": 22,
     "metadata": {},
     "output_type": "execute_result"
    }
   ],
   "source": [
    "data.head(2)"
   ]
  },
  {
   "cell_type": "code",
   "execution_count": 32,
   "id": "3436da6e",
   "metadata": {},
   "outputs": [
    {
     "data": {
      "text/plain": [
       "[935, 843, 451, 1223, 207]"
      ]
     },
     "execution_count": 32,
     "metadata": {},
     "output_type": "execute_result"
    }
   ],
   "source": [
    "desired_bits = common_bits(coeff, get_ECFP6_bits(positive_molecule))\n",
    "desired_bits"
   ]
  },
  {
   "cell_type": "code",
   "execution_count": 33,
   "id": "5915e073",
   "metadata": {},
   "outputs": [],
   "source": [
    "#set manually\n",
    "desired_bits = (935, 451, 1223, 207)"
   ]
  },
  {
   "cell_type": "code",
   "execution_count": null,
   "id": "c26dbe76",
   "metadata": {},
   "outputs": [],
   "source": []
  },
  {
   "cell_type": "markdown",
   "id": "28ed707c",
   "metadata": {},
   "source": [
    "# Draw"
   ]
  },
  {
   "cell_type": "code",
   "execution_count": 38,
   "id": "a24c2a30",
   "metadata": {},
   "outputs": [],
   "source": [
    "drug_name = \"Amox\""
   ]
  },
  {
   "cell_type": "code",
   "execution_count": 39,
   "id": "89394540",
   "metadata": {},
   "outputs": [
    {
     "data": {
      "image/svg+xml": [
       "<svg xmlns=\"http://www.w3.org/2000/svg\" xmlns:rdkit=\"http://www.rdkit.org/xml\" xmlns:xlink=\"http://www.w3.org/1999/xlink\" version=\"1.1\" baseProfile=\"full\" xml:space=\"preserve\" width=\"450px\" height=\"450px\" viewBox=\"0 0 450 450\">\n",
       "<!-- END OF HEADER -->\n",
       "<rect style=\"opacity:1.0;fill:#FFFFFF;stroke:none\" width=\"450.0\" height=\"450.0\" x=\"0.0\" y=\"0.0\"> </rect>\n",
       "<path class=\"bond-0 atom-0 atom-1\" d=\"M 159.7,230.5 L 157.7,247.4\" style=\"fill:none;fill-rule:evenodd;stroke:#000000;stroke-width:2.0px;stroke-linecap:butt;stroke-linejoin:miter;stroke-opacity:1\"/>\n",
       "<path class=\"bond-0 atom-0 atom-1\" d=\"M 157.7,247.4 L 155.7,264.4\" style=\"fill:none;fill-rule:evenodd;stroke:#CCCC00;stroke-width:2.0px;stroke-linecap:butt;stroke-linejoin:miter;stroke-opacity:1\"/>\n",
       "<path class=\"bond-1 atom-1 atom-2\" d=\"M 149.8,272.6 L 132.0,276.2\" style=\"fill:none;fill-rule:evenodd;stroke:#CCCC00;stroke-width:2.0px;stroke-linecap:butt;stroke-linejoin:miter;stroke-opacity:1\"/>\n",
       "<path class=\"bond-1 atom-1 atom-2\" d=\"M 132.0,276.2 L 114.3,279.7\" style=\"fill:none;fill-rule:evenodd;stroke:#000000;stroke-width:2.0px;stroke-linecap:butt;stroke-linejoin:miter;stroke-opacity:1\"/>\n",
       "<path class=\"bond-2 atom-2 atom-3\" d=\"M 114.3,279.7 L 126.6,319.3\" style=\"fill:none;fill-rule:evenodd;stroke:#000000;stroke-width:2.0px;stroke-linecap:butt;stroke-linejoin:miter;stroke-opacity:1\"/>\n",
       "<path class=\"bond-3 atom-2 atom-4\" d=\"M 114.3,279.7 L 76.2,296.1\" style=\"fill:none;fill-rule:evenodd;stroke:#000000;stroke-width:2.0px;stroke-linecap:butt;stroke-linejoin:miter;stroke-opacity:1\"/>\n",
       "<path class=\"bond-4 atom-2 atom-5\" d=\"M 114.3,279.7 L 94.0,243.6\" style=\"fill:none;fill-rule:evenodd;stroke:#000000;stroke-width:2.0px;stroke-linecap:butt;stroke-linejoin:miter;stroke-opacity:1\"/>\n",
       "<path class=\"bond-5 atom-5 atom-6\" d=\"M 94.0,243.6 L 105.1,231.5\" style=\"fill:none;fill-rule:evenodd;stroke:#000000;stroke-width:2.0px;stroke-linecap:butt;stroke-linejoin:miter;stroke-opacity:1\"/>\n",
       "<path class=\"bond-5 atom-5 atom-6\" d=\"M 105.1,231.5 L 116.3,219.4\" style=\"fill:none;fill-rule:evenodd;stroke:#0000FF;stroke-width:2.0px;stroke-linecap:butt;stroke-linejoin:miter;stroke-opacity:1\"/>\n",
       "<path class=\"bond-6 atom-6 atom-7\" d=\"M 125.4,205.9 L 132.4,190.7\" style=\"fill:none;fill-rule:evenodd;stroke:#0000FF;stroke-width:2.0px;stroke-linecap:butt;stroke-linejoin:miter;stroke-opacity:1\"/>\n",
       "<path class=\"bond-6 atom-6 atom-7\" d=\"M 132.4,190.7 L 139.4,175.5\" style=\"fill:none;fill-rule:evenodd;stroke:#000000;stroke-width:2.0px;stroke-linecap:butt;stroke-linejoin:miter;stroke-opacity:1\"/>\n",
       "<path class=\"bond-7 atom-7 atom-8\" d=\"M 135.5,176.9 L 129.7,161.2\" style=\"fill:none;fill-rule:evenodd;stroke:#000000;stroke-width:2.0px;stroke-linecap:butt;stroke-linejoin:miter;stroke-opacity:1\"/>\n",
       "<path class=\"bond-7 atom-7 atom-8\" d=\"M 129.7,161.2 L 123.9,145.6\" style=\"fill:none;fill-rule:evenodd;stroke:#FF0000;stroke-width:2.0px;stroke-linecap:butt;stroke-linejoin:miter;stroke-opacity:1\"/>\n",
       "<path class=\"bond-7 atom-7 atom-8\" d=\"M 143.3,174.1 L 137.4,158.4\" style=\"fill:none;fill-rule:evenodd;stroke:#000000;stroke-width:2.0px;stroke-linecap:butt;stroke-linejoin:miter;stroke-opacity:1\"/>\n",
       "<path class=\"bond-7 atom-7 atom-8\" d=\"M 137.4,158.4 L 131.6,142.7\" style=\"fill:none;fill-rule:evenodd;stroke:#FF0000;stroke-width:2.0px;stroke-linecap:butt;stroke-linejoin:miter;stroke-opacity:1\"/>\n",
       "<path class=\"bond-8 atom-7 atom-9\" d=\"M 139.4,175.5 L 177.0,192.8\" style=\"fill:none;fill-rule:evenodd;stroke:#000000;stroke-width:2.0px;stroke-linecap:butt;stroke-linejoin:miter;stroke-opacity:1\"/>\n",
       "<path class=\"bond-9 atom-9 atom-10\" d=\"M 177.0,192.8 L 192.2,185.0 L 193.6,188.9 Z\" style=\"fill:#000000;fill-rule:evenodd;fill-opacity:1;stroke:#000000;stroke-width:1.0px;stroke-linecap:butt;stroke-linejoin:miter;stroke-opacity:1;\"/>\n",
       "<path class=\"bond-9 atom-9 atom-10\" d=\"M 192.2,185.0 L 210.1,184.9 L 207.3,177.2 Z\" style=\"fill:#0000FF;fill-rule:evenodd;fill-opacity:1;stroke:#0000FF;stroke-width:1.0px;stroke-linecap:butt;stroke-linejoin:miter;stroke-opacity:1;\"/>\n",
       "<path class=\"bond-9 atom-9 atom-10\" d=\"M 192.2,185.0 L 193.6,188.9 L 210.1,184.9 Z\" style=\"fill:#0000FF;fill-rule:evenodd;fill-opacity:1;stroke:#0000FF;stroke-width:1.0px;stroke-linecap:butt;stroke-linejoin:miter;stroke-opacity:1;\"/>\n",
       "<path class=\"bond-10 atom-10 atom-11\" d=\"M 221.7,183.2 L 234.7,194.1\" style=\"fill:none;fill-rule:evenodd;stroke:#0000FF;stroke-width:2.0px;stroke-linecap:butt;stroke-linejoin:miter;stroke-opacity:1\"/>\n",
       "<path class=\"bond-10 atom-10 atom-11\" d=\"M 234.7,194.1 L 247.8,204.9\" style=\"fill:none;fill-rule:evenodd;stroke:#000000;stroke-width:2.0px;stroke-linecap:butt;stroke-linejoin:miter;stroke-opacity:1\"/>\n",
       "<path class=\"bond-11 atom-11 atom-12\" d=\"M 251.8,205.6 L 249.0,222.4\" style=\"fill:none;fill-rule:evenodd;stroke:#000000;stroke-width:2.0px;stroke-linecap:butt;stroke-linejoin:miter;stroke-opacity:1\"/>\n",
       "<path class=\"bond-11 atom-11 atom-12\" d=\"M 249.0,222.4 L 246.1,239.1\" style=\"fill:none;fill-rule:evenodd;stroke:#FF0000;stroke-width:2.0px;stroke-linecap:butt;stroke-linejoin:miter;stroke-opacity:1\"/>\n",
       "<path class=\"bond-11 atom-11 atom-12\" d=\"M 243.7,204.2 L 240.8,221.0\" style=\"fill:none;fill-rule:evenodd;stroke:#000000;stroke-width:2.0px;stroke-linecap:butt;stroke-linejoin:miter;stroke-opacity:1\"/>\n",
       "<path class=\"bond-11 atom-11 atom-12\" d=\"M 240.8,221.0 L 237.9,237.7\" style=\"fill:none;fill-rule:evenodd;stroke:#FF0000;stroke-width:2.0px;stroke-linecap:butt;stroke-linejoin:miter;stroke-opacity:1\"/>\n",
       "<path class=\"bond-12 atom-11 atom-13\" d=\"M 247.8,204.9 L 286.6,190.5\" style=\"fill:none;fill-rule:evenodd;stroke:#000000;stroke-width:2.0px;stroke-linecap:butt;stroke-linejoin:miter;stroke-opacity:1\"/>\n",
       "<path class=\"bond-13 atom-13 atom-14\" d=\"M 288.2,185.2 L 286.9,185.0\" style=\"fill:none;fill-rule:evenodd;stroke:#000000;stroke-width:1.0px;stroke-linecap:butt;stroke-linejoin:miter;stroke-opacity:1\"/>\n",
       "<path class=\"bond-13 atom-13 atom-14\" d=\"M 289.8,180.0 L 287.1,179.5\" style=\"fill:none;fill-rule:evenodd;stroke:#000000;stroke-width:1.0px;stroke-linecap:butt;stroke-linejoin:miter;stroke-opacity:1\"/>\n",
       "<path class=\"bond-13 atom-13 atom-14\" d=\"M 291.4,174.7 L 287.3,174.0\" style=\"fill:none;fill-rule:evenodd;stroke:#000000;stroke-width:1.0px;stroke-linecap:butt;stroke-linejoin:miter;stroke-opacity:1\"/>\n",
       "<path class=\"bond-13 atom-13 atom-14\" d=\"M 293.0,169.4 L 287.6,168.5\" style=\"fill:none;fill-rule:evenodd;stroke:#0000FF;stroke-width:1.0px;stroke-linecap:butt;stroke-linejoin:miter;stroke-opacity:1\"/>\n",
       "<path class=\"bond-13 atom-13 atom-14\" d=\"M 294.6,164.2 L 287.8,163.0\" style=\"fill:none;fill-rule:evenodd;stroke:#0000FF;stroke-width:1.0px;stroke-linecap:butt;stroke-linejoin:miter;stroke-opacity:1\"/>\n",
       "<path class=\"bond-13 atom-13 atom-14\" d=\"M 296.2,158.9 L 288.1,157.5\" style=\"fill:none;fill-rule:evenodd;stroke:#0000FF;stroke-width:1.0px;stroke-linecap:butt;stroke-linejoin:miter;stroke-opacity:1\"/>\n",
       "<path class=\"bond-14 atom-13 atom-15\" d=\"M 286.6,190.5 L 318.5,216.9\" style=\"fill:none;fill-rule:evenodd;stroke:#000000;stroke-width:2.0px;stroke-linecap:butt;stroke-linejoin:miter;stroke-opacity:1\"/>\n",
       "<path class=\"bond-15 atom-15 atom-16\" d=\"M 318.5,216.9 L 311.5,257.8\" style=\"fill:none;fill-rule:evenodd;stroke:#000000;stroke-width:2.0px;stroke-linecap:butt;stroke-linejoin:miter;stroke-opacity:1\"/>\n",
       "<path class=\"bond-15 atom-15 atom-16\" d=\"M 325.6,224.5 L 320.7,253.1\" style=\"fill:none;fill-rule:evenodd;stroke:#000000;stroke-width:2.0px;stroke-linecap:butt;stroke-linejoin:miter;stroke-opacity:1\"/>\n",
       "<path class=\"bond-16 atom-16 atom-17\" d=\"M 311.5,257.8 L 343.4,284.2\" style=\"fill:none;fill-rule:evenodd;stroke:#000000;stroke-width:2.0px;stroke-linecap:butt;stroke-linejoin:miter;stroke-opacity:1\"/>\n",
       "<path class=\"bond-17 atom-17 atom-18\" d=\"M 343.4,284.2 L 382.3,269.9\" style=\"fill:none;fill-rule:evenodd;stroke:#000000;stroke-width:2.0px;stroke-linecap:butt;stroke-linejoin:miter;stroke-opacity:1\"/>\n",
       "<path class=\"bond-17 atom-17 atom-18\" d=\"M 346.4,274.3 L 373.6,264.2\" style=\"fill:none;fill-rule:evenodd;stroke:#000000;stroke-width:2.0px;stroke-linecap:butt;stroke-linejoin:miter;stroke-opacity:1\"/>\n",
       "<path class=\"bond-18 atom-18 atom-19\" d=\"M 382.3,269.9 L 394.8,280.3\" style=\"fill:none;fill-rule:evenodd;stroke:#000000;stroke-width:2.0px;stroke-linecap:butt;stroke-linejoin:miter;stroke-opacity:1\"/>\n",
       "<path class=\"bond-18 atom-18 atom-19\" d=\"M 394.8,280.3 L 407.4,290.7\" style=\"fill:none;fill-rule:evenodd;stroke:#FF0000;stroke-width:2.0px;stroke-linecap:butt;stroke-linejoin:miter;stroke-opacity:1\"/>\n",
       "<path class=\"bond-19 atom-18 atom-20\" d=\"M 382.3,269.9 L 389.2,229.0\" style=\"fill:none;fill-rule:evenodd;stroke:#000000;stroke-width:2.0px;stroke-linecap:butt;stroke-linejoin:miter;stroke-opacity:1\"/>\n",
       "<path class=\"bond-20 atom-20 atom-21\" d=\"M 389.2,229.0 L 357.3,202.6\" style=\"fill:none;fill-rule:evenodd;stroke:#000000;stroke-width:2.0px;stroke-linecap:butt;stroke-linejoin:miter;stroke-opacity:1\"/>\n",
       "<path class=\"bond-20 atom-20 atom-21\" d=\"M 379.2,231.4 L 356.8,212.9\" style=\"fill:none;fill-rule:evenodd;stroke:#000000;stroke-width:2.0px;stroke-linecap:butt;stroke-linejoin:miter;stroke-opacity:1\"/>\n",
       "<path class=\"bond-21 atom-5 atom-22\" d=\"M 87.2,242.1 L 87.0,243.5\" style=\"fill:none;fill-rule:evenodd;stroke:#000000;stroke-width:1.0px;stroke-linecap:butt;stroke-linejoin:miter;stroke-opacity:1\"/>\n",
       "<path class=\"bond-21 atom-5 atom-22\" d=\"M 80.4,240.6 L 80.1,243.4\" style=\"fill:none;fill-rule:evenodd;stroke:#000000;stroke-width:1.0px;stroke-linecap:butt;stroke-linejoin:miter;stroke-opacity:1\"/>\n",
       "<path class=\"bond-21 atom-5 atom-22\" d=\"M 73.6,239.2 L 73.2,243.2\" style=\"fill:none;fill-rule:evenodd;stroke:#000000;stroke-width:1.0px;stroke-linecap:butt;stroke-linejoin:miter;stroke-opacity:1\"/>\n",
       "<path class=\"bond-21 atom-5 atom-22\" d=\"M 66.9,237.7 L 66.2,243.1\" style=\"fill:none;fill-rule:evenodd;stroke:#000000;stroke-width:1.0px;stroke-linecap:butt;stroke-linejoin:miter;stroke-opacity:1\"/>\n",
       "<path class=\"bond-21 atom-5 atom-22\" d=\"M 60.1,236.2 L 59.3,243.0\" style=\"fill:none;fill-rule:evenodd;stroke:#000000;stroke-width:1.0px;stroke-linecap:butt;stroke-linejoin:miter;stroke-opacity:1\"/>\n",
       "<path class=\"bond-21 atom-5 atom-22\" d=\"M 53.3,234.7 L 52.4,242.8\" style=\"fill:none;fill-rule:evenodd;stroke:#000000;stroke-width:1.0px;stroke-linecap:butt;stroke-linejoin:miter;stroke-opacity:1\"/>\n",
       "<path class=\"bond-22 atom-22 atom-23\" d=\"M 52.8,238.8 L 46.2,223.5\" style=\"fill:none;fill-rule:evenodd;stroke:#000000;stroke-width:2.0px;stroke-linecap:butt;stroke-linejoin:miter;stroke-opacity:1\"/>\n",
       "<path class=\"bond-22 atom-22 atom-23\" d=\"M 46.2,223.5 L 39.6,208.2\" style=\"fill:none;fill-rule:evenodd;stroke:#FF0000;stroke-width:2.0px;stroke-linecap:butt;stroke-linejoin:miter;stroke-opacity:1\"/>\n",
       "<path class=\"bond-23 atom-22 atom-24\" d=\"M 56.2,241.3 L 46.5,254.2\" style=\"fill:none;fill-rule:evenodd;stroke:#000000;stroke-width:2.0px;stroke-linecap:butt;stroke-linejoin:miter;stroke-opacity:1\"/>\n",
       "<path class=\"bond-23 atom-22 atom-24\" d=\"M 46.5,254.2 L 36.8,267.2\" style=\"fill:none;fill-rule:evenodd;stroke:#FF0000;stroke-width:2.0px;stroke-linecap:butt;stroke-linejoin:miter;stroke-opacity:1\"/>\n",
       "<path class=\"bond-23 atom-22 atom-24\" d=\"M 49.5,236.3 L 39.8,249.3\" style=\"fill:none;fill-rule:evenodd;stroke:#000000;stroke-width:2.0px;stroke-linecap:butt;stroke-linejoin:miter;stroke-opacity:1\"/>\n",
       "<path class=\"bond-23 atom-22 atom-24\" d=\"M 39.8,249.3 L 30.2,262.2\" style=\"fill:none;fill-rule:evenodd;stroke:#FF0000;stroke-width:2.0px;stroke-linecap:butt;stroke-linejoin:miter;stroke-opacity:1\"/>\n",
       "<path class=\"bond-24 atom-6 atom-0\" d=\"M 127.9,215.8 L 143.8,223.1\" style=\"fill:none;fill-rule:evenodd;stroke:#0000FF;stroke-width:2.0px;stroke-linecap:butt;stroke-linejoin:miter;stroke-opacity:1\"/>\n",
       "<path class=\"bond-24 atom-6 atom-0\" d=\"M 143.8,223.1 L 159.7,230.5\" style=\"fill:none;fill-rule:evenodd;stroke:#000000;stroke-width:2.0px;stroke-linecap:butt;stroke-linejoin:miter;stroke-opacity:1\"/>\n",
       "<path class=\"bond-25 atom-21 atom-15\" d=\"M 357.3,202.6 L 318.5,216.9\" style=\"fill:none;fill-rule:evenodd;stroke:#000000;stroke-width:2.0px;stroke-linecap:butt;stroke-linejoin:miter;stroke-opacity:1\"/>\n",
       "<path class=\"bond-26 atom-9 atom-0\" d=\"M 177.0,192.8 L 159.7,230.5\" style=\"fill:none;fill-rule:evenodd;stroke:#000000;stroke-width:2.0px;stroke-linecap:butt;stroke-linejoin:miter;stroke-opacity:1\"/>\n",
       "<path class=\"bond-27 atom-0 atom-25\" d=\"M 164.3,232.8 L 164.8,230.8\" style=\"fill:none;fill-rule:evenodd;stroke:#000000;stroke-width:1.0px;stroke-linecap:butt;stroke-linejoin:miter;stroke-opacity:1\"/>\n",
       "<path class=\"bond-27 atom-0 atom-25\" d=\"M 168.8,235.1 L 169.9,231.2\" style=\"fill:none;fill-rule:evenodd;stroke:#000000;stroke-width:1.0px;stroke-linecap:butt;stroke-linejoin:miter;stroke-opacity:1\"/>\n",
       "<path class=\"bond-27 atom-0 atom-25\" d=\"M 173.4,237.5 L 175.0,231.6\" style=\"fill:none;fill-rule:evenodd;stroke:#000000;stroke-width:1.0px;stroke-linecap:butt;stroke-linejoin:miter;stroke-opacity:1\"/>\n",
       "<path class=\"bond-27 atom-0 atom-25\" d=\"M 177.9,239.8 L 180.1,231.9\" style=\"fill:none;fill-rule:evenodd;stroke:#000000;stroke-width:1.0px;stroke-linecap:butt;stroke-linejoin:miter;stroke-opacity:1\"/>\n",
       "<path class=\"atom-1\" d=\"M 151.6 275.6 Q 151.7 275.7, 152.3 275.9 Q 152.8 276.1, 153.4 276.3 Q 154.0 276.4, 154.6 276.4 Q 155.7 276.4, 156.4 275.9 Q 157.0 275.3, 157.0 274.4 Q 157.0 273.8, 156.7 273.4 Q 156.4 273.0, 155.9 272.7 Q 155.4 272.5, 154.5 272.3 Q 153.5 272.0, 152.9 271.7 Q 152.3 271.4, 151.8 270.7 Q 151.4 270.1, 151.4 269.0 Q 151.4 267.6, 152.4 266.7 Q 153.4 265.8, 155.4 265.8 Q 156.7 265.8, 158.3 266.4 L 157.9 267.7 Q 156.5 267.1, 155.4 267.1 Q 154.3 267.1, 153.6 267.6 Q 153.0 268.0, 153.0 268.8 Q 153.0 269.5, 153.4 269.9 Q 153.7 270.2, 154.1 270.5 Q 154.6 270.7, 155.4 270.9 Q 156.5 271.3, 157.1 271.6 Q 157.7 271.9, 158.2 272.6 Q 158.7 273.3, 158.7 274.4 Q 158.7 276.0, 157.6 276.9 Q 156.5 277.8, 154.7 277.8 Q 153.6 277.8, 152.8 277.5 Q 152.1 277.3, 151.1 276.9 L 151.6 275.6 \" fill=\"#CCCC00\"/>\n",
       "<path class=\"atom-6\" d=\"M 119.5 207.3 L 123.3 213.5 Q 123.7 214.1, 124.3 215.2 Q 124.9 216.3, 125.0 216.4 L 125.0 207.3 L 126.5 207.3 L 126.5 219.0 L 124.9 219.0 L 120.8 212.2 Q 120.3 211.4, 119.8 210.5 Q 119.3 209.6, 119.1 209.3 L 119.1 219.0 L 117.6 219.0 L 117.6 207.3 L 119.5 207.3 \" fill=\"#0000FF\"/>\n",
       "<path class=\"atom-8\" d=\"M 119.6 136.7 Q 119.6 133.9, 121.0 132.3 Q 122.4 130.7, 125.0 130.7 Q 127.6 130.7, 129.0 132.3 Q 130.4 133.9, 130.4 136.7 Q 130.4 139.5, 129.0 141.2 Q 127.6 142.8, 125.0 142.8 Q 122.4 142.8, 121.0 141.2 Q 119.6 139.5, 119.6 136.7 M 125.0 141.4 Q 126.8 141.4, 127.7 140.2 Q 128.7 139.0, 128.7 136.7 Q 128.7 134.4, 127.7 133.2 Q 126.8 132.0, 125.0 132.0 Q 123.2 132.0, 122.2 133.2 Q 121.3 134.4, 121.3 136.7 Q 121.3 139.1, 122.2 140.2 Q 123.2 141.4, 125.0 141.4 \" fill=\"#FF0000\"/>\n",
       "<path class=\"atom-10\" d=\"M 213.3 172.6 L 217.1 178.8 Q 217.5 179.4, 218.1 180.5 Q 218.7 181.6, 218.8 181.7 L 218.8 172.6 L 220.3 172.6 L 220.3 184.3 L 218.7 184.3 L 214.6 177.5 Q 214.1 176.7, 213.6 175.8 Q 213.1 174.9, 212.9 174.6 L 212.9 184.3 L 211.4 184.3 L 211.4 172.6 L 213.3 172.6 \" fill=\"#0000FF\"/>\n",
       "<path class=\"atom-10\" d=\"M 211.3 159.6 L 212.9 159.6 L 212.9 164.6 L 218.9 164.6 L 218.9 159.6 L 220.5 159.6 L 220.5 171.4 L 218.9 171.4 L 218.9 166.0 L 212.9 166.0 L 212.9 171.4 L 211.3 171.4 L 211.3 159.6 \" fill=\"#0000FF\"/>\n",
       "<path class=\"atom-12\" d=\"M 235.4 245.8 Q 235.4 242.9, 236.8 241.4 Q 238.2 239.8, 240.8 239.8 Q 243.4 239.8, 244.8 241.4 Q 246.2 242.9, 246.2 245.8 Q 246.2 248.6, 244.8 250.2 Q 243.4 251.8, 240.8 251.8 Q 238.2 251.8, 236.8 250.2 Q 235.4 248.6, 235.4 245.8 M 240.8 250.5 Q 242.6 250.5, 243.5 249.3 Q 244.5 248.1, 244.5 245.8 Q 244.5 243.4, 243.5 242.3 Q 242.6 241.1, 240.8 241.1 Q 239.0 241.1, 238.0 242.3 Q 237.1 243.4, 237.1 245.8 Q 237.1 248.1, 238.0 249.3 Q 239.0 250.5, 240.8 250.5 \" fill=\"#FF0000\"/>\n",
       "<path class=\"atom-14\" d=\"M 291.0 143.8 L 294.8 150.0 Q 295.2 150.6, 295.8 151.7 Q 296.4 152.8, 296.5 152.9 L 296.5 143.8 L 298.0 143.8 L 298.0 155.5 L 296.4 155.5 L 292.3 148.7 Q 291.8 147.9, 291.3 147.0 Q 290.8 146.1, 290.7 145.8 L 290.7 155.5 L 289.1 155.5 L 289.1 143.8 L 291.0 143.8 \" fill=\"#0000FF\"/>\n",
       "<path class=\"atom-14\" d=\"M 299.4 143.8 L 301.0 143.8 L 301.0 148.8 L 307.0 148.8 L 307.0 143.8 L 308.6 143.8 L 308.6 155.5 L 307.0 155.5 L 307.0 150.1 L 301.0 150.1 L 301.0 155.5 L 299.4 155.5 L 299.4 143.8 \" fill=\"#0000FF\"/>\n",
       "<path class=\"atom-14\" d=\"M 310.0 155.1 Q 310.3 154.4, 311.0 154.0 Q 311.7 153.6, 312.6 153.6 Q 313.8 153.6, 314.4 154.2 Q 315.1 154.8, 315.1 155.9 Q 315.1 157.1, 314.2 158.2 Q 313.4 159.2, 311.6 160.5 L 315.2 160.5 L 315.2 161.4 L 310.0 161.4 L 310.0 160.7 Q 311.4 159.6, 312.3 158.9 Q 313.2 158.1, 313.6 157.4 Q 314.0 156.7, 314.0 156.0 Q 314.0 155.3, 313.6 154.8 Q 313.2 154.4, 312.6 154.4 Q 312.0 154.4, 311.6 154.7 Q 311.1 154.9, 310.8 155.5 L 310.0 155.1 \" fill=\"#0000FF\"/>\n",
       "<path class=\"atom-19\" d=\"M 408.8 296.3 Q 408.8 293.5, 410.2 292.0 Q 411.5 290.4, 414.1 290.4 Q 416.8 290.4, 418.1 292.0 Q 419.5 293.5, 419.5 296.3 Q 419.5 299.2, 418.1 300.8 Q 416.7 302.4, 414.1 302.4 Q 411.6 302.4, 410.2 300.8 Q 408.8 299.2, 408.8 296.3 M 414.1 301.1 Q 415.9 301.1, 416.9 299.9 Q 417.9 298.7, 417.9 296.3 Q 417.9 294.0, 416.9 292.9 Q 415.9 291.7, 414.1 291.7 Q 412.4 291.7, 411.4 292.9 Q 410.4 294.0, 410.4 296.3 Q 410.4 298.7, 411.4 299.9 Q 412.4 301.1, 414.1 301.1 \" fill=\"#FF0000\"/>\n",
       "<path class=\"atom-19\" d=\"M 420.4 290.5 L 422.0 290.5 L 422.0 295.5 L 428.0 295.5 L 428.0 290.5 L 429.5 290.5 L 429.5 302.2 L 428.0 302.2 L 428.0 296.8 L 422.0 296.8 L 422.0 302.2 L 420.4 302.2 L 420.4 290.5 \" fill=\"#FF0000\"/>\n",
       "<path class=\"atom-23\" d=\"M 20.5 194.9 L 22.0 194.9 L 22.0 199.9 L 28.0 199.9 L 28.0 194.9 L 29.6 194.9 L 29.6 206.7 L 28.0 206.7 L 28.0 201.2 L 22.0 201.2 L 22.0 206.7 L 20.5 206.7 L 20.5 194.9 \" fill=\"#FF0000\"/>\n",
       "<path class=\"atom-23\" d=\"M 31.0 200.8 Q 31.0 198.0, 32.4 196.4 Q 33.8 194.8, 36.4 194.8 Q 39.0 194.8, 40.4 196.4 Q 41.8 198.0, 41.8 200.8 Q 41.8 203.6, 40.4 205.2 Q 39.0 206.8, 36.4 206.8 Q 33.8 206.8, 32.4 205.2 Q 31.0 203.6, 31.0 200.8 M 36.4 205.5 Q 38.2 205.5, 39.2 204.3 Q 40.2 203.1, 40.2 200.8 Q 40.2 198.5, 39.2 197.3 Q 38.2 196.1, 36.4 196.1 Q 34.6 196.1, 33.7 197.3 Q 32.7 198.4, 32.7 200.8 Q 32.7 203.1, 33.7 204.3 Q 34.6 205.5, 36.4 205.5 \" fill=\"#FF0000\"/>\n",
       "<path class=\"atom-24\" d=\"M 22.7 272.0 Q 22.7 269.2, 24.1 267.6 Q 25.5 266.1, 28.1 266.1 Q 30.7 266.1, 32.1 267.6 Q 33.5 269.2, 33.5 272.0 Q 33.5 274.9, 32.1 276.5 Q 30.6 278.1, 28.1 278.1 Q 25.5 278.1, 24.1 276.5 Q 22.7 274.9, 22.7 272.0 M 28.1 276.8 Q 29.9 276.8, 30.8 275.6 Q 31.8 274.4, 31.8 272.0 Q 31.8 269.7, 30.8 268.6 Q 29.9 267.4, 28.1 267.4 Q 26.3 267.4, 25.3 268.6 Q 24.3 269.7, 24.3 272.0 Q 24.3 274.4, 25.3 275.6 Q 26.3 276.8, 28.1 276.8 \" fill=\"#FF0000\"/>\n",
       "<path class=\"atom-25\" d=\"M 181.7 232.1 L 183.3 232.1 L 183.3 237.0 L 189.3 237.0 L 189.3 232.1 L 190.9 232.1 L 190.9 243.8 L 189.3 243.8 L 189.3 238.4 L 183.3 238.4 L 183.3 243.8 L 181.7 243.8 L 181.7 232.1 \" fill=\"#000000\"/>\n",
       "<text x=\"180\" y=\"440\" font-size=\"16\" font-family=\"Verdana\" font-weight=\"normal\" letter-spacing=\"0\" text-anchor=\"start\" fill=\"black\">33613 PubChem ID</text></svg>"
      ],
      "text/plain": [
       "<IPython.core.display.SVG object>"
      ]
     },
     "execution_count": 39,
     "metadata": {},
     "output_type": "execute_result"
    }
   ],
   "source": [
    "from rdkit import Chem\n",
    "from IPython.display import SVG\n",
    "from rdkit.Chem import rdDepictor\n",
    "from rdkit.Chem.Draw import rdMolDraw2D\n",
    "\n",
    "mol = Chem.MolFromSmiles(Amox)\n",
    "rdDepictor.Compute2DCoords(mol)\n",
    "drawer = rdMolDraw2D.MolDraw2DSVG(450, 450)\n",
    "drawer.DrawMolecule(mol)\n",
    "drawer.FinishDrawing()\n",
    "\n",
    "# svg to text\n",
    "s = drawer.GetDrawingText()\n",
    "s = s.replace('svg:','')\n",
    "\n",
    "# use svgutils to add text to svg\n",
    "import svgutils.transform as sg\n",
    "fig = sg.fromstring(s)\n",
    "label = sg.TextElement(180, 440, \n",
    "                       \"33613 PubChem ID\", size=16, \n",
    "                      )\n",
    "fig.append(label)\n",
    "root = \"/home/babs/Documents/DIFACQUIM/PPI_ML/phase1/driver_code/chemical_structures/\"\n",
    "fig.save(f\"{root}{drug_name}.svg\")\n",
    "SVG(fig.to_str())"
   ]
  },
  {
   "cell_type": "code",
   "execution_count": 40,
   "id": "801e5347",
   "metadata": {},
   "outputs": [],
   "source": [
    "from rdkit.Chem import rdMolDescriptors\n",
    "from rdkit.Chem import Draw\n",
    "positive_mol = Chem.MolFromSmiles(positive_molecule)\n",
    "bi = {}\n",
    "fp = rdMolDescriptors.GetMorganFingerprintAsBitVect(\n",
    "        positive_mol, radius=3, bitInfo=bi)"
   ]
  },
  {
   "cell_type": "markdown",
   "id": "f82638ca",
   "metadata": {},
   "source": [
    "### Vamos a dibujar los fragmentos a partir de una molecula que si los posea y los comparamos con la que no "
   ]
  },
  {
   "cell_type": "code",
   "execution_count": 41,
   "id": "fee5ade8",
   "metadata": {},
   "outputs": [],
   "source": [
    "#Visualizacion con filtro\n",
    "tpls =[(positive_mol,x,bi) for x in fp.GetOnBits() if x in desired_bits]\n",
    "# print(tpls)\n",
    "\n",
    "\n",
    "drawOptions = Draw.rdMolDraw2D.MolDrawOptions()\n",
    "drawer = Draw.DrawMorganBits(tpls,molsPerRow=4,legends=[str(x) for x in fp.GetOnBits() if x in desired_bits ], \n",
    "                             #useSVG=True,\n",
    "                             subImgSize=(450, 450),\n",
    "                             drawOptions = drawOptions,\n",
    "                            )"
   ]
  },
  {
   "cell_type": "code",
   "execution_count": 42,
   "id": "54f7c349",
   "metadata": {},
   "outputs": [],
   "source": [
    "drawer.save(f\"{root}Amox_fragments.jpg\")"
   ]
  },
  {
   "cell_type": "code",
   "execution_count": 43,
   "id": "3aa886bf",
   "metadata": {},
   "outputs": [
    {
     "data": {
      "image/png": "[encoded data removed]",
      "text/plain": [
       "<PIL.PngImagePlugin.PngImageFile image mode=RGB size=1800x450 at 0x7FA56F764670>"
      ]
     },
     "execution_count": 43,
     "metadata": {},
     "output_type": "execute_result"
    }
   ],
   "source": [
    "drawer"
   ]
  },
  {
   "cell_type": "code",
   "execution_count": 45,
   "id": "06267a5f",
   "metadata": {},
   "outputs": [],
   "source": [
    "from PIL import Image\n",
    "#Read the two images\n",
    "#image1 = mol_\n",
    "image1 = Image.open(f'{root}{drug_name}.jpg')\n",
    "image1.show()\n",
    "image2 = Image.open(f'{root}{drug_name}_fragments.jpg')\n",
    "#image2.show()\n",
    "#resize, first image\n",
    "image1 = image1.resize((450, 450))\n",
    "#image2 = image2.resize((450, 450))\n",
    "image1_size = image1.size\n",
    "image2_size = image2.size\n",
    "new_image = Image.new('RGB',(5*image1_size[0], image1_size[1]), (450, 450, 450))\n",
    "new_image.paste(image1,(0,0))\n",
    "new_image.paste(image2,(image1_size[0],0))\n",
    "new_image.save(f\"{root}id{drug_name}_merged.jpg\",\"JPEG\")\n",
    "new_image.show()"
   ]
  },
  {
   "cell_type": "code",
   "execution_count": null,
   "id": "31e0ad8a",
   "metadata": {},
   "outputs": [],
   "source": []
  }
 ],
 "metadata": {
  "kernelspec": {
   "display_name": "Python 3",
   "language": "python",
   "name": "python3"
  },
  "language_info": {
   "codemirror_mode": {
    "name": "ipython",
    "version": 3
   },
   "file_extension": ".py",
   "mimetype": "text/x-python",
   "name": "python",
   "nbconvert_exporter": "python",
   "pygments_lexer": "ipython3",
   "version": "3.8.5"
  }
 },
 "nbformat": 4,
 "nbformat_minor": 5
}
