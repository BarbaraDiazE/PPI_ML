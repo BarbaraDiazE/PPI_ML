{
 "cells": [
  {
   "cell_type": "code",
   "execution_count": 1,
   "id": "933a08e6",
   "metadata": {},
   "outputs": [],
   "source": [
    "import os\n",
    "import sys\n",
    "sys.path.insert(0, os.path.abspath('/home/babs/Documents/DIFACQUIM/PPI_ML'))"
   ]
  },
  {
   "cell_type": "code",
   "execution_count": 2,
   "id": "63264f9f",
   "metadata": {},
   "outputs": [],
   "source": [
    "import phase1\n"
   ]
  },
  {
   "cell_type": "code",
   "execution_count": 3,
   "id": "515ec2c9",
   "metadata": {},
   "outputs": [],
   "source": [
    "from phase1.support_functions.df_management import get_data, get_random_smiles, get_positive_records, filter_positive_bits, filter_negative_bits\n",
    "from phase1.support_functions.draw_molecules import get_ECFP4_bits, get_ECFP6_bits, draw_one_fragment"
   ]
  },
  {
   "cell_type": "code",
   "execution_count": 4,
   "id": "45bf59bf",
   "metadata": {},
   "outputs": [],
   "source": [
    "from phase1.support_functions.df_management import *"
   ]
  },
  {
   "cell_type": "code",
   "execution_count": 5,
   "id": "d6e7d860",
   "metadata": {},
   "outputs": [
    {
     "data": {
      "text/plain": [
       "[1390, 935, 1160, 202, 160]"
      ]
     },
     "execution_count": 5,
     "metadata": {},
     "output_type": "execute_result"
    }
   ],
   "source": [
    "coeff = get_coefficients(\"SVM17_+_-std.csv\")\n",
    "coeff = coeff.Descriptors.to_list()\n",
    "coeff[:5]"
   ]
  },
  {
   "cell_type": "code",
   "execution_count": 6,
   "id": "f42c12ea",
   "metadata": {},
   "outputs": [
    {
     "name": "stdout",
     "output_type": "stream",
     "text": [
      "   ipp_id chembl_id                                             SMILES  \\\n",
      "0     4.0       NaN     OC(=O)[C@H](Cc1c[nH]c2ccccc12)NC(=O)c1ccccc1Br   \n",
      "1     7.0       NaN  Cc1cc2CN(CCc2c(C)c1C(=O)N[C@@H](CNC(=O)c1cccs1...   \n",
      "\n",
      "  library  PPI family  PPI    0    1    2    3  ...  2038  2039  2040  2041  \\\n",
      "0     PPI  LFA / ICAM  Yes  0.0  1.0  0.0  0.0  ...   0.0   0.0   0.0   0.0   \n",
      "1     PPI  LFA / ICAM  Yes  0.0  1.0  0.0  0.0  ...   0.0   0.0   0.0   0.0   \n",
      "\n",
      "   2042  2043  2044  2045  2046  2047  \n",
      "0   0.0   0.0   0.0   0.0   0.0   0.0  \n",
      "1   0.0   0.0   0.0   0.0   0.0   0.0  \n",
      "\n",
      "[2 rows x 2054 columns]\n"
     ]
    },
    {
     "name": "stderr",
     "output_type": "stream",
     "text": [
      "/home/babs/.pyenv/versions/miniconda3-3.8-4.9.2/lib/python3.8/site-packages/IPython/core/interactiveshell.py:3357: DtypeWarning: Columns (2,5) have mixed types.Specify dtype option on import or set low_memory=False.\n",
      "  if (await self.run_code(code, result,  async_=asy)):\n"
     ]
    }
   ],
   "source": [
    "data = get_data(\"dataset_ecfp6.csv\")\n",
    "print(data.head(2))"
   ]
  },
  {
   "cell_type": "code",
   "execution_count": null,
   "id": "f912e02b",
   "metadata": {},
   "outputs": [],
   "source": []
  },
  {
   "cell_type": "code",
   "execution_count": 7,
   "id": "cb9dae78",
   "metadata": {},
   "outputs": [
    {
     "data": {
      "text/plain": [
       "'OC(=O)[C@H](Cc1c[nH]c2ccccc12)NC(=O)c1ccccc1Br'"
      ]
     },
     "execution_count": 7,
     "metadata": {},
     "output_type": "execute_result"
    }
   ],
   "source": [
    "# bring molecule information\n",
    "molecule0 = data.iloc[0]\n",
    "molecule0.SMILES"
   ]
  },
  {
   "cell_type": "code",
   "execution_count": null,
   "id": "26f86247",
   "metadata": {},
   "outputs": [],
   "source": []
  },
  {
   "cell_type": "code",
   "execution_count": 8,
   "id": "eace1d59",
   "metadata": {},
   "outputs": [],
   "source": [
    "#positive records for molecule0\n",
    "molecule0_positive = get_positive_records(molecule0)"
   ]
  },
  {
   "cell_type": "code",
   "execution_count": 9,
   "id": "ac634db9",
   "metadata": {},
   "outputs": [
    {
     "data": {
      "text/plain": [
       "[1, 46, 57, 79, 80]"
      ]
     },
     "execution_count": 9,
     "metadata": {},
     "output_type": "execute_result"
    }
   ],
   "source": [
    "molecule0_positive[:5]"
   ]
  },
  {
   "cell_type": "code",
   "execution_count": 10,
   "id": "d02dc78f",
   "metadata": {},
   "outputs": [],
   "source": [
    "import rdkit\n",
    "from rdkit import Chem\n",
    "from rdkit.Chem import rdMolDescriptors\n",
    "from rdkit.Chem.Draw import IPythonConsole"
   ]
  },
  {
   "cell_type": "code",
   "execution_count": null,
   "id": "2f498ad8",
   "metadata": {},
   "outputs": [],
   "source": []
  },
  {
   "cell_type": "markdown",
   "id": "00be36e4",
   "metadata": {},
   "source": [
    "# filter positives"
   ]
  },
  {
   "cell_type": "code",
   "execution_count": 19,
   "id": "1148af93",
   "metadata": {},
   "outputs": [
    {
     "data": {
      "text/html": [
       "<div>\n",
       "<style scoped>\n",
       "    .dataframe tbody tr th:only-of-type {\n",
       "        vertical-align: middle;\n",
       "    }\n",
       "\n",
       "    .dataframe tbody tr th {\n",
       "        vertical-align: top;\n",
       "    }\n",
       "\n",
       "    .dataframe thead th {\n",
       "        text-align: right;\n",
       "    }\n",
       "</style>\n",
       "<table border=\"1\" class=\"dataframe\">\n",
       "  <thead>\n",
       "    <tr style=\"text-align: right;\">\n",
       "      <th></th>\n",
       "      <th>ipp_id</th>\n",
       "      <th>chembl_id</th>\n",
       "      <th>SMILES</th>\n",
       "      <th>library</th>\n",
       "      <th>PPI family</th>\n",
       "      <th>PPI</th>\n",
       "      <th>0</th>\n",
       "      <th>1</th>\n",
       "      <th>2</th>\n",
       "      <th>3</th>\n",
       "      <th>...</th>\n",
       "      <th>2038</th>\n",
       "      <th>2039</th>\n",
       "      <th>2040</th>\n",
       "      <th>2041</th>\n",
       "      <th>2042</th>\n",
       "      <th>2043</th>\n",
       "      <th>2044</th>\n",
       "      <th>2045</th>\n",
       "      <th>2046</th>\n",
       "      <th>2047</th>\n",
       "    </tr>\n",
       "  </thead>\n",
       "  <tbody>\n",
       "    <tr>\n",
       "      <th>1</th>\n",
       "      <td>7.0</td>\n",
       "      <td>NaN</td>\n",
       "      <td>Cc1cc2CN(CCc2c(C)c1C(=O)N[C@@H](CNC(=O)c1cccs1...</td>\n",
       "      <td>PPI</td>\n",
       "      <td>LFA / ICAM</td>\n",
       "      <td>Yes</td>\n",
       "      <td>0.0</td>\n",
       "      <td>1.0</td>\n",
       "      <td>0.0</td>\n",
       "      <td>0.0</td>\n",
       "      <td>...</td>\n",
       "      <td>0.0</td>\n",
       "      <td>0.0</td>\n",
       "      <td>0.0</td>\n",
       "      <td>0.0</td>\n",
       "      <td>0.0</td>\n",
       "      <td>0.0</td>\n",
       "      <td>0.0</td>\n",
       "      <td>0.0</td>\n",
       "      <td>0.0</td>\n",
       "      <td>0.0</td>\n",
       "    </tr>\n",
       "    <tr>\n",
       "      <th>4</th>\n",
       "      <td>24.0</td>\n",
       "      <td>NaN</td>\n",
       "      <td>Cc1cc2CN(CCc2c(C)c1C(=O)N[C@@H](CNC(=O)c1cccs1...</td>\n",
       "      <td>PPI</td>\n",
       "      <td>LFA / ICAM</td>\n",
       "      <td>Yes</td>\n",
       "      <td>0.0</td>\n",
       "      <td>1.0</td>\n",
       "      <td>0.0</td>\n",
       "      <td>0.0</td>\n",
       "      <td>...</td>\n",
       "      <td>0.0</td>\n",
       "      <td>0.0</td>\n",
       "      <td>0.0</td>\n",
       "      <td>0.0</td>\n",
       "      <td>0.0</td>\n",
       "      <td>0.0</td>\n",
       "      <td>0.0</td>\n",
       "      <td>0.0</td>\n",
       "      <td>0.0</td>\n",
       "      <td>0.0</td>\n",
       "    </tr>\n",
       "    <tr>\n",
       "      <th>5</th>\n",
       "      <td>26.0</td>\n",
       "      <td>NaN</td>\n",
       "      <td>CC(C)c1ccccc1Sc1ccc(cc1C(F)(F)F)-c1ccnc(c1)N1C...</td>\n",
       "      <td>PPI</td>\n",
       "      <td>LFA / ICAM</td>\n",
       "      <td>Yes</td>\n",
       "      <td>0.0</td>\n",
       "      <td>1.0</td>\n",
       "      <td>1.0</td>\n",
       "      <td>0.0</td>\n",
       "      <td>...</td>\n",
       "      <td>0.0</td>\n",
       "      <td>0.0</td>\n",
       "      <td>0.0</td>\n",
       "      <td>0.0</td>\n",
       "      <td>0.0</td>\n",
       "      <td>0.0</td>\n",
       "      <td>0.0</td>\n",
       "      <td>0.0</td>\n",
       "      <td>0.0</td>\n",
       "      <td>0.0</td>\n",
       "    </tr>\n",
       "    <tr>\n",
       "      <th>6</th>\n",
       "      <td>28.0</td>\n",
       "      <td>NaN</td>\n",
       "      <td>FC(F)(F)c1c(Sc2ccccc2OCc2cccnc2)ccc(\\C=C\\C(=O)...</td>\n",
       "      <td>PPI</td>\n",
       "      <td>LFA / ICAM</td>\n",
       "      <td>Yes</td>\n",
       "      <td>0.0</td>\n",
       "      <td>0.0</td>\n",
       "      <td>0.0</td>\n",
       "      <td>0.0</td>\n",
       "      <td>...</td>\n",
       "      <td>0.0</td>\n",
       "      <td>0.0</td>\n",
       "      <td>0.0</td>\n",
       "      <td>0.0</td>\n",
       "      <td>0.0</td>\n",
       "      <td>0.0</td>\n",
       "      <td>0.0</td>\n",
       "      <td>0.0</td>\n",
       "      <td>0.0</td>\n",
       "      <td>0.0</td>\n",
       "    </tr>\n",
       "    <tr>\n",
       "      <th>7</th>\n",
       "      <td>31.0</td>\n",
       "      <td>NaN</td>\n",
       "      <td>CC(=O)N1CCN(CC1)c1cc(ccn1)-c1ccc(Sc2ccc3OCCOc3...</td>\n",
       "      <td>PPI</td>\n",
       "      <td>LFA / ICAM</td>\n",
       "      <td>Yes</td>\n",
       "      <td>0.0</td>\n",
       "      <td>0.0</td>\n",
       "      <td>0.0</td>\n",
       "      <td>0.0</td>\n",
       "      <td>...</td>\n",
       "      <td>0.0</td>\n",
       "      <td>0.0</td>\n",
       "      <td>0.0</td>\n",
       "      <td>0.0</td>\n",
       "      <td>0.0</td>\n",
       "      <td>0.0</td>\n",
       "      <td>0.0</td>\n",
       "      <td>0.0</td>\n",
       "      <td>0.0</td>\n",
       "      <td>0.0</td>\n",
       "    </tr>\n",
       "    <tr>\n",
       "      <th>...</th>\n",
       "      <td>...</td>\n",
       "      <td>...</td>\n",
       "      <td>...</td>\n",
       "      <td>...</td>\n",
       "      <td>...</td>\n",
       "      <td>...</td>\n",
       "      <td>...</td>\n",
       "      <td>...</td>\n",
       "      <td>...</td>\n",
       "      <td>...</td>\n",
       "      <td>...</td>\n",
       "      <td>...</td>\n",
       "      <td>...</td>\n",
       "      <td>...</td>\n",
       "      <td>...</td>\n",
       "      <td>...</td>\n",
       "      <td>...</td>\n",
       "      <td>...</td>\n",
       "      <td>...</td>\n",
       "      <td>...</td>\n",
       "      <td>...</td>\n",
       "    </tr>\n",
       "    <tr>\n",
       "      <th>4600</th>\n",
       "      <td>NaN</td>\n",
       "      <td>Eslicarbazepine</td>\n",
       "      <td>NC(=O)N1C2=C(C[C@H](O)C3=C1C=CC=C3)C=CC=C2</td>\n",
       "      <td>FDA</td>\n",
       "      <td>NaN</td>\n",
       "      <td>No</td>\n",
       "      <td>1.0</td>\n",
       "      <td>0.0</td>\n",
       "      <td>0.0</td>\n",
       "      <td>0.0</td>\n",
       "      <td>...</td>\n",
       "      <td>0.0</td>\n",
       "      <td>0.0</td>\n",
       "      <td>0.0</td>\n",
       "      <td>0.0</td>\n",
       "      <td>0.0</td>\n",
       "      <td>1.0</td>\n",
       "      <td>0.0</td>\n",
       "      <td>0.0</td>\n",
       "      <td>0.0</td>\n",
       "      <td>0.0</td>\n",
       "    </tr>\n",
       "    <tr>\n",
       "      <th>4608</th>\n",
       "      <td>NaN</td>\n",
       "      <td>Lypressin</td>\n",
       "      <td>[H]N([H])C(=O)C[C@]1([H])NC(=O)[C@H](CCC(N)=O)...</td>\n",
       "      <td>FDA</td>\n",
       "      <td>NaN</td>\n",
       "      <td>No</td>\n",
       "      <td>0.0</td>\n",
       "      <td>1.0</td>\n",
       "      <td>0.0</td>\n",
       "      <td>0.0</td>\n",
       "      <td>...</td>\n",
       "      <td>0.0</td>\n",
       "      <td>0.0</td>\n",
       "      <td>0.0</td>\n",
       "      <td>0.0</td>\n",
       "      <td>0.0</td>\n",
       "      <td>0.0</td>\n",
       "      <td>0.0</td>\n",
       "      <td>0.0</td>\n",
       "      <td>0.0</td>\n",
       "      <td>0.0</td>\n",
       "    </tr>\n",
       "    <tr>\n",
       "      <th>4624</th>\n",
       "      <td>NaN</td>\n",
       "      <td>Larotrectinib</td>\n",
       "      <td>O[C@H]1CCN(C1)C(=O)NC1=C2N=C(C=CN2N=C1)N1CCC[C...</td>\n",
       "      <td>FDA</td>\n",
       "      <td>NaN</td>\n",
       "      <td>No</td>\n",
       "      <td>0.0</td>\n",
       "      <td>0.0</td>\n",
       "      <td>0.0</td>\n",
       "      <td>0.0</td>\n",
       "      <td>...</td>\n",
       "      <td>0.0</td>\n",
       "      <td>1.0</td>\n",
       "      <td>0.0</td>\n",
       "      <td>0.0</td>\n",
       "      <td>0.0</td>\n",
       "      <td>0.0</td>\n",
       "      <td>0.0</td>\n",
       "      <td>0.0</td>\n",
       "      <td>0.0</td>\n",
       "      <td>0.0</td>\n",
       "    </tr>\n",
       "    <tr>\n",
       "      <th>4625</th>\n",
       "      <td>NaN</td>\n",
       "      <td>Cefamandole nafate</td>\n",
       "      <td>[H][C@]12SCC(CSC3=NN=NN3C)=C(N1C(=O)[C@H]2NC(=...</td>\n",
       "      <td>FDA</td>\n",
       "      <td>NaN</td>\n",
       "      <td>No</td>\n",
       "      <td>0.0</td>\n",
       "      <td>1.0</td>\n",
       "      <td>1.0</td>\n",
       "      <td>0.0</td>\n",
       "      <td>...</td>\n",
       "      <td>0.0</td>\n",
       "      <td>0.0</td>\n",
       "      <td>0.0</td>\n",
       "      <td>0.0</td>\n",
       "      <td>0.0</td>\n",
       "      <td>0.0</td>\n",
       "      <td>0.0</td>\n",
       "      <td>0.0</td>\n",
       "      <td>0.0</td>\n",
       "      <td>0.0</td>\n",
       "    </tr>\n",
       "    <tr>\n",
       "      <th>4629</th>\n",
       "      <td>NaN</td>\n",
       "      <td>Cycloguanil</td>\n",
       "      <td>CC1(C)N=C(N)N=C(N)N1C1=CC=C(Cl)C=C1</td>\n",
       "      <td>FDA</td>\n",
       "      <td>NaN</td>\n",
       "      <td>No</td>\n",
       "      <td>0.0</td>\n",
       "      <td>0.0</td>\n",
       "      <td>0.0</td>\n",
       "      <td>0.0</td>\n",
       "      <td>...</td>\n",
       "      <td>0.0</td>\n",
       "      <td>0.0</td>\n",
       "      <td>0.0</td>\n",
       "      <td>0.0</td>\n",
       "      <td>0.0</td>\n",
       "      <td>0.0</td>\n",
       "      <td>0.0</td>\n",
       "      <td>0.0</td>\n",
       "      <td>0.0</td>\n",
       "      <td>0.0</td>\n",
       "    </tr>\n",
       "  </tbody>\n",
       "</table>\n",
       "<p>2414 rows × 2054 columns</p>\n",
       "</div>"
      ],
      "text/plain": [
       "      ipp_id           chembl_id  \\\n",
       "1        7.0                 NaN   \n",
       "4       24.0                 NaN   \n",
       "5       26.0                 NaN   \n",
       "6       28.0                 NaN   \n",
       "7       31.0                 NaN   \n",
       "...      ...                 ...   \n",
       "4600     NaN     Eslicarbazepine   \n",
       "4608     NaN           Lypressin   \n",
       "4624     NaN       Larotrectinib   \n",
       "4625     NaN  Cefamandole nafate   \n",
       "4629     NaN         Cycloguanil   \n",
       "\n",
       "                                                 SMILES library  PPI family  \\\n",
       "1     Cc1cc2CN(CCc2c(C)c1C(=O)N[C@@H](CNC(=O)c1cccs1...     PPI  LFA / ICAM   \n",
       "4     Cc1cc2CN(CCc2c(C)c1C(=O)N[C@@H](CNC(=O)c1cccs1...     PPI  LFA / ICAM   \n",
       "5     CC(C)c1ccccc1Sc1ccc(cc1C(F)(F)F)-c1ccnc(c1)N1C...     PPI  LFA / ICAM   \n",
       "6     FC(F)(F)c1c(Sc2ccccc2OCc2cccnc2)ccc(\\C=C\\C(=O)...     PPI  LFA / ICAM   \n",
       "7     CC(=O)N1CCN(CC1)c1cc(ccn1)-c1ccc(Sc2ccc3OCCOc3...     PPI  LFA / ICAM   \n",
       "...                                                 ...     ...         ...   \n",
       "4600         NC(=O)N1C2=C(C[C@H](O)C3=C1C=CC=C3)C=CC=C2     FDA         NaN   \n",
       "4608  [H]N([H])C(=O)C[C@]1([H])NC(=O)[C@H](CCC(N)=O)...     FDA         NaN   \n",
       "4624  O[C@H]1CCN(C1)C(=O)NC1=C2N=C(C=CN2N=C1)N1CCC[C...     FDA         NaN   \n",
       "4625  [H][C@]12SCC(CSC3=NN=NN3C)=C(N1C(=O)[C@H]2NC(=...     FDA         NaN   \n",
       "4629                CC1(C)N=C(N)N=C(N)N1C1=CC=C(Cl)C=C1     FDA         NaN   \n",
       "\n",
       "      PPI    0    1    2    3  ...  2038  2039  2040  2041  2042  2043  2044  \\\n",
       "1     Yes  0.0  1.0  0.0  0.0  ...   0.0   0.0   0.0   0.0   0.0   0.0   0.0   \n",
       "4     Yes  0.0  1.0  0.0  0.0  ...   0.0   0.0   0.0   0.0   0.0   0.0   0.0   \n",
       "5     Yes  0.0  1.0  1.0  0.0  ...   0.0   0.0   0.0   0.0   0.0   0.0   0.0   \n",
       "6     Yes  0.0  0.0  0.0  0.0  ...   0.0   0.0   0.0   0.0   0.0   0.0   0.0   \n",
       "7     Yes  0.0  0.0  0.0  0.0  ...   0.0   0.0   0.0   0.0   0.0   0.0   0.0   \n",
       "...   ...  ...  ...  ...  ...  ...   ...   ...   ...   ...   ...   ...   ...   \n",
       "4600   No  1.0  0.0  0.0  0.0  ...   0.0   0.0   0.0   0.0   0.0   1.0   0.0   \n",
       "4608   No  0.0  1.0  0.0  0.0  ...   0.0   0.0   0.0   0.0   0.0   0.0   0.0   \n",
       "4624   No  0.0  0.0  0.0  0.0  ...   0.0   1.0   0.0   0.0   0.0   0.0   0.0   \n",
       "4625   No  0.0  1.0  1.0  0.0  ...   0.0   0.0   0.0   0.0   0.0   0.0   0.0   \n",
       "4629   No  0.0  0.0  0.0  0.0  ...   0.0   0.0   0.0   0.0   0.0   0.0   0.0   \n",
       "\n",
       "      2045  2046  2047  \n",
       "1      0.0   0.0   0.0  \n",
       "4      0.0   0.0   0.0  \n",
       "5      0.0   0.0   0.0  \n",
       "6      0.0   0.0   0.0  \n",
       "7      0.0   0.0   0.0  \n",
       "...    ...   ...   ...  \n",
       "4600   0.0   0.0   0.0  \n",
       "4608   0.0   0.0   0.0  \n",
       "4624   0.0   0.0   0.0  \n",
       "4625   0.0   0.0   0.0  \n",
       "4629   0.0   0.0   0.0  \n",
       "\n",
       "[2414 rows x 2054 columns]"
      ]
     },
     "execution_count": 19,
     "metadata": {},
     "output_type": "execute_result"
    }
   ],
   "source": [
    "bits_ = [935]\n",
    "positives_0 = filter_positive_bits(bits_, data)\n",
    "positives_0"
   ]
  },
  {
   "cell_type": "code",
   "execution_count": 20,
   "id": "0c6bf540",
   "metadata": {},
   "outputs": [],
   "source": [
    "# positives_0"
   ]
  },
  {
   "cell_type": "code",
   "execution_count": 21,
   "id": "d5506841",
   "metadata": {},
   "outputs": [],
   "source": [
    "#bits_ = [1390, 935]\n",
    "#positives_1 = filter_positive_bits(bits_, data)\n",
    "# print(f\"molecules : {positives_1.shape}\")\n",
    "# print(positives_1.iloc[90][[\"ipp_id\", \"SMILES\"]])"
   ]
  },
  {
   "cell_type": "code",
   "execution_count": 22,
   "id": "71ea32e6",
   "metadata": {},
   "outputs": [
    {
     "data": {
      "text/plain": [
       "965    1.0\n",
       "Name: 935, dtype: float64"
      ]
     },
     "execution_count": 22,
     "metadata": {},
     "output_type": "execute_result"
    }
   ],
   "source": [
    "data[data[\"ipp_id\"]==1798.0][\"935\"]"
   ]
  },
  {
   "cell_type": "code",
   "execution_count": 23,
   "id": "85b30603",
   "metadata": {},
   "outputs": [
    {
     "data": {
      "text/html": [
       "<div>\n",
       "<style scoped>\n",
       "    .dataframe tbody tr th:only-of-type {\n",
       "        vertical-align: middle;\n",
       "    }\n",
       "\n",
       "    .dataframe tbody tr th {\n",
       "        vertical-align: top;\n",
       "    }\n",
       "\n",
       "    .dataframe thead th {\n",
       "        text-align: right;\n",
       "    }\n",
       "</style>\n",
       "<table border=\"1\" class=\"dataframe\">\n",
       "  <thead>\n",
       "    <tr style=\"text-align: right;\">\n",
       "      <th></th>\n",
       "      <th>ipp_id</th>\n",
       "      <th>chembl_id</th>\n",
       "      <th>SMILES</th>\n",
       "      <th>library</th>\n",
       "      <th>PPI family</th>\n",
       "      <th>PPI</th>\n",
       "      <th>0</th>\n",
       "      <th>1</th>\n",
       "      <th>2</th>\n",
       "      <th>3</th>\n",
       "      <th>...</th>\n",
       "      <th>2038</th>\n",
       "      <th>2039</th>\n",
       "      <th>2040</th>\n",
       "      <th>2041</th>\n",
       "      <th>2042</th>\n",
       "      <th>2043</th>\n",
       "      <th>2044</th>\n",
       "      <th>2045</th>\n",
       "      <th>2046</th>\n",
       "      <th>2047</th>\n",
       "    </tr>\n",
       "  </thead>\n",
       "  <tbody>\n",
       "    <tr>\n",
       "      <th>965</th>\n",
       "      <td>1798.0</td>\n",
       "      <td>NaN</td>\n",
       "      <td>CC1(C)CCC(CN2CCN(CC2)c2ccc(C(=O)NS(=O)(=O)c3cc...</td>\n",
       "      <td>PPI</td>\n",
       "      <td>BCL2-Like / BAX</td>\n",
       "      <td>Yes</td>\n",
       "      <td>0.0</td>\n",
       "      <td>0.0</td>\n",
       "      <td>0.0</td>\n",
       "      <td>0.0</td>\n",
       "      <td>...</td>\n",
       "      <td>0.0</td>\n",
       "      <td>0.0</td>\n",
       "      <td>0.0</td>\n",
       "      <td>0.0</td>\n",
       "      <td>0.0</td>\n",
       "      <td>0.0</td>\n",
       "      <td>0.0</td>\n",
       "      <td>0.0</td>\n",
       "      <td>0.0</td>\n",
       "      <td>0.0</td>\n",
       "    </tr>\n",
       "  </tbody>\n",
       "</table>\n",
       "<p>1 rows × 2054 columns</p>\n",
       "</div>"
      ],
      "text/plain": [
       "     ipp_id chembl_id                                             SMILES  \\\n",
       "965  1798.0       NaN  CC1(C)CCC(CN2CCN(CC2)c2ccc(C(=O)NS(=O)(=O)c3cc...   \n",
       "\n",
       "    library       PPI family  PPI    0    1    2    3  ...  2038  2039  2040  \\\n",
       "965     PPI  BCL2-Like / BAX  Yes  0.0  0.0  0.0  0.0  ...   0.0   0.0   0.0   \n",
       "\n",
       "     2041  2042  2043  2044  2045  2046  2047  \n",
       "965   0.0   0.0   0.0   0.0   0.0   0.0   0.0  \n",
       "\n",
       "[1 rows x 2054 columns]"
      ]
     },
     "execution_count": 23,
     "metadata": {},
     "output_type": "execute_result"
    }
   ],
   "source": [
    "positives_0[positives_0[\"ipp_id\"]==1798.0]"
   ]
  },
  {
   "cell_type": "code",
   "execution_count": 26,
   "id": "a073b866",
   "metadata": {},
   "outputs": [],
   "source": [
    "positive_molecule = positives_0[positives_0[\"ipp_id\"]==1798.0].SMILES\n"
   ]
  },
  {
   "cell_type": "code",
   "execution_count": 33,
   "id": "42c4ad35",
   "metadata": {},
   "outputs": [],
   "source": [
    "positive_molecule = positive_molecule.iloc[0]\n"
   ]
  },
  {
   "cell_type": "code",
   "execution_count": 35,
   "id": "d7774bc3",
   "metadata": {},
   "outputs": [],
   "source": [
    "#draw_one_fragment(positive_molecule, 1390, 3)"
   ]
  },
  {
   "cell_type": "code",
   "execution_count": 38,
   "id": "602c1a69",
   "metadata": {},
   "outputs": [
    {
     "data": {
      "text/plain": [
       "'CC1(C)CCC(CN2CCN(CC2)c2ccc(C(=O)NS(=O)(=O)c3ccc(NCC4CCOCC4)c(c3)[N+]([O-])=O)c(Oc3cnc4[nH]ccc4c3)c2)=C(C1)c1ccc(Cl)cc1'"
      ]
     },
     "execution_count": 38,
     "metadata": {},
     "output_type": "execute_result"
    }
   ],
   "source": [
    "positive_molecule"
   ]
  },
  {
   "cell_type": "code",
   "execution_count": 36,
   "id": "427ddf06",
   "metadata": {},
   "outputs": [
    {
     "data": {
      "image/png": "[encoded data removed]",
      "text/plain": [
       "<rdkit.Chem.rdchem.Mol at 0x7f44611a65d0>"
      ]
     },
     "execution_count": 36,
     "metadata": {},
     "output_type": "execute_result"
    }
   ],
   "source": [
    "mol_ = Chem.MolFromSmiles(positive_molecule)\n",
    "mol_"
   ]
  },
  {
   "cell_type": "code",
   "execution_count": 39,
   "id": "ace0a65e",
   "metadata": {},
   "outputs": [
    {
     "data": {
      "image/svg+xml": [
       "<svg xmlns=\"http://www.w3.org/2000/svg\" xmlns:rdkit=\"http://www.rdkit.org/xml\" xmlns:xlink=\"http://www.w3.org/1999/xlink\" version=\"1.1\" baseProfile=\"full\" xml:space=\"preserve\" width=\"450px\" height=\"450px\" viewBox=\"0 0 450 450\">\n",
       "<!-- END OF HEADER -->\n",
       "<rect style=\"opacity:1.0;fill:#FFFFFF;stroke:none\" width=\"450.0\" height=\"450.0\" x=\"0.0\" y=\"0.0\"> </rect>\n",
       "<path class=\"bond-0 atom-0 atom-1\" d=\"M 416.7,246.0 L 396.4,241.1\" style=\"fill:none;fill-rule:evenodd;stroke:#000000;stroke-width:2.0px;stroke-linecap:butt;stroke-linejoin:miter;stroke-opacity:1\"/>\n",
       "<path class=\"bond-1 atom-1 atom-2\" d=\"M 396.4,241.1 L 395.2,262.0\" style=\"fill:none;fill-rule:evenodd;stroke:#000000;stroke-width:2.0px;stroke-linecap:butt;stroke-linejoin:miter;stroke-opacity:1\"/>\n",
       "<path class=\"bond-2 atom-1 atom-3\" d=\"M 396.4,241.1 L 375.7,243.5\" style=\"fill:none;fill-rule:evenodd;stroke:#000000;stroke-width:2.0px;stroke-linecap:butt;stroke-linejoin:miter;stroke-opacity:1\"/>\n",
       "<path class=\"bond-3 atom-3 atom-4\" d=\"M 375.7,243.5 L 363.2,226.8\" style=\"fill:none;fill-rule:evenodd;stroke:#000000;stroke-width:2.0px;stroke-linecap:butt;stroke-linejoin:miter;stroke-opacity:1\"/>\n",
       "<path class=\"bond-4 atom-4 atom-5\" d=\"M 363.2,226.8 L 371.5,207.6\" style=\"fill:none;fill-rule:evenodd;stroke:#000000;stroke-width:2.0px;stroke-linecap:butt;stroke-linejoin:miter;stroke-opacity:1\"/>\n",
       "<path class=\"bond-5 atom-5 atom-6\" d=\"M 371.5,207.6 L 359.1,190.9\" style=\"fill:none;fill-rule:evenodd;stroke:#000000;stroke-width:2.0px;stroke-linecap:butt;stroke-linejoin:miter;stroke-opacity:1\"/>\n",
       "<path class=\"bond-6 atom-6 atom-7\" d=\"M 359.1,190.9 L 350.2,191.9\" style=\"fill:none;fill-rule:evenodd;stroke:#000000;stroke-width:2.0px;stroke-linecap:butt;stroke-linejoin:miter;stroke-opacity:1\"/>\n",
       "<path class=\"bond-6 atom-6 atom-7\" d=\"M 350.2,191.9 L 341.3,192.9\" style=\"fill:none;fill-rule:evenodd;stroke:#0000FF;stroke-width:2.0px;stroke-linecap:butt;stroke-linejoin:miter;stroke-opacity:1\"/>\n",
       "<path class=\"bond-7 atom-7 atom-8\" d=\"M 335.6,189.6 L 330.8,183.1\" style=\"fill:none;fill-rule:evenodd;stroke:#0000FF;stroke-width:2.0px;stroke-linecap:butt;stroke-linejoin:miter;stroke-opacity:1\"/>\n",
       "<path class=\"bond-7 atom-7 atom-8\" d=\"M 330.8,183.1 L 325.9,176.5\" style=\"fill:none;fill-rule:evenodd;stroke:#000000;stroke-width:2.0px;stroke-linecap:butt;stroke-linejoin:miter;stroke-opacity:1\"/>\n",
       "<path class=\"bond-8 atom-8 atom-9\" d=\"M 325.9,176.5 L 305.1,178.9\" style=\"fill:none;fill-rule:evenodd;stroke:#000000;stroke-width:2.0px;stroke-linecap:butt;stroke-linejoin:miter;stroke-opacity:1\"/>\n",
       "<path class=\"bond-9 atom-9 atom-10\" d=\"M 305.1,178.9 L 301.8,186.7\" style=\"fill:none;fill-rule:evenodd;stroke:#000000;stroke-width:2.0px;stroke-linecap:butt;stroke-linejoin:miter;stroke-opacity:1\"/>\n",
       "<path class=\"bond-9 atom-9 atom-10\" d=\"M 301.8,186.7 L 298.4,194.4\" style=\"fill:none;fill-rule:evenodd;stroke:#0000FF;stroke-width:2.0px;stroke-linecap:butt;stroke-linejoin:miter;stroke-opacity:1\"/>\n",
       "<path class=\"bond-10 atom-10 atom-11\" d=\"M 299.6,201.7 L 304.4,208.3\" style=\"fill:none;fill-rule:evenodd;stroke:#0000FF;stroke-width:2.0px;stroke-linecap:butt;stroke-linejoin:miter;stroke-opacity:1\"/>\n",
       "<path class=\"bond-10 atom-10 atom-11\" d=\"M 304.4,208.3 L 309.3,214.8\" style=\"fill:none;fill-rule:evenodd;stroke:#000000;stroke-width:2.0px;stroke-linecap:butt;stroke-linejoin:miter;stroke-opacity:1\"/>\n",
       "<path class=\"bond-11 atom-11 atom-12\" d=\"M 309.3,214.8 L 330.1,212.4\" style=\"fill:none;fill-rule:evenodd;stroke:#000000;stroke-width:2.0px;stroke-linecap:butt;stroke-linejoin:miter;stroke-opacity:1\"/>\n",
       "<path class=\"bond-12 atom-10 atom-13\" d=\"M 293.9,198.4 L 285.0,199.5\" style=\"fill:none;fill-rule:evenodd;stroke:#0000FF;stroke-width:2.0px;stroke-linecap:butt;stroke-linejoin:miter;stroke-opacity:1\"/>\n",
       "<path class=\"bond-12 atom-10 atom-13\" d=\"M 285.0,199.5 L 276.1,200.5\" style=\"fill:none;fill-rule:evenodd;stroke:#000000;stroke-width:2.0px;stroke-linecap:butt;stroke-linejoin:miter;stroke-opacity:1\"/>\n",
       "<path class=\"bond-13 atom-13 atom-14\" d=\"M 276.1,200.5 L 263.7,183.8\" style=\"fill:none;fill-rule:evenodd;stroke:#000000;stroke-width:2.0px;stroke-linecap:butt;stroke-linejoin:miter;stroke-opacity:1\"/>\n",
       "<path class=\"bond-13 atom-13 atom-14\" d=\"M 270.9,200.5 L 262.2,188.8\" style=\"fill:none;fill-rule:evenodd;stroke:#000000;stroke-width:2.0px;stroke-linecap:butt;stroke-linejoin:miter;stroke-opacity:1\"/>\n",
       "<path class=\"bond-14 atom-14 atom-15\" d=\"M 263.7,183.8 L 242.9,186.2\" style=\"fill:none;fill-rule:evenodd;stroke:#000000;stroke-width:2.0px;stroke-linecap:butt;stroke-linejoin:miter;stroke-opacity:1\"/>\n",
       "<path class=\"bond-15 atom-15 atom-16\" d=\"M 242.9,186.2 L 234.7,205.3\" style=\"fill:none;fill-rule:evenodd;stroke:#000000;stroke-width:2.0px;stroke-linecap:butt;stroke-linejoin:miter;stroke-opacity:1\"/>\n",
       "<path class=\"bond-15 atom-15 atom-16\" d=\"M 245.5,190.7 L 239.7,204.1\" style=\"fill:none;fill-rule:evenodd;stroke:#000000;stroke-width:2.0px;stroke-linecap:butt;stroke-linejoin:miter;stroke-opacity:1\"/>\n",
       "<path class=\"bond-16 atom-16 atom-17\" d=\"M 234.7,205.3 L 213.9,207.7\" style=\"fill:none;fill-rule:evenodd;stroke:#000000;stroke-width:2.0px;stroke-linecap:butt;stroke-linejoin:miter;stroke-opacity:1\"/>\n",
       "<path class=\"bond-17 atom-17 atom-18\" d=\"M 215.9,208.6 L 212.5,216.3\" style=\"fill:none;fill-rule:evenodd;stroke:#000000;stroke-width:2.0px;stroke-linecap:butt;stroke-linejoin:miter;stroke-opacity:1\"/>\n",
       "<path class=\"bond-17 atom-17 atom-18\" d=\"M 212.5,216.3 L 209.2,224.0\" style=\"fill:none;fill-rule:evenodd;stroke:#FF0000;stroke-width:2.0px;stroke-linecap:butt;stroke-linejoin:miter;stroke-opacity:1\"/>\n",
       "<path class=\"bond-17 atom-17 atom-18\" d=\"M 212.0,206.9 L 208.7,214.6\" style=\"fill:none;fill-rule:evenodd;stroke:#000000;stroke-width:2.0px;stroke-linecap:butt;stroke-linejoin:miter;stroke-opacity:1\"/>\n",
       "<path class=\"bond-17 atom-17 atom-18\" d=\"M 208.7,214.6 L 205.3,222.4\" style=\"fill:none;fill-rule:evenodd;stroke:#FF0000;stroke-width:2.0px;stroke-linecap:butt;stroke-linejoin:miter;stroke-opacity:1\"/>\n",
       "<path class=\"bond-18 atom-17 atom-19\" d=\"M 213.9,207.7 L 209.1,201.2\" style=\"fill:none;fill-rule:evenodd;stroke:#000000;stroke-width:2.0px;stroke-linecap:butt;stroke-linejoin:miter;stroke-opacity:1\"/>\n",
       "<path class=\"bond-18 atom-17 atom-19\" d=\"M 209.1,201.2 L 204.2,194.6\" style=\"fill:none;fill-rule:evenodd;stroke:#0000FF;stroke-width:2.0px;stroke-linecap:butt;stroke-linejoin:miter;stroke-opacity:1\"/>\n",
       "<path class=\"bond-19 atom-19 atom-20\" d=\"M 198.6,191.3 L 190.9,192.2\" style=\"fill:none;fill-rule:evenodd;stroke:#0000FF;stroke-width:2.0px;stroke-linecap:butt;stroke-linejoin:miter;stroke-opacity:1\"/>\n",
       "<path class=\"bond-19 atom-19 atom-20\" d=\"M 190.9,192.2 L 183.3,193.1\" style=\"fill:none;fill-rule:evenodd;stroke:#CCCC00;stroke-width:2.0px;stroke-linecap:butt;stroke-linejoin:miter;stroke-opacity:1\"/>\n",
       "<path class=\"bond-20 atom-20 atom-21\" d=\"M 183.3,196.9 L 184.0,203.6\" style=\"fill:none;fill-rule:evenodd;stroke:#CCCC00;stroke-width:2.0px;stroke-linecap:butt;stroke-linejoin:miter;stroke-opacity:1\"/>\n",
       "<path class=\"bond-20 atom-20 atom-21\" d=\"M 184.0,203.6 L 184.8,210.2\" style=\"fill:none;fill-rule:evenodd;stroke:#FF0000;stroke-width:2.0px;stroke-linecap:butt;stroke-linejoin:miter;stroke-opacity:1\"/>\n",
       "<path class=\"bond-20 atom-20 atom-21\" d=\"M 179.1,197.4 L 179.9,204.0\" style=\"fill:none;fill-rule:evenodd;stroke:#CCCC00;stroke-width:2.0px;stroke-linecap:butt;stroke-linejoin:miter;stroke-opacity:1\"/>\n",
       "<path class=\"bond-20 atom-20 atom-21\" d=\"M 179.9,204.0 L 180.7,210.7\" style=\"fill:none;fill-rule:evenodd;stroke:#FF0000;stroke-width:2.0px;stroke-linecap:butt;stroke-linejoin:miter;stroke-opacity:1\"/>\n",
       "<path class=\"bond-21 atom-20 atom-22\" d=\"M 178.3,190.0 L 177.5,183.3\" style=\"fill:none;fill-rule:evenodd;stroke:#CCCC00;stroke-width:2.0px;stroke-linecap:butt;stroke-linejoin:miter;stroke-opacity:1\"/>\n",
       "<path class=\"bond-21 atom-20 atom-22\" d=\"M 177.5,183.3 L 176.7,176.7\" style=\"fill:none;fill-rule:evenodd;stroke:#FF0000;stroke-width:2.0px;stroke-linecap:butt;stroke-linejoin:miter;stroke-opacity:1\"/>\n",
       "<path class=\"bond-21 atom-20 atom-22\" d=\"M 182.4,189.5 L 181.6,182.8\" style=\"fill:none;fill-rule:evenodd;stroke:#CCCC00;stroke-width:2.0px;stroke-linecap:butt;stroke-linejoin:miter;stroke-opacity:1\"/>\n",
       "<path class=\"bond-21 atom-20 atom-22\" d=\"M 181.6,182.8 L 180.9,176.2\" style=\"fill:none;fill-rule:evenodd;stroke:#FF0000;stroke-width:2.0px;stroke-linecap:butt;stroke-linejoin:miter;stroke-opacity:1\"/>\n",
       "<path class=\"bond-22 atom-20 atom-23\" d=\"M 178.2,193.7 L 169.1,194.7\" style=\"fill:none;fill-rule:evenodd;stroke:#CCCC00;stroke-width:2.0px;stroke-linecap:butt;stroke-linejoin:miter;stroke-opacity:1\"/>\n",
       "<path class=\"bond-22 atom-20 atom-23\" d=\"M 169.1,194.7 L 160.0,195.8\" style=\"fill:none;fill-rule:evenodd;stroke:#000000;stroke-width:2.0px;stroke-linecap:butt;stroke-linejoin:miter;stroke-opacity:1\"/>\n",
       "<path class=\"bond-23 atom-23 atom-24\" d=\"M 160.0,195.8 L 147.6,179.0\" style=\"fill:none;fill-rule:evenodd;stroke:#000000;stroke-width:2.0px;stroke-linecap:butt;stroke-linejoin:miter;stroke-opacity:1\"/>\n",
       "<path class=\"bond-23 atom-23 atom-24\" d=\"M 154.8,195.8 L 146.1,184.0\" style=\"fill:none;fill-rule:evenodd;stroke:#000000;stroke-width:2.0px;stroke-linecap:butt;stroke-linejoin:miter;stroke-opacity:1\"/>\n",
       "<path class=\"bond-24 atom-24 atom-25\" d=\"M 147.6,179.0 L 126.8,181.4\" style=\"fill:none;fill-rule:evenodd;stroke:#000000;stroke-width:2.0px;stroke-linecap:butt;stroke-linejoin:miter;stroke-opacity:1\"/>\n",
       "<path class=\"bond-25 atom-25 atom-26\" d=\"M 126.8,181.4 L 118.6,200.6\" style=\"fill:none;fill-rule:evenodd;stroke:#000000;stroke-width:2.0px;stroke-linecap:butt;stroke-linejoin:miter;stroke-opacity:1\"/>\n",
       "<path class=\"bond-25 atom-25 atom-26\" d=\"M 129.4,186.0 L 123.6,199.4\" style=\"fill:none;fill-rule:evenodd;stroke:#000000;stroke-width:2.0px;stroke-linecap:butt;stroke-linejoin:miter;stroke-opacity:1\"/>\n",
       "<path class=\"bond-26 atom-26 atom-27\" d=\"M 118.6,200.6 L 109.7,201.6\" style=\"fill:none;fill-rule:evenodd;stroke:#000000;stroke-width:2.0px;stroke-linecap:butt;stroke-linejoin:miter;stroke-opacity:1\"/>\n",
       "<path class=\"bond-26 atom-26 atom-27\" d=\"M 109.7,201.6 L 100.7,202.7\" style=\"fill:none;fill-rule:evenodd;stroke:#0000FF;stroke-width:2.0px;stroke-linecap:butt;stroke-linejoin:miter;stroke-opacity:1\"/>\n",
       "<path class=\"bond-27 atom-27 atom-28\" d=\"M 95.1,199.4 L 90.2,192.8\" style=\"fill:none;fill-rule:evenodd;stroke:#0000FF;stroke-width:2.0px;stroke-linecap:butt;stroke-linejoin:miter;stroke-opacity:1\"/>\n",
       "<path class=\"bond-27 atom-27 atom-28\" d=\"M 90.2,192.8 L 85.4,186.3\" style=\"fill:none;fill-rule:evenodd;stroke:#000000;stroke-width:2.0px;stroke-linecap:butt;stroke-linejoin:miter;stroke-opacity:1\"/>\n",
       "<path class=\"bond-28 atom-28 atom-29\" d=\"M 85.4,186.3 L 64.6,188.7\" style=\"fill:none;fill-rule:evenodd;stroke:#000000;stroke-width:2.0px;stroke-linecap:butt;stroke-linejoin:miter;stroke-opacity:1\"/>\n",
       "<path class=\"bond-29 atom-29 atom-30\" d=\"M 64.6,188.7 L 52.2,171.9\" style=\"fill:none;fill-rule:evenodd;stroke:#000000;stroke-width:2.0px;stroke-linecap:butt;stroke-linejoin:miter;stroke-opacity:1\"/>\n",
       "<path class=\"bond-30 atom-30 atom-31\" d=\"M 52.2,171.9 L 31.4,174.3\" style=\"fill:none;fill-rule:evenodd;stroke:#000000;stroke-width:2.0px;stroke-linecap:butt;stroke-linejoin:miter;stroke-opacity:1\"/>\n",
       "<path class=\"bond-31 atom-31 atom-32\" d=\"M 31.4,174.3 L 28.1,182.1\" style=\"fill:none;fill-rule:evenodd;stroke:#000000;stroke-width:2.0px;stroke-linecap:butt;stroke-linejoin:miter;stroke-opacity:1\"/>\n",
       "<path class=\"bond-31 atom-31 atom-32\" d=\"M 28.1,182.1 L 24.8,189.8\" style=\"fill:none;fill-rule:evenodd;stroke:#FF0000;stroke-width:2.0px;stroke-linecap:butt;stroke-linejoin:miter;stroke-opacity:1\"/>\n",
       "<path class=\"bond-32 atom-32 atom-33\" d=\"M 26.0,197.3 L 30.8,203.7\" style=\"fill:none;fill-rule:evenodd;stroke:#FF0000;stroke-width:2.0px;stroke-linecap:butt;stroke-linejoin:miter;stroke-opacity:1\"/>\n",
       "<path class=\"bond-32 atom-32 atom-33\" d=\"M 30.8,203.7 L 35.6,210.2\" style=\"fill:none;fill-rule:evenodd;stroke:#000000;stroke-width:2.0px;stroke-linecap:butt;stroke-linejoin:miter;stroke-opacity:1\"/>\n",
       "<path class=\"bond-33 atom-33 atom-34\" d=\"M 35.6,210.2 L 56.4,207.8\" style=\"fill:none;fill-rule:evenodd;stroke:#000000;stroke-width:2.0px;stroke-linecap:butt;stroke-linejoin:miter;stroke-opacity:1\"/>\n",
       "<path class=\"bond-34 atom-26 atom-35\" d=\"M 118.6,200.6 L 131.0,217.4\" style=\"fill:none;fill-rule:evenodd;stroke:#000000;stroke-width:2.0px;stroke-linecap:butt;stroke-linejoin:miter;stroke-opacity:1\"/>\n",
       "<path class=\"bond-35 atom-35 atom-36\" d=\"M 131.0,217.4 L 151.7,214.9\" style=\"fill:none;fill-rule:evenodd;stroke:#000000;stroke-width:2.0px;stroke-linecap:butt;stroke-linejoin:miter;stroke-opacity:1\"/>\n",
       "<path class=\"bond-35 atom-35 atom-36\" d=\"M 133.6,212.8 L 148.1,211.2\" style=\"fill:none;fill-rule:evenodd;stroke:#000000;stroke-width:2.0px;stroke-linecap:butt;stroke-linejoin:miter;stroke-opacity:1\"/>\n",
       "<path class=\"bond-36 atom-35 atom-37\" d=\"M 131.0,217.4 L 127.6,225.1\" style=\"fill:none;fill-rule:evenodd;stroke:#000000;stroke-width:2.0px;stroke-linecap:butt;stroke-linejoin:miter;stroke-opacity:1\"/>\n",
       "<path class=\"bond-36 atom-35 atom-37\" d=\"M 127.6,225.1 L 124.3,232.9\" style=\"fill:none;fill-rule:evenodd;stroke:#0000FF;stroke-width:2.0px;stroke-linecap:butt;stroke-linejoin:miter;stroke-opacity:1\"/>\n",
       "<path class=\"bond-37 atom-37 atom-38\" d=\"M 125.4,240.2 L 128.9,244.9\" style=\"fill:none;fill-rule:evenodd;stroke:#0000FF;stroke-width:2.0px;stroke-linecap:butt;stroke-linejoin:miter;stroke-opacity:1\"/>\n",
       "<path class=\"bond-37 atom-37 atom-38\" d=\"M 128.9,244.9 L 132.4,249.6\" style=\"fill:none;fill-rule:evenodd;stroke:#FF0000;stroke-width:2.0px;stroke-linecap:butt;stroke-linejoin:miter;stroke-opacity:1\"/>\n",
       "<path class=\"bond-38 atom-37 atom-39\" d=\"M 120.0,238.9 L 112.8,239.8\" style=\"fill:none;fill-rule:evenodd;stroke:#0000FF;stroke-width:2.0px;stroke-linecap:butt;stroke-linejoin:miter;stroke-opacity:1\"/>\n",
       "<path class=\"bond-38 atom-37 atom-39\" d=\"M 112.8,239.8 L 105.6,240.6\" style=\"fill:none;fill-rule:evenodd;stroke:#FF0000;stroke-width:2.0px;stroke-linecap:butt;stroke-linejoin:miter;stroke-opacity:1\"/>\n",
       "<path class=\"bond-38 atom-37 atom-39\" d=\"M 119.6,234.8 L 112.4,235.6\" style=\"fill:none;fill-rule:evenodd;stroke:#0000FF;stroke-width:2.0px;stroke-linecap:butt;stroke-linejoin:miter;stroke-opacity:1\"/>\n",
       "<path class=\"bond-38 atom-37 atom-39\" d=\"M 112.4,235.6 L 105.2,236.5\" style=\"fill:none;fill-rule:evenodd;stroke:#FF0000;stroke-width:2.0px;stroke-linecap:butt;stroke-linejoin:miter;stroke-opacity:1\"/>\n",
       "<path class=\"bond-39 atom-16 atom-40\" d=\"M 234.7,205.3 L 247.1,222.1\" style=\"fill:none;fill-rule:evenodd;stroke:#000000;stroke-width:2.0px;stroke-linecap:butt;stroke-linejoin:miter;stroke-opacity:1\"/>\n",
       "<path class=\"bond-40 atom-40 atom-41\" d=\"M 247.1,222.1 L 243.8,229.8\" style=\"fill:none;fill-rule:evenodd;stroke:#000000;stroke-width:2.0px;stroke-linecap:butt;stroke-linejoin:miter;stroke-opacity:1\"/>\n",
       "<path class=\"bond-40 atom-40 atom-41\" d=\"M 243.8,229.8 L 240.4,237.5\" style=\"fill:none;fill-rule:evenodd;stroke:#FF0000;stroke-width:2.0px;stroke-linecap:butt;stroke-linejoin:miter;stroke-opacity:1\"/>\n",
       "<path class=\"bond-41 atom-41 atom-42\" d=\"M 241.6,245.0 L 246.5,251.5\" style=\"fill:none;fill-rule:evenodd;stroke:#FF0000;stroke-width:2.0px;stroke-linecap:butt;stroke-linejoin:miter;stroke-opacity:1\"/>\n",
       "<path class=\"bond-41 atom-41 atom-42\" d=\"M 246.5,251.5 L 251.3,258.0\" style=\"fill:none;fill-rule:evenodd;stroke:#000000;stroke-width:2.0px;stroke-linecap:butt;stroke-linejoin:miter;stroke-opacity:1\"/>\n",
       "<path class=\"bond-42 atom-42 atom-43\" d=\"M 251.3,258.0 L 272.0,255.6\" style=\"fill:none;fill-rule:evenodd;stroke:#000000;stroke-width:2.0px;stroke-linecap:butt;stroke-linejoin:miter;stroke-opacity:1\"/>\n",
       "<path class=\"bond-42 atom-42 atom-43\" d=\"M 254.9,261.8 L 269.4,260.1\" style=\"fill:none;fill-rule:evenodd;stroke:#000000;stroke-width:2.0px;stroke-linecap:butt;stroke-linejoin:miter;stroke-opacity:1\"/>\n",
       "<path class=\"bond-43 atom-43 atom-44\" d=\"M 272.0,255.6 L 276.9,262.1\" style=\"fill:none;fill-rule:evenodd;stroke:#000000;stroke-width:2.0px;stroke-linecap:butt;stroke-linejoin:miter;stroke-opacity:1\"/>\n",
       "<path class=\"bond-43 atom-43 atom-44\" d=\"M 276.9,262.1 L 281.8,268.7\" style=\"fill:none;fill-rule:evenodd;stroke:#0000FF;stroke-width:2.0px;stroke-linecap:butt;stroke-linejoin:miter;stroke-opacity:1\"/>\n",
       "<path class=\"bond-44 atom-44 atom-45\" d=\"M 282.9,276.0 L 279.5,283.7\" style=\"fill:none;fill-rule:evenodd;stroke:#0000FF;stroke-width:2.0px;stroke-linecap:butt;stroke-linejoin:miter;stroke-opacity:1\"/>\n",
       "<path class=\"bond-44 atom-44 atom-45\" d=\"M 279.5,283.7 L 276.2,291.5\" style=\"fill:none;fill-rule:evenodd;stroke:#000000;stroke-width:2.0px;stroke-linecap:butt;stroke-linejoin:miter;stroke-opacity:1\"/>\n",
       "<path class=\"bond-44 atom-44 atom-45\" d=\"M 278.1,276.6 L 275.7,282.1\" style=\"fill:none;fill-rule:evenodd;stroke:#0000FF;stroke-width:2.0px;stroke-linecap:butt;stroke-linejoin:miter;stroke-opacity:1\"/>\n",
       "<path class=\"bond-44 atom-44 atom-45\" d=\"M 275.7,282.1 L 273.4,287.5\" style=\"fill:none;fill-rule:evenodd;stroke:#000000;stroke-width:2.0px;stroke-linecap:butt;stroke-linejoin:miter;stroke-opacity:1\"/>\n",
       "<path class=\"bond-45 atom-45 atom-46\" d=\"M 276.2,291.5 L 279.7,299.1\" style=\"fill:none;fill-rule:evenodd;stroke:#000000;stroke-width:2.0px;stroke-linecap:butt;stroke-linejoin:miter;stroke-opacity:1\"/>\n",
       "<path class=\"bond-45 atom-45 atom-46\" d=\"M 279.7,299.1 L 283.2,306.8\" style=\"fill:none;fill-rule:evenodd;stroke:#0000FF;stroke-width:2.0px;stroke-linecap:butt;stroke-linejoin:miter;stroke-opacity:1\"/>\n",
       "<path class=\"bond-46 atom-46 atom-47\" d=\"M 282.0,313.2 L 275.7,318.9\" style=\"fill:none;fill-rule:evenodd;stroke:#0000FF;stroke-width:2.0px;stroke-linecap:butt;stroke-linejoin:miter;stroke-opacity:1\"/>\n",
       "<path class=\"bond-46 atom-46 atom-47\" d=\"M 275.7,318.9 L 269.5,324.6\" style=\"fill:none;fill-rule:evenodd;stroke:#000000;stroke-width:2.0px;stroke-linecap:butt;stroke-linejoin:miter;stroke-opacity:1\"/>\n",
       "<path class=\"bond-47 atom-47 atom-48\" d=\"M 269.5,324.6 L 251.3,314.4\" style=\"fill:none;fill-rule:evenodd;stroke:#000000;stroke-width:2.0px;stroke-linecap:butt;stroke-linejoin:miter;stroke-opacity:1\"/>\n",
       "<path class=\"bond-47 atom-47 atom-48\" d=\"M 268.9,319.4 L 256.1,312.2\" style=\"fill:none;fill-rule:evenodd;stroke:#000000;stroke-width:2.0px;stroke-linecap:butt;stroke-linejoin:miter;stroke-opacity:1\"/>\n",
       "<path class=\"bond-48 atom-48 atom-49\" d=\"M 251.3,314.4 L 255.5,293.9\" style=\"fill:none;fill-rule:evenodd;stroke:#000000;stroke-width:2.0px;stroke-linecap:butt;stroke-linejoin:miter;stroke-opacity:1\"/>\n",
       "<path class=\"bond-49 atom-49 atom-50\" d=\"M 255.5,293.9 L 243.0,277.1\" style=\"fill:none;fill-rule:evenodd;stroke:#000000;stroke-width:2.0px;stroke-linecap:butt;stroke-linejoin:miter;stroke-opacity:1\"/>\n",
       "<path class=\"bond-49 atom-49 atom-50\" d=\"M 256.9,288.9 L 248.2,277.2\" style=\"fill:none;fill-rule:evenodd;stroke:#000000;stroke-width:2.0px;stroke-linecap:butt;stroke-linejoin:miter;stroke-opacity:1\"/>\n",
       "<path class=\"bond-50 atom-40 atom-51\" d=\"M 247.1,222.1 L 267.9,219.7\" style=\"fill:none;fill-rule:evenodd;stroke:#000000;stroke-width:2.0px;stroke-linecap:butt;stroke-linejoin:miter;stroke-opacity:1\"/>\n",
       "<path class=\"bond-50 atom-40 atom-51\" d=\"M 249.7,217.6 L 264.3,215.9\" style=\"fill:none;fill-rule:evenodd;stroke:#000000;stroke-width:2.0px;stroke-linecap:butt;stroke-linejoin:miter;stroke-opacity:1\"/>\n",
       "<path class=\"bond-51 atom-5 atom-52\" d=\"M 371.5,207.6 L 392.2,205.2\" style=\"fill:none;fill-rule:evenodd;stroke:#000000;stroke-width:2.0px;stroke-linecap:butt;stroke-linejoin:miter;stroke-opacity:1\"/>\n",
       "<path class=\"bond-51 atom-5 atom-52\" d=\"M 375.1,211.4 L 389.6,209.7\" style=\"fill:none;fill-rule:evenodd;stroke:#000000;stroke-width:2.0px;stroke-linecap:butt;stroke-linejoin:miter;stroke-opacity:1\"/>\n",
       "<path class=\"bond-52 atom-52 atom-53\" d=\"M 392.2,205.2 L 404.7,222.0\" style=\"fill:none;fill-rule:evenodd;stroke:#000000;stroke-width:2.0px;stroke-linecap:butt;stroke-linejoin:miter;stroke-opacity:1\"/>\n",
       "<path class=\"bond-53 atom-52 atom-54\" d=\"M 392.2,205.2 L 400.5,186.1\" style=\"fill:none;fill-rule:evenodd;stroke:#000000;stroke-width:2.0px;stroke-linecap:butt;stroke-linejoin:miter;stroke-opacity:1\"/>\n",
       "<path class=\"bond-54 atom-54 atom-55\" d=\"M 400.5,186.1 L 421.3,183.6\" style=\"fill:none;fill-rule:evenodd;stroke:#000000;stroke-width:2.0px;stroke-linecap:butt;stroke-linejoin:miter;stroke-opacity:1\"/>\n",
       "<path class=\"bond-54 atom-54 atom-55\" d=\"M 403.2,181.5 L 417.7,179.9\" style=\"fill:none;fill-rule:evenodd;stroke:#000000;stroke-width:2.0px;stroke-linecap:butt;stroke-linejoin:miter;stroke-opacity:1\"/>\n",
       "<path class=\"bond-55 atom-55 atom-56\" d=\"M 421.3,183.6 L 429.5,164.5\" style=\"fill:none;fill-rule:evenodd;stroke:#000000;stroke-width:2.0px;stroke-linecap:butt;stroke-linejoin:miter;stroke-opacity:1\"/>\n",
       "<path class=\"bond-56 atom-56 atom-57\" d=\"M 429.5,164.5 L 417.1,147.7\" style=\"fill:none;fill-rule:evenodd;stroke:#000000;stroke-width:2.0px;stroke-linecap:butt;stroke-linejoin:miter;stroke-opacity:1\"/>\n",
       "<path class=\"bond-56 atom-56 atom-57\" d=\"M 424.3,164.5 L 415.6,152.7\" style=\"fill:none;fill-rule:evenodd;stroke:#000000;stroke-width:2.0px;stroke-linecap:butt;stroke-linejoin:miter;stroke-opacity:1\"/>\n",
       "<path class=\"bond-57 atom-57 atom-58\" d=\"M 417.1,147.7 L 420.4,140.1\" style=\"fill:none;fill-rule:evenodd;stroke:#000000;stroke-width:2.0px;stroke-linecap:butt;stroke-linejoin:miter;stroke-opacity:1\"/>\n",
       "<path class=\"bond-57 atom-57 atom-58\" d=\"M 420.4,140.1 L 423.7,132.5\" style=\"fill:none;fill-rule:evenodd;stroke:#00CC00;stroke-width:2.0px;stroke-linecap:butt;stroke-linejoin:miter;stroke-opacity:1\"/>\n",
       "<path class=\"bond-58 atom-57 atom-59\" d=\"M 417.1,147.7 L 396.4,150.1\" style=\"fill:none;fill-rule:evenodd;stroke:#000000;stroke-width:2.0px;stroke-linecap:butt;stroke-linejoin:miter;stroke-opacity:1\"/>\n",
       "<path class=\"bond-59 atom-59 atom-60\" d=\"M 396.4,150.1 L 388.1,169.3\" style=\"fill:none;fill-rule:evenodd;stroke:#000000;stroke-width:2.0px;stroke-linecap:butt;stroke-linejoin:miter;stroke-opacity:1\"/>\n",
       "<path class=\"bond-59 atom-59 atom-60\" d=\"M 399.0,154.7 L 393.2,168.1\" style=\"fill:none;fill-rule:evenodd;stroke:#000000;stroke-width:2.0px;stroke-linecap:butt;stroke-linejoin:miter;stroke-opacity:1\"/>\n",
       "<path class=\"bond-60 atom-53 atom-1\" d=\"M 404.7,222.0 L 396.4,241.1\" style=\"fill:none;fill-rule:evenodd;stroke:#000000;stroke-width:2.0px;stroke-linecap:butt;stroke-linejoin:miter;stroke-opacity:1\"/>\n",
       "<path class=\"bond-61 atom-60 atom-54\" d=\"M 388.1,169.3 L 400.5,186.1\" style=\"fill:none;fill-rule:evenodd;stroke:#000000;stroke-width:2.0px;stroke-linecap:butt;stroke-linejoin:miter;stroke-opacity:1\"/>\n",
       "<path class=\"bond-62 atom-12 atom-7\" d=\"M 330.1,212.4 L 333.4,204.7\" style=\"fill:none;fill-rule:evenodd;stroke:#000000;stroke-width:2.0px;stroke-linecap:butt;stroke-linejoin:miter;stroke-opacity:1\"/>\n",
       "<path class=\"bond-62 atom-12 atom-7\" d=\"M 333.4,204.7 L 336.8,196.9\" style=\"fill:none;fill-rule:evenodd;stroke:#0000FF;stroke-width:2.0px;stroke-linecap:butt;stroke-linejoin:miter;stroke-opacity:1\"/>\n",
       "<path class=\"bond-63 atom-51 atom-13\" d=\"M 267.9,219.7 L 276.1,200.5\" style=\"fill:none;fill-rule:evenodd;stroke:#000000;stroke-width:2.0px;stroke-linecap:butt;stroke-linejoin:miter;stroke-opacity:1\"/>\n",
       "<path class=\"bond-64 atom-36 atom-23\" d=\"M 151.7,214.9 L 160.0,195.8\" style=\"fill:none;fill-rule:evenodd;stroke:#000000;stroke-width:2.0px;stroke-linecap:butt;stroke-linejoin:miter;stroke-opacity:1\"/>\n",
       "<path class=\"bond-65 atom-50 atom-42\" d=\"M 243.0,277.1 L 251.3,258.0\" style=\"fill:none;fill-rule:evenodd;stroke:#000000;stroke-width:2.0px;stroke-linecap:butt;stroke-linejoin:miter;stroke-opacity:1\"/>\n",
       "<path class=\"bond-66 atom-34 atom-29\" d=\"M 56.4,207.8 L 64.6,188.7\" style=\"fill:none;fill-rule:evenodd;stroke:#000000;stroke-width:2.0px;stroke-linecap:butt;stroke-linejoin:miter;stroke-opacity:1\"/>\n",
       "<path class=\"bond-67 atom-49 atom-45\" d=\"M 255.5,293.9 L 276.2,291.5\" style=\"fill:none;fill-rule:evenodd;stroke:#000000;stroke-width:2.0px;stroke-linecap:butt;stroke-linejoin:miter;stroke-opacity:1\"/>\n",
       "<path class=\"atom-7\" d=\"M 337.0 190.3 L 339.0 193.5 Q 339.2 193.8, 339.5 194.3 Q 339.8 194.9, 339.8 194.9 L 339.8 190.3 L 340.6 190.3 L 340.6 196.2 L 339.8 196.2 L 337.7 192.8 Q 337.4 192.4, 337.2 192.0 Q 336.9 191.5, 336.9 191.3 L 336.9 196.2 L 336.1 196.2 L 336.1 190.3 L 337.0 190.3 \" fill=\"#0000FF\"/>\n",
       "<path class=\"atom-10\" d=\"M 295.6 195.1 L 297.5 198.3 Q 297.7 198.6, 298.0 199.1 Q 298.3 199.7, 298.3 199.7 L 298.3 195.1 L 299.1 195.1 L 299.1 201.0 L 298.3 201.0 L 296.2 197.6 Q 296.0 197.2, 295.7 196.8 Q 295.5 196.3, 295.4 196.2 L 295.4 201.0 L 294.6 201.0 L 294.6 195.1 L 295.6 195.1 \" fill=\"#0000FF\"/>\n",
       "<path class=\"atom-18\" d=\"M 202.9 226.9 Q 202.9 225.5, 203.6 224.7 Q 204.3 223.9, 205.7 223.9 Q 207.0 223.9, 207.7 224.7 Q 208.4 225.5, 208.4 226.9 Q 208.4 228.3, 207.7 229.2 Q 206.9 230.0, 205.7 230.0 Q 204.4 230.0, 203.6 229.2 Q 202.9 228.3, 202.9 226.9 M 205.7 229.3 Q 206.6 229.3, 207.0 228.7 Q 207.5 228.1, 207.5 226.9 Q 207.5 225.7, 207.0 225.2 Q 206.6 224.6, 205.7 224.6 Q 204.8 224.6, 204.3 225.1 Q 203.8 225.7, 203.8 226.9 Q 203.8 228.1, 204.3 228.7 Q 204.8 229.3, 205.7 229.3 \" fill=\"#FF0000\"/>\n",
       "<path class=\"atom-19\" d=\"M 200.2 188.0 L 202.1 191.1 Q 202.3 191.5, 202.6 192.0 Q 202.9 192.6, 202.9 192.6 L 202.9 188.0 L 203.7 188.0 L 203.7 193.9 L 202.9 193.9 L 200.8 190.5 Q 200.6 190.1, 200.3 189.6 Q 200.1 189.2, 200.0 189.0 L 200.0 193.9 L 199.2 193.9 L 199.2 188.0 L 200.2 188.0 \" fill=\"#0000FF\"/>\n",
       "<path class=\"atom-19\" d=\"M 204.4 188.0 L 205.2 188.0 L 205.2 190.5 L 208.2 190.5 L 208.2 188.0 L 209.0 188.0 L 209.0 193.9 L 208.2 193.9 L 208.2 191.2 L 205.2 191.2 L 205.2 193.9 L 204.4 193.9 L 204.4 188.0 \" fill=\"#0000FF\"/>\n",
       "<path class=\"atom-20\" d=\"M 179.1 195.4 Q 179.1 195.4, 179.4 195.6 Q 179.7 195.7, 180.0 195.7 Q 180.3 195.8, 180.6 195.8 Q 181.2 195.8, 181.5 195.5 Q 181.8 195.3, 181.8 194.8 Q 181.8 194.5, 181.7 194.3 Q 181.5 194.1, 181.2 194.0 Q 181.0 193.8, 180.6 193.7 Q 180.0 193.6, 179.7 193.4 Q 179.4 193.3, 179.2 192.9 Q 179.0 192.6, 179.0 192.1 Q 179.0 191.4, 179.5 190.9 Q 180.0 190.4, 181.0 190.4 Q 181.7 190.4, 182.5 190.8 L 182.3 191.4 Q 181.6 191.1, 181.0 191.1 Q 180.4 191.1, 180.1 191.4 Q 179.8 191.6, 179.8 192.0 Q 179.8 192.3, 180.0 192.5 Q 180.1 192.7, 180.4 192.8 Q 180.6 192.9, 181.0 193.0 Q 181.6 193.2, 181.9 193.4 Q 182.2 193.5, 182.4 193.9 Q 182.6 194.2, 182.6 194.8 Q 182.6 195.6, 182.1 196.1 Q 181.6 196.5, 180.6 196.5 Q 180.1 196.5, 179.7 196.4 Q 179.3 196.3, 178.9 196.1 L 179.1 195.4 \" fill=\"#CCCC00\"/>\n",
       "<path class=\"atom-21\" d=\"M 180.4 214.1 Q 180.4 212.7, 181.1 211.9 Q 181.8 211.1, 183.2 211.1 Q 184.5 211.1, 185.2 211.9 Q 185.9 212.7, 185.9 214.1 Q 185.9 215.6, 185.2 216.4 Q 184.5 217.2, 183.2 217.2 Q 181.9 217.2, 181.1 216.4 Q 180.4 215.6, 180.4 214.1 M 183.2 216.5 Q 184.1 216.5, 184.5 215.9 Q 185.0 215.3, 185.0 214.1 Q 185.0 213.0, 184.5 212.4 Q 184.1 211.8, 183.2 211.8 Q 182.3 211.8, 181.8 212.4 Q 181.3 213.0, 181.3 214.1 Q 181.3 215.3, 181.8 215.9 Q 182.3 216.5, 183.2 216.5 \" fill=\"#FF0000\"/>\n",
       "<path class=\"atom-22\" d=\"M 175.6 172.7 Q 175.6 171.2, 176.3 170.5 Q 177.0 169.7, 178.3 169.7 Q 179.7 169.7, 180.4 170.5 Q 181.1 171.2, 181.1 172.7 Q 181.1 174.1, 180.3 174.9 Q 179.6 175.7, 178.3 175.7 Q 177.0 175.7, 176.3 174.9 Q 175.6 174.1, 175.6 172.7 M 178.3 175.1 Q 179.2 175.1, 179.7 174.5 Q 180.2 173.9, 180.2 172.7 Q 180.2 171.5, 179.7 170.9 Q 179.2 170.3, 178.3 170.3 Q 177.4 170.3, 176.9 170.9 Q 176.5 171.5, 176.5 172.7 Q 176.5 173.9, 176.9 174.5 Q 177.4 175.1, 178.3 175.1 \" fill=\"#FF0000\"/>\n",
       "<path class=\"atom-27\" d=\"M 90.2 200.1 L 91.0 200.1 L 91.0 202.6 L 94.1 202.6 L 94.1 200.1 L 94.9 200.1 L 94.9 206.0 L 94.1 206.0 L 94.1 203.2 L 91.0 203.2 L 91.0 206.0 L 90.2 206.0 L 90.2 200.1 \" fill=\"#0000FF\"/>\n",
       "<path class=\"atom-27\" d=\"M 96.5 200.1 L 98.4 203.2 Q 98.6 203.5, 98.9 204.1 Q 99.3 204.6, 99.3 204.6 L 99.3 200.1 L 100.1 200.1 L 100.1 206.0 L 99.3 206.0 L 97.2 202.5 Q 96.9 202.1, 96.7 201.7 Q 96.4 201.2, 96.3 201.1 L 96.3 206.0 L 95.6 206.0 L 95.6 200.1 L 96.5 200.1 \" fill=\"#0000FF\"/>\n",
       "<path class=\"atom-32\" d=\"M 20.5 193.5 Q 20.5 192.1, 21.2 191.3 Q 21.9 190.5, 23.2 190.5 Q 24.5 190.5, 25.2 191.3 Q 25.9 192.1, 25.9 193.5 Q 25.9 194.9, 25.2 195.8 Q 24.5 196.6, 23.2 196.6 Q 21.9 196.6, 21.2 195.8 Q 20.5 194.9, 20.5 193.5 M 23.2 195.9 Q 24.1 195.9, 24.6 195.3 Q 25.0 194.7, 25.0 193.5 Q 25.0 192.3, 24.6 191.8 Q 24.1 191.2, 23.2 191.2 Q 22.3 191.2, 21.8 191.7 Q 21.3 192.3, 21.3 193.5 Q 21.3 194.7, 21.8 195.3 Q 22.3 195.9, 23.2 195.9 \" fill=\"#FF0000\"/>\n",
       "<path class=\"atom-37\" d=\"M 121.4 233.6 L 123.4 236.7 Q 123.5 237.0, 123.9 237.6 Q 124.2 238.1, 124.2 238.2 L 124.2 233.6 L 125.0 233.6 L 125.0 239.5 L 124.2 239.5 L 122.1 236.0 Q 121.8 235.6, 121.6 235.2 Q 121.3 234.7, 121.2 234.6 L 121.2 239.5 L 120.5 239.5 L 120.5 233.6 L 121.4 233.6 \" fill=\"#0000FF\"/>\n",
       "<path class=\"atom-37\" d=\"M 125.7 234.6 L 126.7 234.6 L 126.7 233.5 L 127.2 233.5 L 127.2 234.6 L 128.2 234.6 L 128.2 235.0 L 127.2 235.0 L 127.2 236.1 L 126.7 236.1 L 126.7 235.0 L 125.7 235.0 L 125.7 234.6 \" fill=\"#0000FF\"/>\n",
       "<path class=\"atom-38\" d=\"M 132.5 253.3 Q 132.5 251.9, 133.2 251.1 Q 133.9 250.3, 135.2 250.3 Q 136.5 250.3, 137.2 251.1 Q 137.9 251.9, 137.9 253.3 Q 137.9 254.7, 137.2 255.5 Q 136.5 256.3, 135.2 256.3 Q 133.9 256.3, 133.2 255.5 Q 132.5 254.7, 132.5 253.3 M 135.2 255.7 Q 136.1 255.7, 136.6 255.1 Q 137.1 254.5, 137.1 253.3 Q 137.1 252.1, 136.6 251.5 Q 136.1 250.9, 135.2 250.9 Q 134.3 250.9, 133.8 251.5 Q 133.3 252.1, 133.3 253.3 Q 133.3 254.5, 133.8 255.1 Q 134.3 255.7, 135.2 255.7 \" fill=\"#FF0000\"/>\n",
       "<path class=\"atom-38\" d=\"M 138.3 251.2 L 140.3 251.2 L 140.3 251.7 L 138.3 251.7 L 138.3 251.2 \" fill=\"#FF0000\"/>\n",
       "<path class=\"atom-39\" d=\"M 99.3 238.9 Q 99.3 237.5, 100.0 236.7 Q 100.7 235.9, 102.0 235.9 Q 103.3 235.9, 104.0 236.7 Q 104.7 237.5, 104.7 238.9 Q 104.7 240.4, 104.0 241.2 Q 103.3 242.0, 102.0 242.0 Q 100.7 242.0, 100.0 241.2 Q 99.3 240.4, 99.3 238.9 M 102.0 241.3 Q 102.9 241.3, 103.4 240.7 Q 103.9 240.1, 103.9 238.9 Q 103.9 237.8, 103.4 237.2 Q 102.9 236.6, 102.0 236.6 Q 101.1 236.6, 100.6 237.2 Q 100.1 237.8, 100.1 238.9 Q 100.1 240.1, 100.6 240.7 Q 101.1 241.3, 102.0 241.3 \" fill=\"#FF0000\"/>\n",
       "<path class=\"atom-41\" d=\"M 236.1 241.2 Q 236.1 239.8, 236.8 239.0 Q 237.5 238.2, 238.8 238.2 Q 240.1 238.2, 240.8 239.0 Q 241.6 239.8, 241.6 241.2 Q 241.6 242.7, 240.8 243.5 Q 240.1 244.3, 238.8 244.3 Q 237.5 244.3, 236.8 243.5 Q 236.1 242.7, 236.1 241.2 M 238.8 243.6 Q 239.7 243.6, 240.2 243.0 Q 240.7 242.4, 240.7 241.2 Q 240.7 240.1, 240.2 239.5 Q 239.7 238.9, 238.8 238.9 Q 237.9 238.9, 237.4 239.5 Q 237.0 240.1, 237.0 241.2 Q 237.0 242.4, 237.4 243.0 Q 237.9 243.6, 238.8 243.6 \" fill=\"#FF0000\"/>\n",
       "<path class=\"atom-44\" d=\"M 283.2 269.4 L 285.1 272.5 Q 285.3 272.8, 285.6 273.4 Q 285.9 273.9, 285.9 274.0 L 285.9 269.4 L 286.7 269.4 L 286.7 275.3 L 285.9 275.3 L 283.8 271.9 Q 283.6 271.5, 283.3 271.0 Q 283.1 270.5, 283.0 270.4 L 283.0 275.3 L 282.2 275.3 L 282.2 269.4 L 283.2 269.4 \" fill=\"#0000FF\"/>\n",
       "<path class=\"atom-46\" d=\"M 283.6 307.5 L 285.5 310.6 Q 285.7 310.9, 286.0 311.5 Q 286.3 312.1, 286.3 312.1 L 286.3 307.5 L 287.1 307.5 L 287.1 313.4 L 286.3 313.4 L 284.2 310.0 Q 284.0 309.6, 283.7 309.1 Q 283.5 308.7, 283.4 308.5 L 283.4 313.4 L 282.6 313.4 L 282.6 307.5 L 283.6 307.5 \" fill=\"#0000FF\"/>\n",
       "<path class=\"atom-46\" d=\"M 287.8 307.5 L 288.6 307.5 L 288.6 310.0 L 291.6 310.0 L 291.6 307.5 L 292.4 307.5 L 292.4 313.4 L 291.6 313.4 L 291.6 310.7 L 288.6 310.7 L 288.6 313.4 L 287.8 313.4 L 287.8 307.5 \" fill=\"#0000FF\"/>\n",
       "<path class=\"atom-58\" d=\"M 423.1 128.8 Q 423.1 127.3, 423.8 126.5 Q 424.5 125.8, 425.8 125.8 Q 427.0 125.8, 427.7 126.6 L 427.1 127.1 Q 426.6 126.5, 425.8 126.5 Q 424.9 126.5, 424.4 127.1 Q 423.9 127.6, 423.9 128.8 Q 423.9 130.0, 424.4 130.6 Q 424.9 131.2, 425.9 131.2 Q 426.5 131.2, 427.3 130.8 L 427.5 131.4 Q 427.2 131.6, 426.7 131.7 Q 426.3 131.8, 425.8 131.8 Q 424.5 131.8, 423.8 131.0 Q 423.1 130.3, 423.1 128.8 \" fill=\"#00CC00\"/>\n",
       "<path class=\"atom-58\" d=\"M 428.0 125.4 L 428.8 125.4 L 428.8 131.7 L 428.0 131.7 L 428.0 125.4 \" fill=\"#00CC00\"/>\n",
       "<text x=\"160\" y=\"440\" font-size=\"16\" font-family=\"Verdana\" font-weight=\"normal\" letter-spacing=\"0\" text-anchor=\"start\" fill=\"black\">49846579 PubChem ID</text></svg>"
      ],
      "text/plain": [
       "<IPython.core.display.SVG object>"
      ]
     },
     "execution_count": 39,
     "metadata": {},
     "output_type": "execute_result"
    }
   ],
   "source": [
    "from rdkit import Chem\n",
    "from IPython.display import SVG\n",
    "from rdkit.Chem import rdDepictor\n",
    "from rdkit.Chem.Draw import rdMolDraw2D\n",
    "\n",
    "mol = Chem.MolFromSmiles('CC1(C)CCC(CN2CCN(CC2)c2ccc(C(=O)NS(=O)(=O)c3ccc(NCC4CCOCC4)c(c3)[N+]([O-])=O)c(Oc3cnc4[nH]ccc4c3)c2)=C(C1)c1ccc(Cl)cc1')\n",
    "rdDepictor.Compute2DCoords(mol)\n",
    "drawer = rdMolDraw2D.MolDraw2DSVG(450, 450)\n",
    "drawer.DrawMolecule(mol)\n",
    "drawer.FinishDrawing()\n",
    "\n",
    "# svg to text\n",
    "s = drawer.GetDrawingText()\n",
    "s = s.replace('svg:','')\n",
    "\n",
    "# use svgutils to add text to svg\n",
    "import svgutils.transform as sg\n",
    "fig = sg.fromstring(s)\n",
    "label = sg.TextElement(160, 440, \n",
    "                       \"49846579 PubChem ID\", size=16, \n",
    "                      )\n",
    "fig.append(label)\n",
    "root = \"/home/babs/Documents/DIFACQUIM/PPI_ML/phase1/driver_code/chemical_structures/\"\n",
    "fig.save(f\"{root}1798.svg\")\n",
    "SVG(fig.to_str())"
   ]
  },
  {
   "cell_type": "code",
   "execution_count": 40,
   "id": "e15a7fe4",
   "metadata": {},
   "outputs": [
    {
     "data": {
      "text/plain": [
       "PIL.PngImagePlugin.PngImageFile"
      ]
     },
     "execution_count": 40,
     "metadata": {},
     "output_type": "execute_result"
    }
   ],
   "source": [
    "mol_ = Chem.Draw.MolToImage(mol_)\n",
    "type(mol_)"
   ]
  },
  {
   "cell_type": "code",
   "execution_count": 41,
   "id": "cd59b1de",
   "metadata": {},
   "outputs": [],
   "source": [
    "from rdkit.Chem import rdMolDescriptors\n",
    "from rdkit.Chem import Draw\n",
    "positive_mol = Chem.MolFromSmiles(positive_molecule)\n",
    "bi = {}\n",
    "fp = rdMolDescriptors.GetMorganFingerprintAsBitVect(\n",
    "        positive_mol, radius=3, bitInfo=bi)"
   ]
  },
  {
   "cell_type": "code",
   "execution_count": 43,
   "id": "b464bef2",
   "metadata": {},
   "outputs": [],
   "source": [
    "desired_bits =  (935, 1160, 753, 147, 1684)"
   ]
  },
  {
   "cell_type": "code",
   "execution_count": 44,
   "id": "e8b1cb45",
   "metadata": {},
   "outputs": [
    {
     "data": {
      "text/plain": [
       "[935, 1160, 753, 147, 1684]"
      ]
     },
     "execution_count": 44,
     "metadata": {},
     "output_type": "execute_result"
    }
   ],
   "source": [
    "desired_bites = common_bits(coeff, get_ECFP6_bits(positive_molecule))\n",
    "desired_bites"
   ]
  },
  {
   "cell_type": "code",
   "execution_count": 47,
   "id": "7f29efff",
   "metadata": {},
   "outputs": [],
   "source": [
    "desired_bits =  (935, 1160, 147, 1684)"
   ]
  },
  {
   "cell_type": "code",
   "execution_count": 48,
   "id": "46fd1b56",
   "metadata": {},
   "outputs": [],
   "source": [
    "#set desired bites manually"
   ]
  },
  {
   "cell_type": "code",
   "execution_count": 49,
   "id": "d14ae320",
   "metadata": {},
   "outputs": [],
   "source": [
    "#Visualizacion con filtro\n",
    "tpls =[(positive_mol,x,bi) for x in fp.GetOnBits() if x in desired_bits]\n",
    "# print(tpls)\n",
    "\n",
    "\n",
    "drawOptions = Draw.rdMolDraw2D.MolDrawOptions()\n",
    "drawer = Draw.DrawMorganBits(tpls,molsPerRow=4,legends=[str(x) for x in fp.GetOnBits() if x in desired_bits ], \n",
    "                             #useSVG=True,\n",
    "                             subImgSize=(450, 450),\n",
    "                             drawOptions = drawOptions,\n",
    "                            )\n"
   ]
  },
  {
   "cell_type": "code",
   "execution_count": 50,
   "id": "9313189a",
   "metadata": {},
   "outputs": [],
   "source": [
    "drawer.save(\"1798_fragments.jpg\")"
   ]
  },
  {
   "cell_type": "code",
   "execution_count": 51,
   "id": "cf36adba",
   "metadata": {},
   "outputs": [
    {
     "data": {
      "image/png": "[encoded data removed]",
      "text/plain": [
       "<PIL.PngImagePlugin.PngImageFile image mode=RGB size=1800x450 at 0x7F445F980430>"
      ]
     },
     "execution_count": 51,
     "metadata": {},
     "output_type": "execute_result"
    }
   ],
   "source": [
    "drawer"
   ]
  },
  {
   "cell_type": "code",
   "execution_count": 52,
   "id": "533e413e",
   "metadata": {},
   "outputs": [],
   "source": [
    "from PIL import Image\n",
    "#Read the two images\n",
    "#image1 = mol_\n",
    "image1 = Image.open(f'{root}1798.jpg')\n",
    "image1.show()\n",
    "image2 = Image.open(f'{root}1798_fragments.jpg')\n",
    "#image2.show()\n",
    "#resize, first image\n",
    "image1 = image1.resize((450, 450))\n",
    "#image2 = image2.resize((450, 450))\n",
    "image1_size = image1.size\n",
    "image2_size = image2.size\n",
    "new_image = Image.new('RGB',(5*image1_size[0], image1_size[1]), (450, 450, 450))\n",
    "new_image.paste(image1,(0,0))\n",
    "new_image.paste(image2,(image1_size[0],0))\n",
    "new_image.save(f\"{root}id1798_merged.jpg\",\"JPEG\")\n",
    "new_image.show()"
   ]
  },
  {
   "cell_type": "markdown",
   "id": "731c724c",
   "metadata": {},
   "source": [
    "# filter negatives"
   ]
  },
  {
   "cell_type": "code",
   "execution_count": null,
   "id": "0bf5b87c",
   "metadata": {},
   "outputs": [],
   "source": [
    "negative_0 = filter_negative_bits([\"558\"], data)\n",
    "negative_0.head(2)"
   ]
  },
  {
   "cell_type": "code",
   "execution_count": null,
   "id": "72d90033",
   "metadata": {},
   "outputs": [],
   "source": [
    "negative_molecule_0 = negative_0.iloc[0]\n",
    "negative_molecule_0.SMILES\n",
    "# draw_one_fragment(positive_molecule, 57)"
   ]
  },
  {
   "cell_type": "code",
   "execution_count": null,
   "id": "3913b2c2",
   "metadata": {},
   "outputs": [],
   "source": [
    "draw_one_fragment(positive_molecule, 57)"
   ]
  },
  {
   "cell_type": "code",
   "execution_count": null,
   "id": "5646d3aa",
   "metadata": {},
   "outputs": [],
   "source": [
    "draw_one_fragment(positive_molecule, 57)"
   ]
  },
  {
   "cell_type": "code",
   "execution_count": null,
   "id": "5915e073",
   "metadata": {},
   "outputs": [],
   "source": [
    "negative_1 = filter_negative_bits([\"558\", \"1\"], data)\n",
    "negative_1.head()"
   ]
  },
  {
   "cell_type": "code",
   "execution_count": null,
   "id": "c26dbe76",
   "metadata": {},
   "outputs": [],
   "source": [
    "# calculo de porcentajes 548\n",
    "negatives = negative_0[negative_0[\"library\"]==\"PPI\"].shape[0]"
   ]
  },
  {
   "cell_type": "code",
   "execution_count": null,
   "id": "153363e6",
   "metadata": {},
   "outputs": [],
   "source": [
    "total = data[data[\"library\"]==\"PPI\"].shape[0]"
   ]
  },
  {
   "cell_type": "code",
   "execution_count": null,
   "id": "ad828666",
   "metadata": {},
   "outputs": [],
   "source": [
    "percentage = (negatives/total)\n",
    "percentage"
   ]
  },
  {
   "cell_type": "code",
   "execution_count": null,
   "id": "ab55d2f0",
   "metadata": {},
   "outputs": [],
   "source": []
  }
 ],
 "metadata": {
  "kernelspec": {
   "display_name": "Python 3",
   "language": "python",
   "name": "python3"
  },
  "language_info": {
   "codemirror_mode": {
    "name": "ipython",
    "version": 3
   },
   "file_extension": ".py",
   "mimetype": "text/x-python",
   "name": "python",
   "nbconvert_exporter": "python",
   "pygments_lexer": "ipython3",
   "version": "3.8.5"
  }
 },
 "nbformat": 4,
 "nbformat_minor": 5
}
